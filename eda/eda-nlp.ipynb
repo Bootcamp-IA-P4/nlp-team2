{
 "cells": [
  {
   "cell_type": "markdown",
   "id": "239afca8",
   "metadata": {},
   "source": [
    "# Análisis exploratorio de datos - **Comentarios Youtube**"
   ]
  },
  {
   "cell_type": "markdown",
   "id": "e297acf1",
   "metadata": {},
   "source": [
    "### Importar librerías necesarias"
   ]
  },
  {
   "cell_type": "code",
   "execution_count": 1,
   "id": "abbff3f9",
   "metadata": {},
   "outputs": [],
   "source": [
    "import pandas as pd\n",
    "import numpy as np\n",
    "import matplotlib.pyplot as plt\n",
    "import seaborn as sns\n",
    "import plotly.express as px\n",
    "import plotly.graph_objects as go\n",
    "from plotly.subplots import make_subplots\n",
    "import re\n",
    "from collections import Counter\n",
    "from wordcloud import WordCloud\n",
    "import nltk\n",
    "from nltk.corpus import stopwords\n",
    "from nltk.tokenize import word_tokenize\n",
    "import warnings\n",
    "warnings.filterwarnings('ignore')\n",
    "\n",
    "# Configuración de estilo\n",
    "plt.style.use('seaborn-v0_8')\n",
    "sns.set_palette(\"husl\")\n",
    "\n",
    "# Descargar recursos de NLTK si es necesario\n",
    "try:\n",
    "    stopwords.words('english')\n",
    "except:\n",
    "    nltk.download('stopwords')\n",
    "    nltk.download('punkt')"
   ]
  },
  {
   "cell_type": "markdown",
   "id": "64feebcf",
   "metadata": {},
   "source": [
    "## 1 . CARGA E INSPECCIÓN INICIAL DE DATOS"
   ]
  },
  {
   "cell_type": "code",
   "execution_count": 2,
   "id": "fbd38186",
   "metadata": {},
   "outputs": [
    {
     "name": "stdout",
     "output_type": "stream",
     "text": [
      "📊 INFORMACIÓN BÁSICA DEL DATASET\n",
      "==================================================\n",
      "Dimensiones: (1000, 15)\n",
      "Número de filas: 1000\n",
      "Número de columnas: 15\n",
      "\n",
      "📋 Columnas disponibles:\n",
      "['CommentId', 'VideoId', 'Text', 'IsToxic', 'IsAbusive', 'IsThreat', 'IsProvocative', 'IsObscene', 'IsHatespeech', 'IsRacist', 'IsNationalist', 'IsSexist', 'IsHomophobic', 'IsReligiousHate', 'IsRadicalism']\n"
     ]
    }
   ],
   "source": [
    "df = pd.read_csv('../data/youtoxic_english_1000.csv')\n",
    "\n",
    "print(\"📊 INFORMACIÓN BÁSICA DEL DATASET\")\n",
    "print(\"=\"*50)\n",
    "print(f\"Dimensiones: {df.shape}\")\n",
    "print(f\"Número de filas: {df.shape[0]}\")\n",
    "print(f\"Número de columnas: {df.shape[1]}\")\n",
    "print(\"\\n📋 Columnas disponibles:\")\n",
    "print(df.columns.tolist())"
   ]
  },
  {
   "cell_type": "markdown",
   "id": "7678d44d",
   "metadata": {},
   "source": [
    "##  2. ESTRUCTURA Y CALIDAD DE DATOS"
   ]
  },
  {
   "cell_type": "code",
   "execution_count": 3,
   "id": "ae2cd300",
   "metadata": {},
   "outputs": [
    {
     "name": "stdout",
     "output_type": "stream",
     "text": [
      "🔍 INFORMACIÓN DETALLADA\n",
      "==============================\n",
      "<class 'pandas.core.frame.DataFrame'>\n",
      "RangeIndex: 1000 entries, 0 to 999\n",
      "Data columns (total 15 columns):\n",
      " #   Column           Non-Null Count  Dtype \n",
      "---  ------           --------------  ----- \n",
      " 0   CommentId        1000 non-null   object\n",
      " 1   VideoId          1000 non-null   object\n",
      " 2   Text             1000 non-null   object\n",
      " 3   IsToxic          1000 non-null   bool  \n",
      " 4   IsAbusive        1000 non-null   bool  \n",
      " 5   IsThreat         1000 non-null   bool  \n",
      " 6   IsProvocative    1000 non-null   bool  \n",
      " 7   IsObscene        1000 non-null   bool  \n",
      " 8   IsHatespeech     1000 non-null   bool  \n",
      " 9   IsRacist         1000 non-null   bool  \n",
      " 10  IsNationalist    1000 non-null   bool  \n",
      " 11  IsSexist         1000 non-null   bool  \n",
      " 12  IsHomophobic     1000 non-null   bool  \n",
      " 13  IsReligiousHate  1000 non-null   bool  \n",
      " 14  IsRadicalism     1000 non-null   bool  \n",
      "dtypes: bool(12), object(3)\n",
      "memory usage: 35.3+ KB\n",
      "None\n",
      "\n",
      "🎯 PRIMERAS 5 FILAS:\n"
     ]
    },
    {
     "data": {
      "text/html": [
       "<div>\n",
       "<style scoped>\n",
       "    .dataframe tbody tr th:only-of-type {\n",
       "        vertical-align: middle;\n",
       "    }\n",
       "\n",
       "    .dataframe tbody tr th {\n",
       "        vertical-align: top;\n",
       "    }\n",
       "\n",
       "    .dataframe thead th {\n",
       "        text-align: right;\n",
       "    }\n",
       "</style>\n",
       "<table border=\"1\" class=\"dataframe\">\n",
       "  <thead>\n",
       "    <tr style=\"text-align: right;\">\n",
       "      <th></th>\n",
       "      <th>CommentId</th>\n",
       "      <th>VideoId</th>\n",
       "      <th>Text</th>\n",
       "      <th>IsToxic</th>\n",
       "      <th>IsAbusive</th>\n",
       "      <th>IsThreat</th>\n",
       "      <th>IsProvocative</th>\n",
       "      <th>IsObscene</th>\n",
       "      <th>IsHatespeech</th>\n",
       "      <th>IsRacist</th>\n",
       "      <th>IsNationalist</th>\n",
       "      <th>IsSexist</th>\n",
       "      <th>IsHomophobic</th>\n",
       "      <th>IsReligiousHate</th>\n",
       "      <th>IsRadicalism</th>\n",
       "    </tr>\n",
       "  </thead>\n",
       "  <tbody>\n",
       "    <tr>\n",
       "      <th>0</th>\n",
       "      <td>Ugg2KwwX0V8-aXgCoAEC</td>\n",
       "      <td>04kJtp6pVXI</td>\n",
       "      <td>If only people would just take a step back and...</td>\n",
       "      <td>False</td>\n",
       "      <td>False</td>\n",
       "      <td>False</td>\n",
       "      <td>False</td>\n",
       "      <td>False</td>\n",
       "      <td>False</td>\n",
       "      <td>False</td>\n",
       "      <td>False</td>\n",
       "      <td>False</td>\n",
       "      <td>False</td>\n",
       "      <td>False</td>\n",
       "      <td>False</td>\n",
       "    </tr>\n",
       "    <tr>\n",
       "      <th>1</th>\n",
       "      <td>Ugg2s5AzSPioEXgCoAEC</td>\n",
       "      <td>04kJtp6pVXI</td>\n",
       "      <td>Law enforcement is not trained to shoot to app...</td>\n",
       "      <td>True</td>\n",
       "      <td>True</td>\n",
       "      <td>False</td>\n",
       "      <td>False</td>\n",
       "      <td>False</td>\n",
       "      <td>False</td>\n",
       "      <td>False</td>\n",
       "      <td>False</td>\n",
       "      <td>False</td>\n",
       "      <td>False</td>\n",
       "      <td>False</td>\n",
       "      <td>False</td>\n",
       "    </tr>\n",
       "    <tr>\n",
       "      <th>2</th>\n",
       "      <td>Ugg3dWTOxryFfHgCoAEC</td>\n",
       "      <td>04kJtp6pVXI</td>\n",
       "      <td>\\nDont you reckon them 'black lives matter' ba...</td>\n",
       "      <td>True</td>\n",
       "      <td>True</td>\n",
       "      <td>False</td>\n",
       "      <td>False</td>\n",
       "      <td>True</td>\n",
       "      <td>False</td>\n",
       "      <td>False</td>\n",
       "      <td>False</td>\n",
       "      <td>False</td>\n",
       "      <td>False</td>\n",
       "      <td>False</td>\n",
       "      <td>False</td>\n",
       "    </tr>\n",
       "    <tr>\n",
       "      <th>3</th>\n",
       "      <td>Ugg7Gd006w1MPngCoAEC</td>\n",
       "      <td>04kJtp6pVXI</td>\n",
       "      <td>There are a very large number of people who do...</td>\n",
       "      <td>False</td>\n",
       "      <td>False</td>\n",
       "      <td>False</td>\n",
       "      <td>False</td>\n",
       "      <td>False</td>\n",
       "      <td>False</td>\n",
       "      <td>False</td>\n",
       "      <td>False</td>\n",
       "      <td>False</td>\n",
       "      <td>False</td>\n",
       "      <td>False</td>\n",
       "      <td>False</td>\n",
       "    </tr>\n",
       "    <tr>\n",
       "      <th>4</th>\n",
       "      <td>Ugg8FfTbbNF8IngCoAEC</td>\n",
       "      <td>04kJtp6pVXI</td>\n",
       "      <td>The Arab dude is absolutely right, he should h...</td>\n",
       "      <td>False</td>\n",
       "      <td>False</td>\n",
       "      <td>False</td>\n",
       "      <td>False</td>\n",
       "      <td>False</td>\n",
       "      <td>False</td>\n",
       "      <td>False</td>\n",
       "      <td>False</td>\n",
       "      <td>False</td>\n",
       "      <td>False</td>\n",
       "      <td>False</td>\n",
       "      <td>False</td>\n",
       "    </tr>\n",
       "  </tbody>\n",
       "</table>\n",
       "</div>"
      ],
      "text/plain": [
       "              CommentId      VideoId  \\\n",
       "0  Ugg2KwwX0V8-aXgCoAEC  04kJtp6pVXI   \n",
       "1  Ugg2s5AzSPioEXgCoAEC  04kJtp6pVXI   \n",
       "2  Ugg3dWTOxryFfHgCoAEC  04kJtp6pVXI   \n",
       "3  Ugg7Gd006w1MPngCoAEC  04kJtp6pVXI   \n",
       "4  Ugg8FfTbbNF8IngCoAEC  04kJtp6pVXI   \n",
       "\n",
       "                                                Text  IsToxic  IsAbusive  \\\n",
       "0  If only people would just take a step back and...    False      False   \n",
       "1  Law enforcement is not trained to shoot to app...     True       True   \n",
       "2  \\nDont you reckon them 'black lives matter' ba...     True       True   \n",
       "3  There are a very large number of people who do...    False      False   \n",
       "4  The Arab dude is absolutely right, he should h...    False      False   \n",
       "\n",
       "   IsThreat  IsProvocative  IsObscene  IsHatespeech  IsRacist  IsNationalist  \\\n",
       "0     False          False      False         False     False          False   \n",
       "1     False          False      False         False     False          False   \n",
       "2     False          False       True         False     False          False   \n",
       "3     False          False      False         False     False          False   \n",
       "4     False          False      False         False     False          False   \n",
       "\n",
       "   IsSexist  IsHomophobic  IsReligiousHate  IsRadicalism  \n",
       "0     False         False            False         False  \n",
       "1     False         False            False         False  \n",
       "2     False         False            False         False  \n",
       "3     False         False            False         False  \n",
       "4     False         False            False         False  "
      ]
     },
     "execution_count": 3,
     "metadata": {},
     "output_type": "execute_result"
    }
   ],
   "source": [
    "print(\"🔍 INFORMACIÓN DETALLADA\")\n",
    "print(\"=\"*30)\n",
    "print(df.info())\n",
    "print(\"\\n🎯 PRIMERAS 5 FILAS:\")\n",
    "df.head()"
   ]
  },
  {
   "cell_type": "markdown",
   "id": "e1ceba16",
   "metadata": {},
   "source": [
    "## 3. ANÁLISIS DE VALORES FALTANTES"
   ]
  },
  {
   "cell_type": "markdown",
   "id": "d041539c",
   "metadata": {},
   "source": [
    "### 3.1 VALORES FALTANTES"
   ]
  },
  {
   "cell_type": "code",
   "execution_count": 4,
   "id": "4acfb934",
   "metadata": {},
   "outputs": [
    {
     "name": "stdout",
     "output_type": "stream",
     "text": [
      "❌ VALORES FALTANTES\n",
      "=========================\n",
      "Empty DataFrame\n",
      "Columns: [Columna, Valores Faltantes, Porcentaje]\n",
      "Index: []\n"
     ]
    }
   ],
   "source": [
    "print(\"❌ VALORES FALTANTES\")\n",
    "print(\"=\"*25)\n",
    "missing_data = df.isnull().sum()\n",
    "missing_percentage = (missing_data / len(df)) * 100\n",
    "missing_df = pd.DataFrame({\n",
    "    'Columna': missing_data.index,\n",
    "    'Valores Faltantes': missing_data.values,\n",
    "    'Porcentaje': missing_percentage.values\n",
    "})\n",
    "print(missing_df[missing_df['Valores Faltantes'] > 0])\n",
    "\n",
    "# Visualización de valores faltantes\n",
    "if missing_data.sum() > 0:\n",
    "    plt.figure(figsize=(12, 6))\n",
    "    sns.heatmap(df.isnull(), cbar=True, yticklabels=False, cmap='viridis')\n",
    "    plt.title('Mapa de Valores Faltantes')\n",
    "    plt.show()"
   ]
  },
  {
   "cell_type": "markdown",
   "id": "ff674a2b",
   "metadata": {},
   "source": [
    "### 3.2 LIMPIEZA Y PREPROCESAMIENTO DE TEXTO"
   ]
  },
  {
   "cell_type": "code",
   "execution_count": 6,
   "id": "3de03ab3",
   "metadata": {},
   "outputs": [
    {
     "name": "stdout",
     "output_type": "stream",
     "text": [
      "🧹 ANÁLISIS Y LIMPIEZA DEL TEXTO\n",
      "===================================\n"
     ]
    }
   ],
   "source": [
    "import string\n",
    "import emoji\n",
    "\n",
    "print(\"🧹 ANÁLISIS Y LIMPIEZA DEL TEXTO\")\n",
    "print(\"=\"*35)\n",
    "\n",
    "# Función de limpieza completa\n",
    "def analyze_text_characteristics(texts):\n",
    "    \"\"\"Analiza características del texto antes de limpieza\"\"\"\n",
    "    stats = {\n",
    "        'urls': sum(1 for text in texts if 'http' in str(text) or 'www.' in str(text)),\n",
    "        'mentions': sum(1 for text in texts if '@' in str(text)),\n",
    "        'hashtags': sum(1 for text in texts if '#' in str(text)),\n",
    "        'emojis': sum(1 for text in texts if emoji.demojize(str(text)) != str(text)),\n",
    "        'numbers': sum(1 for text in texts if any(char.isdigit() for char in str(text))),\n",
    "        'special_chars': sum(1 for text in texts if any(char in string.punctuation for char in str(text))),\n",
    "        'all_caps_words': sum(len([word for word in str(text).split() if word.isupper() and len(word) > 1]) for text in texts)\n",
    "    }\n",
    "    return stats"
   ]
  },
  {
   "cell_type": "code",
   "execution_count": 8,
   "id": "cdb8bc95",
   "metadata": {},
   "outputs": [
    {
     "name": "stdout",
     "output_type": "stream",
     "text": [
      "📊 CARACTERÍSTICAS DEL TEXTO CRUDO:\n",
      "  urls: 12 comentarios (1.2%)\n",
      "  mentions: 6 comentarios (0.6%)\n",
      "  hashtags: 10 comentarios (1.0%)\n",
      "  emojis: 8 comentarios (0.8%)\n",
      "  numbers: 146 comentarios (14.6%)\n",
      "  special_chars: 862 comentarios (86.2%)\n",
      "  all_caps_words: 794 comentarios (79.4%)\n",
      "\n",
      "🔍 EJEMPLOS DE TEXTO PROBLEMÁTICO:\n",
      "URLs:\n",
      "  1. here people his facebook is https://www.facebook.com/bassem.masri.520 he has ties with isis and othe...\n",
      "  2. I made a song addressing Ferguson and the issues today. Please listen and thank you\n",
      "\n",
      "Tha Bigger Pict...\n",
      "\n",
      "Emojis/Símbolos especiales:\n",
      "  1. If only people would just take a step back and not make this case about them, because it wasn't abou...\n",
      "  2. Law enforcement is not trained to shoot to apprehend.  They are trained to shoot to kill.  And I tha...\n"
     ]
    }
   ],
   "source": [
    "# Analizar características del texto crudo\n",
    "print(\"📊 CARACTERÍSTICAS DEL TEXTO CRUDO:\")\n",
    "text_chars = analyze_text_characteristics(df['Text'])\n",
    "for key, value in text_chars.items():\n",
    "    percentage = (value / len(df)) * 100\n",
    "    print(f\"  {key}: {value} comentarios ({percentage:.1f}%)\")\n",
    "\n",
    "# Ejemplos de texto problemático\n",
    "print(\"\\n🔍 EJEMPLOS DE TEXTO PROBLEMÁTICO:\")\n",
    "print(\"URLs:\")\n",
    "url_examples = df[df['Text'].str.contains('http|www\\.', na=False)]['Text'].head(2)\n",
    "for i, text in enumerate(url_examples, 1):\n",
    "    print(f\"  {i}. {text[:100]}...\")\n",
    "\n",
    "print(\"\\nEmojis/Símbolos especiales:\")\n",
    "special_examples = df[df['Text'].str.contains('[^\\w\\s]', regex=True, na=False)]['Text'].head(2)\n",
    "for i, text in enumerate(special_examples, 1):\n",
    "    print(f\"  {i}. {text[:100]}...\")\n"
   ]
  },
  {
   "cell_type": "code",
   "execution_count": 10,
   "id": "78c7c296",
   "metadata": {},
   "outputs": [
    {
     "name": "stdout",
     "output_type": "stream",
     "text": [
      "\n",
      "🧽 APLICANDO LIMPIEZA...\n",
      "📊 COMPARACIÓN ANTES/DESPUÉS DE LIMPIEZA:\n",
      "                   Original   Limpio\n",
      "Longitud promedio   185.554  181.502\n",
      "Palabras promedio    33.776   33.623\n",
      "\n",
      "🔄 EJEMPLOS DE TRANSFORMACIÓN:\n",
      "\n",
      "Ejemplo 1:\n",
      "ORIGINAL: If only people would just take a step back and not make this case about them, because it wasn't about anyone except the two people in that situation. ...\n",
      "LIMPIO:   if only people would just take a step back and not make this case about them because it wasnt about anyone except the two people in that situation. to...\n",
      "\n",
      "Ejemplo 2:\n",
      "ORIGINAL: Law enforcement is not trained to shoot to apprehend.  They are trained to shoot to kill.  And I thank Wilson for killing that punk bitch....\n",
      "LIMPIO:   law enforcement is not trained to shoot to apprehend. they are trained to shoot to kill. and i thank wilson for killing that punk bitch....\n",
      "\n",
      "Ejemplo 3:\n",
      "ORIGINAL: \n",
      "Dont you reckon them 'black lives matter' banners being held by white cunts is  kinda patronizing and ironically racist. could they have not come up ...\n",
      "LIMPIO:   dont you reckon them black lives matter banners being held by white cunts is kinda patronizing and ironically racist. could they have not come up with...\n"
     ]
    }
   ],
   "source": [
    "def clean_text(text):\n",
    "    \"\"\"Función de limpieza completa de texto\"\"\"\n",
    "    if pd.isna(text):\n",
    "        return \"\"\n",
    "    \n",
    "    text = str(text)\n",
    "    \n",
    "    # 1. Convertir a minúsculas\n",
    "    text = text.lower()\n",
    "    \n",
    "    # 2. Remover URLs\n",
    "    text = re.sub(r'http\\S+|www\\S+|https\\S+', '', text, flags=re.MULTILINE)\n",
    "    \n",
    "    # 3. Remover menciones (@usuario)\n",
    "    text = re.sub(r'@\\w+', '', text)\n",
    "    \n",
    "    # 4. Remover hashtags pero conservar texto\n",
    "    text = re.sub(r'#', '', text)\n",
    "    \n",
    "    # 5. Convertir emojis a texto (opcional - puedes comentar si quieres mantener emojis)\n",
    "    text = emoji.demojize(text, delimiters=(\" \", \" \"))\n",
    "    \n",
    "    # 6. Remover caracteres especiales pero mantener espacios y puntuación básica\n",
    "    text = re.sub(r'[^\\w\\s.!?]', '', text)\n",
    "    \n",
    "    # 7. Remover múltiples espacios\n",
    "    text = re.sub(r'\\s+', ' ', text)\n",
    "    \n",
    "    # 8. Remover espacios al inicio y final\n",
    "    text = text.strip()\n",
    "    \n",
    "    return text\n",
    "\n",
    "# Aplicar limpieza\n",
    "print(\"\\n🧽 APLICANDO LIMPIEZA...\")\n",
    "df['Text_Clean'] = df['Text'].apply(clean_text)\n",
    "\n",
    "\n",
    "# Comparar antes y después\n",
    "print(\"📊 COMPARACIÓN ANTES/DESPUÉS DE LIMPIEZA:\")\n",
    "comparison_stats = pd.DataFrame({\n",
    "    'Original': [df['Text'].str.len().mean(), df['Text'].str.split().str.len().mean()],\n",
    "    'Limpio': [df['Text_Clean'].str.len().mean(), df['Text_Clean'].str.split().str.len().mean()]\n",
    "}, index=['Longitud promedio', 'Palabras promedio'])\n",
    "print(comparison_stats)\n",
    "\n",
    "# Ejemplos de limpieza\n",
    "print(\"\\n🔄 EJEMPLOS DE TRANSFORMACIÓN:\")\n",
    "for i in range(3):\n",
    "    if i < len(df):\n",
    "        print(f\"\\nEjemplo {i+1}:\")\n",
    "        print(f\"ORIGINAL: {df['Text'].iloc[i][:150]}...\")\n",
    "        print(f\"LIMPIO:   {df['Text_Clean'].iloc[i][:150]}...\")"
   ]
  },
  {
   "cell_type": "code",
   "execution_count": 12,
   "id": "1a55073f",
   "metadata": {},
   "outputs": [
    {
     "data": {
      "image/png": "[encoded data removed]",
      "text/plain": [
       "<Figure size 1500x600 with 2 Axes>"
      ]
     },
     "metadata": {},
     "output_type": "display_data"
    }
   ],
   "source": [
    "# Calcular métricas de texto original (que faltaban)\n",
    "df['text_length'] = df['Text'].str.len()\n",
    "df['word_count'] = df['Text'].str.split().str.len()\n",
    "\n",
    "# Actualizar métricas con texto limpio\n",
    "df['clean_text_length'] = df['Text_Clean'].str.len()\n",
    "df['clean_word_count'] = df['Text_Clean'].str.split().str.len()\n",
    "\n",
    "# Visualización comparativa\n",
    "fig, axes = plt.subplots(1, 2, figsize=(15, 6))\n",
    "\n",
    "# Longitud del texto\n",
    "axes[0].hist(df['text_length'], alpha=0.7, label='Original', bins=30, color='red')\n",
    "axes[0].hist(df['clean_text_length'], alpha=0.7, label='Limpio', bins=30, color='blue')\n",
    "axes[0].set_xlabel('Longitud del Texto')\n",
    "axes[0].set_ylabel('Frecuencia')\n",
    "axes[0].set_title('Comparación: Longitud Original vs Limpia')\n",
    "axes[0].legend()\n",
    "\n",
    "# Número de palabras\n",
    "axes[1].hist(df['word_count'], alpha=0.7, label='Original', bins=30, color='red')\n",
    "axes[1].hist(df['clean_word_count'], alpha=0.7, label='Limpio', bins=30, color='blue')\n",
    "axes[1].set_xlabel('Número de Palabras')\n",
    "axes[1].set_ylabel('Frecuencia')\n",
    "axes[1].set_title('Comparación: Palabras Original vs Limpia')\n",
    "axes[1].legend()\n",
    "\n",
    "plt.tight_layout()\n",
    "plt.show()"
   ]
  },
  {
   "cell_type": "markdown",
   "id": "c6b7d0fd",
   "metadata": {},
   "source": [
    "## 5. ANÁLISIS DE VARIABLES OBJETIVO (TOXICIDAD)"
   ]
  },
  {
   "cell_type": "code",
   "execution_count": 13,
   "id": "c02e15a9",
   "metadata": {},
   "outputs": [
    {
     "name": "stdout",
     "output_type": "stream",
     "text": [
      "🎯 DISTRIBUCIÓN DE TIPOS DE TOXICIDAD\n",
      "========================================\n",
      "IsToxic            462\n",
      "IsAbusive          353\n",
      "IsProvocative      161\n",
      "IsHatespeech       138\n",
      "IsRacist           125\n",
      "IsObscene          100\n",
      "IsThreat            21\n",
      "IsReligiousHate     12\n",
      "IsNationalist        8\n",
      "IsSexist             1\n",
      "IsHomophobic         0\n",
      "IsRadicalism         0\n",
      "dtype: int64\n"
     ]
    },
    {
     "data": {
      "image/png": "[encoded data removed]",
      "text/plain": [
       "<Figure size 1500x800 with 1 Axes>"
      ]
     },
     "metadata": {},
     "output_type": "display_data"
    }
   ],
   "source": [
    "toxicity_columns = ['IsToxic', 'IsAbusive', 'IsThreat', 'IsProvocative', \n",
    "                   'IsObscene', 'IsHatespeech', 'IsRacist', 'IsNationalist', \n",
    "                   'IsSexist', 'IsHomophobic', 'IsReligiousHate', 'IsRadicalism']\n",
    "\n",
    "print(\"🎯 DISTRIBUCIÓN DE TIPOS DE TOXICIDAD\")\n",
    "print(\"=\"*40)\n",
    "toxicity_counts = df[toxicity_columns].sum().sort_values(ascending=False)\n",
    "print(toxicity_counts)\n",
    "\n",
    "# Gráfico de barras\n",
    "plt.figure(figsize=(15, 8))\n",
    "toxicity_counts.plot(kind='bar', color='coral')\n",
    "plt.title('Distribución de Tipos de Toxicidad', fontsize=16, fontweight='bold')\n",
    "plt.xlabel('Tipo de Toxicidad')\n",
    "plt.ylabel('Número de Comentarios')\n",
    "plt.xticks(rotation=45, ha='right')\n",
    "plt.tight_layout()\n",
    "plt.show()"
   ]
  }
 ],
 "metadata": {
  "kernelspec": {
   "display_name": ".venv",
   "language": "python",
   "name": "python3"
  },
  "language_info": {
   "codemirror_mode": {
    "name": "ipython",
    "version": 3
   },
   "file_extension": ".py",
   "mimetype": "text/x-python",
   "name": "python",
   "nbconvert_exporter": "python",
   "pygments_lexer": "ipython3",
   "version": "3.13.3"
  }
 },
 "nbformat": 4,
 "nbformat_minor": 5
}
