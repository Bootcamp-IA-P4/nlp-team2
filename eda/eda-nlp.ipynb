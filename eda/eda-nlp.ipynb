{
 "cells": [
  {
   "cell_type": "markdown",
   "id": "239afca8",
   "metadata": {},
   "source": [
    "# Análisis exploratorio de datos - **Comentarios Youtube**"
   ]
  },
  {
   "cell_type": "code",
   "execution_count": null,
   "id": "abbff3f9",
   "metadata": {
    "vscode": {
     "languageId": "plaintext"
    }
   },
   "outputs": [],
   "source": []
  }
 ],
 "metadata": {
  "language_info": {
   "name": "python"
  }
 },
 "nbformat": 4,
 "nbformat_minor": 5
}
