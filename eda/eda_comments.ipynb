{
 "cells": [
  {
   "cell_type": "markdown",
   "id": "0b7c78a4",
   "metadata": {},
   "source": [
    "# Análisis Exploratorio de datos - *Comentarios Youtube*"
   ]
  }
 ],
 "metadata": {
  "language_info": {
   "name": "python"
  }
 },
 "nbformat": 4,
 "nbformat_minor": 5
}
