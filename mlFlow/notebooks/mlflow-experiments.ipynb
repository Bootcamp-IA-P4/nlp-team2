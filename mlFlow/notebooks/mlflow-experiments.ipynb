{
 "cells": [
  {
   "cell_type": "code",
   "execution_count": 1,
   "id": "c80affae",
   "metadata": {},
   "outputs": [],
   "source": [
    "import sys\n",
    "import os\n",
    "sys.path.append('..')\n",
    "\n",
    "from src.data_preprocessing import load_and_preprocess_data, prepare_train_test_split\n",
    "from src.model_utils import MLflowModelTracker\n",
    "import mlflow\n",
    "import pandas as pd"
   ]
  },
  {
   "cell_type": "code",
   "execution_count": 2,
   "id": "889f90bf",
   "metadata": {},
   "outputs": [
    {
     "name": "stdout",
     "output_type": "stream",
     "text": [
      "🔍 Analizando distribución de clases...\n",
      "  ✅ IsToxic: 462 positivos, 538 negativos\n",
      "  ✅ IsAbusive: 353 positivos, 647 negativos\n",
      "  ✅ IsThreat: 21 positivos, 979 negativos\n",
      "  ✅ IsProvocative: 161 positivos, 839 negativos\n",
      "  ✅ IsObscene: 100 positivos, 900 negativos\n",
      "  ✅ IsHatespeech: 138 positivos, 862 negativos\n",
      "  ✅ IsRacist: 125 positivos, 875 negativos\n",
      "  ❌ IsNationalist: 8 positivos, 992 negativos (EXCLUIDO)\n",
      "  ❌ IsSexist: 1 positivos, 999 negativos (EXCLUIDO)\n",
      "  ❌ IsHomophobic: 0 positivos, 1000 negativos (EXCLUIDO)\n",
      "  ✅ IsReligiousHate: 12 positivos, 988 negativos\n",
      "  ❌ IsRadicalism: 0 positivos, 1000 negativos (EXCLUIDO)\n",
      "\n",
      "📊 Columnas válidas para ML: 8\n",
      "   ['IsToxic', 'IsAbusive', 'IsThreat', 'IsProvocative', 'IsObscene', 'IsHatespeech', 'IsRacist', 'IsReligiousHate']\n",
      "Dataset cargado: (1000, 16)\n",
      "Columnas de toxicidad: ['IsToxic', 'IsAbusive', 'IsThreat', 'IsProvocative', 'IsObscene', 'IsHatespeech', 'IsRacist', 'IsReligiousHate']\n"
     ]
    }
   ],
   "source": [
    "# Celda 2: Cargar y explorar datos\n",
    "df, toxicity_columns = load_and_preprocess_data('../data/raw/youtoxic_english_1000.csv')\n",
    "print(f\"Dataset cargado: {df.shape}\")\n",
    "print(f\"Columnas de toxicidad: {toxicity_columns}\")"
   ]
  },
  {
   "cell_type": "code",
   "execution_count": 3,
   "id": "668ce5b0",
   "metadata": {},
   "outputs": [
    {
     "name": "stdout",
     "output_type": "stream",
     "text": [
      "\n",
      "🎯 Verificación final de datos:\n",
      "   Forma de X: (1000,)\n",
      "   Forma de y: (1000, 8)\n",
      "   Rango de y: 0.0 - 1.0\n",
      "   IsToxic: 2 clases únicas: [0. 1.]\n",
      "   IsAbusive: 2 clases únicas: [0. 1.]\n",
      "   IsThreat: 2 clases únicas: [0. 1.]\n",
      "   IsProvocative: 2 clases únicas: [0. 1.]\n",
      "   IsObscene: 2 clases únicas: [0. 1.]\n",
      "   IsHatespeech: 2 clases únicas: [0. 1.]\n",
      "   IsRacist: 2 clases únicas: [0. 1.]\n",
      "   IsReligiousHate: 2 clases únicas: [0. 1.]\n",
      "Entrenamiento: (800,)\n",
      "Prueba: (200,)\n"
     ]
    }
   ],
   "source": [
    "# Celda 3: Preparar datos\n",
    "X_train, X_test, y_train, y_test = prepare_train_test_split(df, toxicity_columns)\n",
    "print(f\"Entrenamiento: {X_train.shape}\")\n",
    "print(f\"Prueba: {X_test.shape}\")"
   ]
  },
  {
   "cell_type": "code",
   "execution_count": null,
   "id": "bb34885e",
   "metadata": {},
   "outputs": [
    {
     "name": "stderr",
     "output_type": "stream",
     "text": [
      "2025/07/02 15:02:15 INFO mlflow.tracking.fluent: Experiment with name 'notebook-experiments' does not exist. Creating a new experiment.\n"
     ]
    },
    {
     "name": "stdout",
     "output_type": "stream",
     "text": [
      "🔄 Entrenando Logistic Regression...\n"
     ]
    },
    {
     "name": "stderr",
     "output_type": "stream",
     "text": [
      "2025/07/02 15:02:16 WARNING mlflow.models.model: `artifact_path` is deprecated. Please use `name` instead.\n",
      "2025/07/02 15:02:20 WARNING mlflow.models.model: Model logged without a signature and input example. Please set `input_example` parameter when logging the model to auto infer the model signature.\n",
      "2025/07/02 15:02:20 WARNING mlflow.models.model: `artifact_path` is deprecated. Please use `name` instead.\n",
      "2025/07/02 15:02:20 WARNING mlflow.sklearn: Model was missing function: predict. Not logging python_function flavor!\n",
      "2025/07/02 15:02:22 WARNING mlflow.models.model: Model logged without a signature and input example. Please set `input_example` parameter when logging the model to auto infer the model signature.\n"
     ]
    },
    {
     "name": "stdout",
     "output_type": "stream",
     "text": [
      "✅ logistic - Hamming Loss: 0.1363, Jaccard Score: 0.0809\n",
      "🔄 Entrenando Random Forest...\n"
     ]
    },
    {
     "name": "stderr",
     "output_type": "stream",
     "text": [
      "2025/07/02 15:02:23 WARNING mlflow.models.model: `artifact_path` is deprecated. Please use `name` instead.\n",
      "2025/07/02 15:02:26 WARNING mlflow.models.model: Model logged without a signature and input example. Please set `input_example` parameter when logging the model to auto infer the model signature.\n",
      "2025/07/02 15:02:26 WARNING mlflow.models.model: `artifact_path` is deprecated. Please use `name` instead.\n",
      "2025/07/02 15:02:26 WARNING mlflow.sklearn: Model was missing function: predict. Not logging python_function flavor!\n",
      "2025/07/02 15:02:29 WARNING mlflow.models.model: Model logged without a signature and input example. Please set `input_example` parameter when logging the model to auto infer the model signature.\n"
     ]
    },
    {
     "name": "stdout",
     "output_type": "stream",
     "text": [
      "✅ random_forest - Hamming Loss: 0.1494, Jaccard Score: 0.0370\n",
      "                Modelo  hamming_loss  jaccard_score\n",
      "0  Logistic Regression      0.136250       0.080893\n",
      "1        Random Forest      0.149375       0.037026\n"
     ]
    },
    {
     "ename": "",
     "evalue": "",
     "output_type": "error",
     "traceback": [
      "\u001b[1;31mThe Kernel crashed while executing code in the current cell or a previous cell. \n",
      "\u001b[1;31mPlease review the code in the cell(s) to identify a possible cause of the failure. \n",
      "\u001b[1;31mClick <a href='https://aka.ms/vscodeJupyterKernelCrash'>here</a> for more info. \n",
      "\u001b[1;31mView Jupyter <a href='command:jupyter.viewOutput'>log</a> for further details."
     ]
    }
   ],
   "source": [
    "# Celda 4: Ejecutar experimentos\n",
    "tracker = MLflowModelTracker(\"notebook-experiments\")\n",
    "\n",
    "# Experimento 1: Logistic Regression\n",
    "print(\"🔄 Entrenando Logistic Regression...\")\n",
    "lr_model, lr_vectorizer, lr_metrics = tracker.train_sklearn_model(\n",
    "    X_train, X_test, y_train, y_test,\n",
    "    model_type=\"logistic\",\n",
    "    max_iter=1000,\n",
    "    C=1.0\n",
    ")\n",
    "\n",
    "# Experimento 2: Random Forest\n",
    "print(\"🔄 Entrenando Random Forest...\")\n",
    "rf_model, rf_vectorizer, rf_metrics = tracker.train_sklearn_model(\n",
    "    X_train, X_test, y_train, y_test,\n",
    "    model_type=\"random_forest\",\n",
    "    n_estimators=100,\n",
    "    max_depth=10\n",
    ")\n",
    "\n",
    "# Celda 5: Comparar resultados\n",
    "results_df = pd.DataFrame([\n",
    "    {\"Modelo\": \"Logistic Regression\", **lr_metrics},\n",
    "    {\"Modelo\": \"Random Forest\", **rf_metrics}\n",
    "])\n",
    "print(results_df)"
   ]
  }
 ],
 "metadata": {
  "kernelspec": {
   "display_name": ".venv",
   "language": "python",
   "name": "python3"
  },
  "language_info": {
   "codemirror_mode": {
    "name": "ipython",
    "version": 3
   },
   "file_extension": ".py",
   "mimetype": "text/x-python",
   "name": "python",
   "nbconvert_exporter": "python",
   "pygments_lexer": "ipython3",
   "version": "3.13.3"
  }
 },
 "nbformat": 4,
 "nbformat_minor": 5
}
