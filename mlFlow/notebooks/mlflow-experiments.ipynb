{
 "cells": [
  {
   "cell_type": "code",
   "execution_count": 1,
   "id": "c80affae",
   "metadata": {},
   "outputs": [],
   "source": [
    "import sys\n",
    "import os\n",
    "sys.path.append('..')\n",
    "\n",
    "from src.data_preprocessing import load_and_preprocess_data, prepare_train_test_split\n",
    "from src.model_utils import MLflowModelTracker\n",
    "import mlflow\n",
    "import pandas as pd"
   ]
  },
  {
   "cell_type": "code",
   "execution_count": 2,
   "id": "889f90bf",
   "metadata": {},
   "outputs": [
    {
     "name": "stdout",
     "output_type": "stream",
     "text": [
      "🔍 Analizando distribución de clases...\n",
      "  ✅ IsToxic: 1140 positivos, 538 negativos\n",
      "  ✅ IsAbusive: 348 positivos, 1330 negativos\n",
      "  ✅ IsThreat: 20 positivos, 1658 negativos\n",
      "  ✅ IsProvocative: 157 positivos, 1521 negativos\n",
      "  ✅ IsObscene: 100 positivos, 1578 negativos\n",
      "  ✅ IsHatespeech: 138 positivos, 1540 negativos\n",
      "  ✅ IsRacist: 125 positivos, 1553 negativos\n",
      "  ✅ IsNationalist: 122 positivos, 1556 negativos\n",
      "  ✅ IsSexist: 178 positivos, 1500 negativos\n",
      "  ✅ IsHomophobic: 142 positivos, 1536 negativos\n",
      "  ✅ IsReligiousHate: 95 positivos, 1583 negativos\n",
      "  ✅ IsRadicalism: 167 positivos, 1511 negativos\n",
      "\n",
      "📊 Columnas válidas para ML: 12\n",
      "   ['IsToxic', 'IsAbusive', 'IsThreat', 'IsProvocative', 'IsObscene', 'IsHatespeech', 'IsRacist', 'IsNationalist', 'IsSexist', 'IsHomophobic', 'IsReligiousHate', 'IsRadicalism']\n",
      "Dataset cargado: (1678, 16)\n",
      "Columnas de toxicidad: ['IsToxic', 'IsAbusive', 'IsThreat', 'IsProvocative', 'IsObscene', 'IsHatespeech', 'IsRacist', 'IsNationalist', 'IsSexist', 'IsHomophobic', 'IsReligiousHate', 'IsRadicalism']\n"
     ]
    }
   ],
   "source": [
    "# Celda 2: Cargar y explorar datos\n",
    "df, toxicity_columns = load_and_preprocess_data('../data/raw/hatespeech.csv')\n",
    "print(f\"Dataset cargado: {df.shape}\")\n",
    "print(f\"Columnas de toxicidad: {toxicity_columns}\")"
   ]
  },
  {
   "cell_type": "code",
   "execution_count": 3,
   "id": "668ce5b0",
   "metadata": {},
   "outputs": [
    {
     "name": "stdout",
     "output_type": "stream",
     "text": [
      "\n",
      "🎯 Verificación final de datos:\n",
      "   Forma de X: (1678,)\n",
      "   Forma de y: (1678, 12)\n",
      "   Rango de y: 0.0 - 1.0\n",
      "   IsToxic: 2 clases únicas: [0. 1.]\n",
      "   IsAbusive: 2 clases únicas: [0. 1.]\n",
      "   IsThreat: 2 clases únicas: [0. 1.]\n",
      "   IsProvocative: 2 clases únicas: [0. 1.]\n",
      "   IsObscene: 2 clases únicas: [0. 1.]\n",
      "   IsHatespeech: 2 clases únicas: [0. 1.]\n",
      "   IsRacist: 2 clases únicas: [0. 1.]\n",
      "   IsNationalist: 2 clases únicas: [0. 1.]\n",
      "   IsSexist: 2 clases únicas: [0. 1.]\n",
      "   IsHomophobic: 2 clases únicas: [0. 1.]\n",
      "   IsReligiousHate: 2 clases únicas: [0. 1.]\n",
      "   IsRadicalism: 2 clases únicas: [0. 1.]\n",
      "Entrenamiento: (1342,)\n",
      "Prueba: (336,)\n"
     ]
    }
   ],
   "source": [
    "# Celda 3: Preparar datos\n",
    "X_train, X_test, y_train, y_test = prepare_train_test_split(df, toxicity_columns)\n",
    "print(f\"Entrenamiento: {X_train.shape}\")\n",
    "print(f\"Prueba: {X_test.shape}\")"
   ]
  },
  {
   "cell_type": "code",
   "execution_count": 4,
   "id": "bb34885e",
   "metadata": {},
   "outputs": [
    {
     "name": "stderr",
     "output_type": "stream",
     "text": [
      "2025/07/03 11:01:43 INFO mlflow.tracking.fluent: Experiment with name 'notebook-experiments' does not exist. Creating a new experiment.\n"
     ]
    },
    {
     "name": "stdout",
     "output_type": "stream",
     "text": [
      "🔄 Entrenando Logistic Regression...\n"
     ]
    },
    {
     "name": "stderr",
     "output_type": "stream",
     "text": [
      "2025/07/03 11:01:44 WARNING mlflow.models.model: `artifact_path` is deprecated. Please use `name` instead.\n",
      "2025/07/03 11:01:49 WARNING mlflow.models.model: Model logged without a signature and input example. Please set `input_example` parameter when logging the model to auto infer the model signature.\n",
      "2025/07/03 11:01:49 WARNING mlflow.models.model: `artifact_path` is deprecated. Please use `name` instead.\n",
      "2025/07/03 11:01:49 WARNING mlflow.sklearn: Model was missing function: predict. Not logging python_function flavor!\n",
      "2025/07/03 11:01:52 WARNING mlflow.models.model: Model logged without a signature and input example. Please set `input_example` parameter when logging the model to auto infer the model signature.\n"
     ]
    },
    {
     "name": "stdout",
     "output_type": "stream",
     "text": [
      "✅ logistic - Hamming Loss: 0.0702, Jaccard Score: 0.3094\n",
      "🔄 Entrenando Random Forest...\n"
     ]
    },
    {
     "name": "stderr",
     "output_type": "stream",
     "text": [
      "2025/07/03 11:01:53 WARNING mlflow.models.model: `artifact_path` is deprecated. Please use `name` instead.\n",
      "2025/07/03 11:01:56 WARNING mlflow.models.model: Model logged without a signature and input example. Please set `input_example` parameter when logging the model to auto infer the model signature.\n",
      "2025/07/03 11:01:56 WARNING mlflow.models.model: `artifact_path` is deprecated. Please use `name` instead.\n",
      "2025/07/03 11:01:56 WARNING mlflow.sklearn: Model was missing function: predict. Not logging python_function flavor!\n",
      "2025/07/03 11:01:58 WARNING mlflow.models.model: Model logged without a signature and input example. Please set `input_example` parameter when logging the model to auto infer the model signature.\n"
     ]
    },
    {
     "name": "stdout",
     "output_type": "stream",
     "text": [
      "✅ random_forest - Hamming Loss: 0.1042, Jaccard Score: 0.0590\n",
      "                Modelo  hamming_loss  jaccard_score\n",
      "0  Logistic Regression      0.070188       0.309448\n",
      "1        Random Forest      0.104167       0.059031\n"
     ]
    }
   ],
   "source": [
    "# Celda 4: Ejecutar experimentos\n",
    "tracker = MLflowModelTracker(\"notebook-experiments\")\n",
    "\n",
    "# Experimento 1: Logistic Regression\n",
    "print(\"🔄 Entrenando Logistic Regression...\")\n",
    "lr_model, lr_vectorizer, lr_metrics = tracker.train_sklearn_model(\n",
    "    X_train, X_test, y_train, y_test,\n",
    "    model_type=\"logistic\",\n",
    "    max_iter=1000,\n",
    "    C=1.0\n",
    ")\n",
    "\n",
    "# Experimento 2: Random Forest\n",
    "print(\"🔄 Entrenando Random Forest...\")\n",
    "rf_model, rf_vectorizer, rf_metrics = tracker.train_sklearn_model(\n",
    "    X_train, X_test, y_train, y_test,\n",
    "    model_type=\"random_forest\",\n",
    "    n_estimators=100,\n",
    "    max_depth=10\n",
    ")\n",
    "\n",
    "# Celda 5: Comparar resultados\n",
    "results_df = pd.DataFrame([\n",
    "    {\"Modelo\": \"Logistic Regression\", **lr_metrics},\n",
    "    {\"Modelo\": \"Random Forest\", **rf_metrics}\n",
    "])\n",
    "print(results_df)"
   ]
  }
 ],
 "metadata": {
  "kernelspec": {
   "display_name": ".venv",
   "language": "python",
   "name": "python3"
  },
  "language_info": {
   "codemirror_mode": {
    "name": "ipython",
    "version": 3
   },
   "file_extension": ".py",
   "mimetype": "text/x-python",
   "name": "python",
   "nbconvert_exporter": "python",
   "pygments_lexer": "ipython3",
   "version": "3.13.3"
  }
 },
 "nbformat": 4,
 "nbformat_minor": 5
}
