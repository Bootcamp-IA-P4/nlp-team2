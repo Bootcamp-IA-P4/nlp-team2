{
 "cells": [
  {
   "cell_type": "markdown",
   "id": "0be05448",
   "metadata": {},
   "source": [
    "# 🔬 Comparación y Análisis de Modelos MLflow\n",
    "\n",
    "## 📋 Objetivos\n",
    "Este notebook se encarga de:\n",
    "1. **Cargar experimentos** de MLflow\n",
    "2. **Comparar métricas** entre diferentes modelos\n",
    "3. **Visualizar resultados** y tendencias\n",
    "4. **Identificar el mejor modelo** para cada tarea\n",
    "5. **Generar reportes** de rendimiento\n",
    "\n",
    "## 🎯 Tipos de Modelos a Comparar\n",
    "- **Modelos Tradicionales**: Logistic Regression, Random Forest, SVM\n",
    "- **Modelos Transformer**: BERT, DistilBERT, RoBERTa\n",
    "- **Tareas**: Clasificación binaria (IsToxic) y multi-label"
   ]
  },
  {
   "cell_type": "code",
   "execution_count": 1,
   "id": "75f6cb8b",
   "metadata": {},
   "outputs": [
    {
     "name": "stdout",
     "output_type": "stream",
     "text": [
      "🔧 CONFIGURACIÓN COMPLETADA\n",
      "📦 Librerías importadas exitosamente\n"
     ]
    }
   ],
   "source": [
    "import mlflow\n",
    "import mlflow.sklearn\n",
    "import mlflow.transformers\n",
    "import pandas as pd\n",
    "import numpy as np\n",
    "import matplotlib.pyplot as plt\n",
    "import seaborn as sns\n",
    "import plotly.express as px\n",
    "import plotly.graph_objects as go\n",
    "from plotly.subplots import make_subplots\n",
    "import warnings\n",
    "warnings.filterwarnings('ignore')\n",
    "\n",
    "# Configuración de visualización\n",
    "plt.style.use('seaborn-v0_8')\n",
    "sns.set_palette(\"husl\")\n",
    "pd.set_option('display.max_columns', None)\n",
    "pd.set_option('display.width', 1000)\n",
    "\n",
    "print(\"🔧 CONFIGURACIÓN COMPLETADA\")\n",
    "print(\"📦 Librerías importadas exitosamente\")"
   ]
  },
  {
   "cell_type": "code",
   "execution_count": 2,
   "id": "47f49909",
   "metadata": {},
   "outputs": [
    {
     "name": "stdout",
     "output_type": "stream",
     "text": [
      "🔍 EXPERIMENTOS DISPONIBLES:\n",
      "==================================================\n",
      "📊 toxicity-transformer-experiments (ID: 670516226287750429)\n",
      "   📁 file:///C:/Users/usuario/Desktop/bcia/nlp-team2/mlFlow/mlruns/670516226287750429\n",
      "   🕒 Creado: 1751455055081\n",
      "\n",
      "📊 transformer-simple-test (ID: 724363935838328285)\n",
      "   📁 file:///C:/Users/usuario/Desktop/bcia/nlp-team2/mlFlow/mlruns/724363935838328285\n",
      "   🕒 Creado: 1751453994040\n",
      "\n",
      "📊 toxicity-detection-experiments (ID: 831893209499011167)\n",
      "   📁 file:///C:/Users/usuario/Desktop/bcia/nlp-team2/mlFlow/mlruns/831893209499011167\n",
      "   🕒 Creado: 1751452661336\n",
      "\n",
      "📊 Default (ID: 0)\n",
      "   📁 file:c:/Users/usuario/Desktop/bcia/nlp-team2/mlFlow/notebooks/../mlruns/0\n",
      "   🕒 Creado: 1751450988948\n",
      "\n",
      "🎯 Funciones de carga definidas\n"
     ]
    }
   ],
   "source": [
    "# Configurar MLflow\n",
    "mlflow.set_tracking_uri(\"file:../mlruns\")\n",
    "\n",
    "# Obtener todos los experimentos\n",
    "experiments = mlflow.search_experiments()\n",
    "print(\"🔍 EXPERIMENTOS DISPONIBLES:\")\n",
    "print(\"=\"*50)\n",
    "for exp in experiments:\n",
    "    print(f\"📊 {exp.name} (ID: {exp.experiment_id})\")\n",
    "    print(f\"   📁 {exp.artifact_location}\")\n",
    "    print(f\"   🕒 Creado: {exp.creation_time}\")\n",
    "    print()\n",
    "    \n",
    "# Función para cargar runs de un experimento\n",
    "def load_experiment_runs(experiment_name):\n",
    "    \"\"\"Carga todos los runs de un experimento específico\"\"\"\n",
    "    try:\n",
    "        experiment = mlflow.get_experiment_by_name(experiment_name)\n",
    "        if experiment is None:\n",
    "            print(f\"❌ Experimento '{experiment_name}' no encontrado\")\n",
    "            return pd.DataFrame()\n",
    "        \n",
    "        runs = mlflow.search_runs(experiment_ids=[experiment.experiment_id])\n",
    "        print(f\"✅ Cargados {len(runs)} runs del experimento '{experiment_name}'\")\n",
    "        return runs\n",
    "    except Exception as e:\n",
    "        print(f\"❌ Error cargando experimento '{experiment_name}': {e}\")\n",
    "        return pd.DataFrame()\n",
    "\n",
    "print(\"🎯 Funciones de carga definidas\")"
   ]
  },
  {
   "cell_type": "markdown",
   "id": "7144222c",
   "metadata": {},
   "source": [
    "## 📊 Análisis de Experimentos por Tipo"
   ]
  },
  {
   "cell_type": "code",
   "execution_count": 3,
   "id": "23875b69",
   "metadata": {},
   "outputs": [
    {
     "name": "stdout",
     "output_type": "stream",
     "text": [
      "🤖 CARGANDO EXPERIMENTOS DE MODELOS TRADICIONALES\n",
      "=======================================================\n",
      "❌ Experimento 'Toxicity_Classification_Binary' no encontrado\n",
      "❌ Experimento 'Toxicity_Classification_MultiLabel' no encontrado\n",
      "❌ Experimento 'Traditional_Models' no encontrado\n",
      "❌ Experimento 'Transformer_Models' no encontrado\n",
      "✅ Cargados 0 runs del experimento 'Default'\n",
      "❌ No se encontraron experimentos. Ejecuta primero los scripts de entrenamiento.\n"
     ]
    }
   ],
   "source": [
    "# Cargar experimentos de modelos tradicionales\n",
    "print(\"🤖 CARGANDO EXPERIMENTOS DE MODELOS TRADICIONALES\")\n",
    "print(\"=\"*55)\n",
    "\n",
    "# Intentar cargar diferentes experimentos\n",
    "experiment_names = [\n",
    "    \"Toxicity_Classification_Binary\",\n",
    "    \"Toxicity_Classification_MultiLabel\", \n",
    "    \"Traditional_Models\",\n",
    "    \"Transformer_Models\",\n",
    "    \"Default\"  # Por si hay runs en el experimento default\n",
    "]\n",
    "\n",
    "all_runs = []\n",
    "for exp_name in experiment_names:\n",
    "    runs_df = load_experiment_runs(exp_name)\n",
    "    if not runs_df.empty:\n",
    "        runs_df['experiment_name'] = exp_name\n",
    "        all_runs.append(runs_df)\n",
    "\n",
    "# Combinar todos los runs\n",
    "if all_runs:\n",
    "    combined_runs = pd.concat(all_runs, ignore_index=True)\n",
    "    print(f\"\\n📈 TOTAL DE RUNS ENCONTRADOS: {len(combined_runs)}\")\n",
    "    \n",
    "    # Mostrar resumen de métricas disponibles\n",
    "    metric_columns = [col for col in combined_runs.columns if col.startswith('metrics.')]\n",
    "    param_columns = [col for col in combined_runs.columns if col.startswith('params.')]\n",
    "    \n",
    "    print(f\"\\n📊 MÉTRICAS DISPONIBLES ({len(metric_columns)}):\")\n",
    "    for metric in metric_columns:\n",
    "        print(f\"   📋 {metric}\")\n",
    "    \n",
    "    print(f\"\\n⚙️ PARÁMETROS DISPONIBLES ({len(param_columns)}):\")\n",
    "    for param in param_columns:\n",
    "        print(f\"   🔧 {param}\")\n",
    "        \n",
    "else:\n",
    "    print(\"❌ No se encontraron experimentos. Ejecuta primero los scripts de entrenamiento.\")\n",
    "    combined_runs = pd.DataFrame()"
   ]
  },
  {
   "cell_type": "code",
   "execution_count": 4,
   "id": "9791dabb",
   "metadata": {},
   "outputs": [
    {
     "name": "stdout",
     "output_type": "stream",
     "text": [
      "📝 CREAR EXPERIMENTOS DUMMY PARA DEMOSTRACIÓN\n",
      "=============================================\n",
      "🎭 Datos de ejemplo creados para demostración:\n",
      "    params.model_name  metrics.accuracy  metrics.f1_score\n",
      "0  LogisticRegression              0.85              0.83\n",
      "1        RandomForest              0.88              0.86\n",
      "2                 SVM              0.82              0.80\n",
      "3          DistilBERT              0.91              0.89\n",
      "4                BERT              0.93              0.92\n"
     ]
    }
   ],
   "source": [
    "# Análisis de métricas si hay datos disponibles\n",
    "if not combined_runs.empty:\n",
    "    print(\"📈 ANÁLISIS DE RENDIMIENTO POR MODELO\")\n",
    "    print(\"=\"*42)\n",
    "    \n",
    "    # Crear dataframe limpio con métricas principales\n",
    "    analysis_df = combined_runs.copy()\n",
    "    \n",
    "    # Identificar columnas de métricas principales\n",
    "    key_metrics = [\n",
    "        'metrics.accuracy', 'metrics.precision', 'metrics.recall', \n",
    "        'metrics.f1_score', 'metrics.roc_auc', 'metrics.f1_macro', \n",
    "        'metrics.f1_micro', 'metrics.f1_weighted'\n",
    "    ]\n",
    "    \n",
    "    available_metrics = [m for m in key_metrics if m in analysis_df.columns]\n",
    "    \n",
    "    if available_metrics:\n",
    "        # Resumen por modelo\n",
    "        if 'params.model_name' in analysis_df.columns:\n",
    "            model_summary = analysis_df.groupby('params.model_name')[available_metrics].agg(['mean', 'std', 'count'])\n",
    "            print(\"📊 RESUMEN POR MODELO:\")\n",
    "            print(model_summary)\n",
    "        \n",
    "        # Mejores modelos por métrica\n",
    "        print(\"\\n🏆 MEJORES MODELOS POR MÉTRICA:\")\n",
    "        for metric in available_metrics:\n",
    "            if analysis_df[metric].notna().sum() > 0:\n",
    "                best_idx = analysis_df[metric].idxmax()\n",
    "                best_model = analysis_df.loc[best_idx, 'params.model_name'] if 'params.model_name' in analysis_df.columns else 'Desconocido'\n",
    "                best_score = analysis_df.loc[best_idx, metric]\n",
    "                print(f\"   🥇 {metric.replace('metrics.', '')}: {best_model} ({best_score:.4f})\")\n",
    "    \n",
    "    else:\n",
    "        print(\"ℹ️ No se encontraron métricas estándar en los experimentos existentes\")\n",
    "        print(\"💡 Asegúrate de ejecutar los scripts de entrenamiento con MLflow tracking\")\n",
    "\n",
    "else:\n",
    "    print(\"📝 CREAR EXPERIMENTOS DUMMY PARA DEMOSTRACIÓN\")\n",
    "    print(\"=\"*45)\n",
    "    \n",
    "    # Crear datos de ejemplo para mostrar la funcionalidad\n",
    "    dummy_data = {\n",
    "        'run_id': ['run_1', 'run_2', 'run_3', 'run_4', 'run_5'],\n",
    "        'params.model_name': ['LogisticRegression', 'RandomForest', 'SVM', 'DistilBERT', 'BERT'],\n",
    "        'metrics.accuracy': [0.85, 0.88, 0.82, 0.91, 0.93],\n",
    "        'metrics.f1_score': [0.83, 0.86, 0.80, 0.89, 0.92],\n",
    "        'metrics.precision': [0.84, 0.87, 0.83, 0.88, 0.91],\n",
    "        'metrics.recall': [0.82, 0.85, 0.77, 0.90, 0.93],\n",
    "        'experiment_name': ['Traditional'] * 3 + ['Transformer'] * 2,\n",
    "        'start_time': pd.to_datetime(['2024-01-01', '2024-01-02', '2024-01-03', '2024-01-04', '2024-01-05'])\n",
    "    }\n",
    "    \n",
    "    dummy_df = pd.DataFrame(dummy_data)\n",
    "    print(\"🎭 Datos de ejemplo creados para demostración:\")\n",
    "    print(dummy_df[['params.model_name', 'metrics.accuracy', 'metrics.f1_score']])"
   ]
  },
  {
   "cell_type": "code",
   "execution_count": 5,
   "id": "706d4718",
   "metadata": {},
   "outputs": [
    {
     "name": "stdout",
     "output_type": "stream",
     "text": [
      "📊 GENERANDO VISUALIZACIONES COMPARATIVAS\n",
      "=============================================\n",
      "🎭 Usando datos de demostración\n"
     ]
    },
    {
     "data": {
      "image/png": "[encoded data removed]",
      "text/plain": [
       "<Figure size 1500x1200 with 4 Axes>"
      ]
     },
     "metadata": {},
     "output_type": "display_data"
    },
    {
     "data": {
      "application/vnd.plotly.v1+json": {
       "config": {
        "plotlyServerURL": "https://plot.ly"
       },
       "data": [
        {
         "fill": "toself",
         "line": {
          "width": 2
         },
         "name": "LogisticRegression",
         "r": [
          0.85,
          0.83,
          0.84,
          0.82
         ],
         "theta": [
          "Accuracy",
          "F1-Score",
          "Precision",
          "Recall"
         ],
         "type": "scatterpolar"
        },
        {
         "fill": "toself",
         "line": {
          "width": 2
         },
         "name": "RandomForest",
         "r": [
          0.88,
          0.86,
          0.87,
          0.85
         ],
         "theta": [
          "Accuracy",
          "F1-Score",
          "Precision",
          "Recall"
         ],
         "type": "scatterpolar"
        },
        {
         "fill": "toself",
         "line": {
          "width": 2
         },
         "name": "SVM",
         "r": [
          0.82,
          0.8,
          0.83,
          0.77
         ],
         "theta": [
          "Accuracy",
          "F1-Score",
          "Precision",
          "Recall"
         ],
         "type": "scatterpolar"
        },
        {
         "fill": "toself",
         "line": {
          "width": 2
         },
         "name": "DistilBERT",
         "r": [
          0.91,
          0.89,
          0.88,
          0.9
         ],
         "theta": [
          "Accuracy",
          "F1-Score",
          "Precision",
          "Recall"
         ],
         "type": "scatterpolar"
        },
        {
         "fill": "toself",
         "line": {
          "width": 2
         },
         "name": "BERT",
         "r": [
          0.93,
          0.92,
          0.91,
          0.93
         ],
         "theta": [
          "Accuracy",
          "F1-Score",
          "Precision",
          "Recall"
         ],
         "type": "scatterpolar"
        }
       ],
       "layout": {
        "height": 500,
        "polar": {
         "radialaxis": {
          "range": [
           0,
           1
          ],
          "visible": true
         }
        },
        "showlegend": true,
        "template": {
         "data": {
          "bar": [
           {
            "error_x": {
             "color": "#2a3f5f"
            },
            "error_y": {
             "color": "#2a3f5f"
            },
            "marker": {
             "line": {
              "color": "#E5ECF6",
              "width": 0.5
             },
             "pattern": {
              "fillmode": "overlay",
              "size": 10,
              "solidity": 0.2
             }
            },
            "type": "bar"
           }
          ],
          "barpolar": [
           {
            "marker": {
             "line": {
              "color": "#E5ECF6",
              "width": 0.5
             },
             "pattern": {
              "fillmode": "overlay",
              "size": 10,
              "solidity": 0.2
             }
            },
            "type": "barpolar"
           }
          ],
          "carpet": [
           {
            "aaxis": {
             "endlinecolor": "#2a3f5f",
             "gridcolor": "white",
             "linecolor": "white",
             "minorgridcolor": "white",
             "startlinecolor": "#2a3f5f"
            },
            "baxis": {
             "endlinecolor": "#2a3f5f",
             "gridcolor": "white",
             "linecolor": "white",
             "minorgridcolor": "white",
             "startlinecolor": "#2a3f5f"
            },
            "type": "carpet"
           }
          ],
          "choropleth": [
           {
            "colorbar": {
             "outlinewidth": 0,
             "ticks": ""
            },
            "type": "choropleth"
           }
          ],
          "contour": [
           {
            "colorbar": {
             "outlinewidth": 0,
             "ticks": ""
            },
            "colorscale": [
             [
              0,
              "#0d0887"
             ],
             [
              0.1111111111111111,
              "#46039f"
             ],
             [
              0.2222222222222222,
              "#7201a8"
             ],
             [
              0.3333333333333333,
              "#9c179e"
             ],
             [
              0.4444444444444444,
              "#bd3786"
             ],
             [
              0.5555555555555556,
              "#d8576b"
             ],
             [
              0.6666666666666666,
              "#ed7953"
             ],
             [
              0.7777777777777778,
              "#fb9f3a"
             ],
             [
              0.8888888888888888,
              "#fdca26"
             ],
             [
              1,
              "#f0f921"
             ]
            ],
            "type": "contour"
           }
          ],
          "contourcarpet": [
           {
            "colorbar": {
             "outlinewidth": 0,
             "ticks": ""
            },
            "type": "contourcarpet"
           }
          ],
          "heatmap": [
           {
            "colorbar": {
             "outlinewidth": 0,
             "ticks": ""
            },
            "colorscale": [
             [
              0,
              "#0d0887"
             ],
             [
              0.1111111111111111,
              "#46039f"
             ],
             [
              0.2222222222222222,
              "#7201a8"
             ],
             [
              0.3333333333333333,
              "#9c179e"
             ],
             [
              0.4444444444444444,
              "#bd3786"
             ],
             [
              0.5555555555555556,
              "#d8576b"
             ],
             [
              0.6666666666666666,
              "#ed7953"
             ],
             [
              0.7777777777777778,
              "#fb9f3a"
             ],
             [
              0.8888888888888888,
              "#fdca26"
             ],
             [
              1,
              "#f0f921"
             ]
            ],
            "type": "heatmap"
           }
          ],
          "histogram": [
           {
            "marker": {
             "pattern": {
              "fillmode": "overlay",
              "size": 10,
              "solidity": 0.2
             }
            },
            "type": "histogram"
           }
          ],
          "histogram2d": [
           {
            "colorbar": {
             "outlinewidth": 0,
             "ticks": ""
            },
            "colorscale": [
             [
              0,
              "#0d0887"
             ],
             [
              0.1111111111111111,
              "#46039f"
             ],
             [
              0.2222222222222222,
              "#7201a8"
             ],
             [
              0.3333333333333333,
              "#9c179e"
             ],
             [
              0.4444444444444444,
              "#bd3786"
             ],
             [
              0.5555555555555556,
              "#d8576b"
             ],
             [
              0.6666666666666666,
              "#ed7953"
             ],
             [
              0.7777777777777778,
              "#fb9f3a"
             ],
             [
              0.8888888888888888,
              "#fdca26"
             ],
             [
              1,
              "#f0f921"
             ]
            ],
            "type": "histogram2d"
           }
          ],
          "histogram2dcontour": [
           {
            "colorbar": {
             "outlinewidth": 0,
             "ticks": ""
            },
            "colorscale": [
             [
              0,
              "#0d0887"
             ],
             [
              0.1111111111111111,
              "#46039f"
             ],
             [
              0.2222222222222222,
              "#7201a8"
             ],
             [
              0.3333333333333333,
              "#9c179e"
             ],
             [
              0.4444444444444444,
              "#bd3786"
             ],
             [
              0.5555555555555556,
              "#d8576b"
             ],
             [
              0.6666666666666666,
              "#ed7953"
             ],
             [
              0.7777777777777778,
              "#fb9f3a"
             ],
             [
              0.8888888888888888,
              "#fdca26"
             ],
             [
              1,
              "#f0f921"
             ]
            ],
            "type": "histogram2dcontour"
           }
          ],
          "mesh3d": [
           {
            "colorbar": {
             "outlinewidth": 0,
             "ticks": ""
            },
            "type": "mesh3d"
           }
          ],
          "parcoords": [
           {
            "line": {
             "colorbar": {
              "outlinewidth": 0,
              "ticks": ""
             }
            },
            "type": "parcoords"
           }
          ],
          "pie": [
           {
            "automargin": true,
            "type": "pie"
           }
          ],
          "scatter": [
           {
            "fillpattern": {
             "fillmode": "overlay",
             "size": 10,
             "solidity": 0.2
            },
            "type": "scatter"
           }
          ],
          "scatter3d": [
           {
            "line": {
             "colorbar": {
              "outlinewidth": 0,
              "ticks": ""
             }
            },
            "marker": {
             "colorbar": {
              "outlinewidth": 0,
              "ticks": ""
             }
            },
            "type": "scatter3d"
           }
          ],
          "scattercarpet": [
           {
            "marker": {
             "colorbar": {
              "outlinewidth": 0,
              "ticks": ""
             }
            },
            "type": "scattercarpet"
           }
          ],
          "scattergeo": [
           {
            "marker": {
             "colorbar": {
              "outlinewidth": 0,
              "ticks": ""
             }
            },
            "type": "scattergeo"
           }
          ],
          "scattergl": [
           {
            "marker": {
             "colorbar": {
              "outlinewidth": 0,
              "ticks": ""
             }
            },
            "type": "scattergl"
           }
          ],
          "scattermap": [
           {
            "marker": {
             "colorbar": {
              "outlinewidth": 0,
              "ticks": ""
             }
            },
            "type": "scattermap"
           }
          ],
          "scattermapbox": [
           {
            "marker": {
             "colorbar": {
              "outlinewidth": 0,
              "ticks": ""
             }
            },
            "type": "scattermapbox"
           }
          ],
          "scatterpolar": [
           {
            "marker": {
             "colorbar": {
              "outlinewidth": 0,
              "ticks": ""
             }
            },
            "type": "scatterpolar"
           }
          ],
          "scatterpolargl": [
           {
            "marker": {
             "colorbar": {
              "outlinewidth": 0,
              "ticks": ""
             }
            },
            "type": "scatterpolargl"
           }
          ],
          "scatterternary": [
           {
            "marker": {
             "colorbar": {
              "outlinewidth": 0,
              "ticks": ""
             }
            },
            "type": "scatterternary"
           }
          ],
          "surface": [
           {
            "colorbar": {
             "outlinewidth": 0,
             "ticks": ""
            },
            "colorscale": [
             [
              0,
              "#0d0887"
             ],
             [
              0.1111111111111111,
              "#46039f"
             ],
             [
              0.2222222222222222,
              "#7201a8"
             ],
             [
              0.3333333333333333,
              "#9c179e"
             ],
             [
              0.4444444444444444,
              "#bd3786"
             ],
             [
              0.5555555555555556,
              "#d8576b"
             ],
             [
              0.6666666666666666,
              "#ed7953"
             ],
             [
              0.7777777777777778,
              "#fb9f3a"
             ],
             [
              0.8888888888888888,
              "#fdca26"
             ],
             [
              1,
              "#f0f921"
             ]
            ],
            "type": "surface"
           }
          ],
          "table": [
           {
            "cells": {
             "fill": {
              "color": "#EBF0F8"
             },
             "line": {
              "color": "white"
             }
            },
            "header": {
             "fill": {
              "color": "#C8D4E3"
             },
             "line": {
              "color": "white"
             }
            },
            "type": "table"
           }
          ]
         },
         "layout": {
          "annotationdefaults": {
           "arrowcolor": "#2a3f5f",
           "arrowhead": 0,
           "arrowwidth": 1
          },
          "autotypenumbers": "strict",
          "coloraxis": {
           "colorbar": {
            "outlinewidth": 0,
            "ticks": ""
           }
          },
          "colorscale": {
           "diverging": [
            [
             0,
             "#8e0152"
            ],
            [
             0.1,
             "#c51b7d"
            ],
            [
             0.2,
             "#de77ae"
            ],
            [
             0.3,
             "#f1b6da"
            ],
            [
             0.4,
             "#fde0ef"
            ],
            [
             0.5,
             "#f7f7f7"
            ],
            [
             0.6,
             "#e6f5d0"
            ],
            [
             0.7,
             "#b8e186"
            ],
            [
             0.8,
             "#7fbc41"
            ],
            [
             0.9,
             "#4d9221"
            ],
            [
             1,
             "#276419"
            ]
           ],
           "sequential": [
            [
             0,
             "#0d0887"
            ],
            [
             0.1111111111111111,
             "#46039f"
            ],
            [
             0.2222222222222222,
             "#7201a8"
            ],
            [
             0.3333333333333333,
             "#9c179e"
            ],
            [
             0.4444444444444444,
             "#bd3786"
            ],
            [
             0.5555555555555556,
             "#d8576b"
            ],
            [
             0.6666666666666666,
             "#ed7953"
            ],
            [
             0.7777777777777778,
             "#fb9f3a"
            ],
            [
             0.8888888888888888,
             "#fdca26"
            ],
            [
             1,
             "#f0f921"
            ]
           ],
           "sequentialminus": [
            [
             0,
             "#0d0887"
            ],
            [
             0.1111111111111111,
             "#46039f"
            ],
            [
             0.2222222222222222,
             "#7201a8"
            ],
            [
             0.3333333333333333,
             "#9c179e"
            ],
            [
             0.4444444444444444,
             "#bd3786"
            ],
            [
             0.5555555555555556,
             "#d8576b"
            ],
            [
             0.6666666666666666,
             "#ed7953"
            ],
            [
             0.7777777777777778,
             "#fb9f3a"
            ],
            [
             0.8888888888888888,
             "#fdca26"
            ],
            [
             1,
             "#f0f921"
            ]
           ]
          },
          "colorway": [
           "#636efa",
           "#EF553B",
           "#00cc96",
           "#ab63fa",
           "#FFA15A",
           "#19d3f3",
           "#FF6692",
           "#B6E880",
           "#FF97FF",
           "#FECB52"
          ],
          "font": {
           "color": "#2a3f5f"
          },
          "geo": {
           "bgcolor": "white",
           "lakecolor": "white",
           "landcolor": "#E5ECF6",
           "showlakes": true,
           "showland": true,
           "subunitcolor": "white"
          },
          "hoverlabel": {
           "align": "left"
          },
          "hovermode": "closest",
          "mapbox": {
           "style": "light"
          },
          "paper_bgcolor": "white",
          "plot_bgcolor": "#E5ECF6",
          "polar": {
           "angularaxis": {
            "gridcolor": "white",
            "linecolor": "white",
            "ticks": ""
           },
           "bgcolor": "#E5ECF6",
           "radialaxis": {
            "gridcolor": "white",
            "linecolor": "white",
            "ticks": ""
           }
          },
          "scene": {
           "xaxis": {
            "backgroundcolor": "#E5ECF6",
            "gridcolor": "white",
            "gridwidth": 2,
            "linecolor": "white",
            "showbackground": true,
            "ticks": "",
            "zerolinecolor": "white"
           },
           "yaxis": {
            "backgroundcolor": "#E5ECF6",
            "gridcolor": "white",
            "gridwidth": 2,
            "linecolor": "white",
            "showbackground": true,
            "ticks": "",
            "zerolinecolor": "white"
           },
           "zaxis": {
            "backgroundcolor": "#E5ECF6",
            "gridcolor": "white",
            "gridwidth": 2,
            "linecolor": "white",
            "showbackground": true,
            "ticks": "",
            "zerolinecolor": "white"
           }
          },
          "shapedefaults": {
           "line": {
            "color": "#2a3f5f"
           }
          },
          "ternary": {
           "aaxis": {
            "gridcolor": "white",
            "linecolor": "white",
            "ticks": ""
           },
           "baxis": {
            "gridcolor": "white",
            "linecolor": "white",
            "ticks": ""
           },
           "bgcolor": "#E5ECF6",
           "caxis": {
            "gridcolor": "white",
            "linecolor": "white",
            "ticks": ""
           }
          },
          "title": {
           "x": 0.05
          },
          "xaxis": {
           "automargin": true,
           "gridcolor": "white",
           "linecolor": "white",
           "ticks": "",
           "title": {
            "standoff": 15
           },
           "zerolinecolor": "white",
           "zerolinewidth": 2
          },
          "yaxis": {
           "automargin": true,
           "gridcolor": "white",
           "linecolor": "white",
           "ticks": "",
           "title": {
            "standoff": 15
           },
           "zerolinecolor": "white",
           "zerolinewidth": 2
          }
         }
        },
        "title": {
         "text": "Comparación Multi-Métrica de Modelos (Radar)"
        },
        "width": 700
       }
      }
     },
     "metadata": {},
     "output_type": "display_data"
    }
   ],
   "source": [
    "# Visualizaciones de comparación\n",
    "def create_model_comparison_plots(df):\n",
    "    \"\"\"Crear visualizaciones para comparar modelos\"\"\"\n",
    "    \n",
    "    if df.empty:\n",
    "        print(\"❌ No hay datos para visualizar\")\n",
    "        return\n",
    "    \n",
    "    # Usar datos reales o dummy\n",
    "    data_df = df if not df.empty else dummy_df\n",
    "    \n",
    "    # 1. Gráfico de barras comparativo\n",
    "    fig, axes = plt.subplots(2, 2, figsize=(15, 12))\n",
    "    \n",
    "    metrics_to_plot = ['metrics.accuracy', 'metrics.f1_score', 'metrics.precision', 'metrics.recall']\n",
    "    titles = ['Accuracy', 'F1-Score', 'Precision', 'Recall']\n",
    "    \n",
    "    for i, (metric, title) in enumerate(zip(metrics_to_plot, titles)):\n",
    "        ax = axes[i//2, i%2]\n",
    "        if metric in data_df.columns:\n",
    "            # Crear gráfico de barras\n",
    "            models = data_df['params.model_name']\n",
    "            scores = data_df[metric]\n",
    "            \n",
    "            bars = ax.bar(models, scores, alpha=0.7, color=plt.cm.Set3(np.arange(len(models))))\n",
    "            ax.set_title(f'Comparación de {title}', fontweight='bold')\n",
    "            ax.set_ylabel(title)\n",
    "            ax.set_xlabel('Modelo')\n",
    "            ax.tick_params(axis='x', rotation=45)\n",
    "            \n",
    "            # Agregar valores en las barras\n",
    "            for bar, score in zip(bars, scores):\n",
    "                ax.text(bar.get_x() + bar.get_width()/2, bar.get_height() + 0.01, \n",
    "                       f'{score:.3f}', ha='center', va='bottom', fontweight='bold')\n",
    "    \n",
    "    plt.tight_layout()\n",
    "    plt.show()\n",
    "    \n",
    "    # 2. Gráfico radar para comparación multi-métrica\n",
    "    if len(data_df) > 0:\n",
    "        fig = go.Figure()\n",
    "        \n",
    "        for idx, row in data_df.iterrows():\n",
    "            model_name = row['params.model_name']\n",
    "            values = [row.get(metric, 0) for metric in metrics_to_plot if metric in data_df.columns]\n",
    "            metric_names = [title for metric, title in zip(metrics_to_plot, titles) if metric in data_df.columns]\n",
    "            \n",
    "            fig.add_trace(go.Scatterpolar(\n",
    "                r=values,\n",
    "                theta=metric_names,\n",
    "                fill='toself',\n",
    "                name=model_name,\n",
    "                line=dict(width=2)\n",
    "            ))\n",
    "        \n",
    "        fig.update_layout(\n",
    "            polar=dict(\n",
    "                radialaxis=dict(visible=True, range=[0, 1])\n",
    "            ),\n",
    "            title=\"Comparación Multi-Métrica de Modelos (Radar)\",\n",
    "            showlegend=True,\n",
    "            width=700,\n",
    "            height=500\n",
    "        )\n",
    "        \n",
    "        fig.show()\n",
    "\n",
    "# Ejecutar visualizaciones\n",
    "print(\"📊 GENERANDO VISUALIZACIONES COMPARATIVAS\")\n",
    "print(\"=\"*45)\n",
    "\n",
    "# Determinar qué datos usar - si no hay datos reales, usar dummy\n",
    "if not combined_runs.empty:\n",
    "    plot_data = combined_runs\n",
    "    print(\"📈 Usando datos reales de experimentos\")\n",
    "else:\n",
    "    plot_data = dummy_df\n",
    "    print(\"🎭 Usando datos de demostración\")\n",
    "\n",
    "create_model_comparison_plots(plot_data)"
   ]
  },
  {
   "cell_type": "code",
   "execution_count": 6,
   "id": "84c3e5ae",
   "metadata": {},
   "outputs": [
    {
     "name": "stdout",
     "output_type": "stream",
     "text": [
      "ℹ️ No hay suficientes datos temporales para análisis de evolución\n",
      "\n",
      "🎯 RECOMENDACIONES Y PRÓXIMOS PASOS\n",
      "========================================\n",
      "1. 🚀 **Ejecutar Experimentos**: Corre `python experiments/mlflow_experiments.py` para generar datos reales\n",
      "2. 📊 **Métricas Multi-label**: Implementa métricas específicas para clasificación multi-label\n",
      "3. 🔧 **Hyperparameter Tuning**: Usa MLflow para tracking de optimización de hiperparámetros\n",
      "4. 🏆 **Model Registry**: Registra los mejores modelos en MLflow Model Registry\n",
      "5. 📈 **Monitoring**: Configura alertas para degradación de rendimiento\n",
      "6. 🔄 **Reentrenamiento**: Establece pipelines automáticos de reentrenamiento\n",
      "7. 📝 **Documentación**: Documenta decisiones de modelado en MLflow\n",
      "\n",
      "✅ ANÁLISIS COMPLETADO\n",
      "📁 Revisa los experimentos en: file:../mlruns\n",
      "🌐 Abre MLflow UI con: mlflow ui --backend-store-uri file:../mlruns\n"
     ]
    }
   ],
   "source": [
    "# Análisis temporal de experimentos (si hay datos suficientes)\n",
    "if not combined_runs.empty and 'start_time' in combined_runs.columns:\n",
    "    print(\"⏱️ ANÁLISIS TEMPORAL DE EXPERIMENTOS\")\n",
    "    print(\"=\"*38)\n",
    "    \n",
    "    # Convertir start_time a datetime si no lo está\n",
    "    if not pd.api.types.is_datetime64_any_dtype(combined_runs['start_time']):\n",
    "        combined_runs['start_time'] = pd.to_datetime(combined_runs['start_time'])\n",
    "    \n",
    "    # Gráfico de evolución temporal\n",
    "    fig = go.Figure()\n",
    "    \n",
    "    for metric in ['metrics.accuracy', 'metrics.f1_score']:\n",
    "        if metric in combined_runs.columns:\n",
    "            fig.add_trace(go.Scatter(\n",
    "                x=combined_runs['start_time'],\n",
    "                y=combined_runs[metric],\n",
    "                mode='lines+markers',\n",
    "                name=metric.replace('metrics.', '').title(),\n",
    "                line=dict(width=3),\n",
    "                marker=dict(size=8)\n",
    "            ))\n",
    "    \n",
    "    fig.update_layout(\n",
    "        title=\"Evolución Temporal del Rendimiento de Modelos\",\n",
    "        xaxis_title=\"Fecha del Experimento\",\n",
    "        yaxis_title=\"Score de Métrica\",\n",
    "        hovermode='x unified',\n",
    "        width=900,\n",
    "        height=400\n",
    "    )\n",
    "    \n",
    "    fig.show()\n",
    "\n",
    "else:\n",
    "    print(\"ℹ️ No hay suficientes datos temporales para análisis de evolución\")\n",
    "\n",
    "print(\"\\n🎯 RECOMENDACIONES Y PRÓXIMOS PASOS\")\n",
    "print(\"=\"*40)\n",
    "\n",
    "recommendations = [\n",
    "    \"1. 🚀 **Ejecutar Experimentos**: Corre `python experiments/mlflow_experiments.py` para generar datos reales\",\n",
    "    \"2. 📊 **Métricas Multi-label**: Implementa métricas específicas para clasificación multi-label\",\n",
    "    \"3. 🔧 **Hyperparameter Tuning**: Usa MLflow para tracking de optimización de hiperparámetros\",\n",
    "    \"4. 🏆 **Model Registry**: Registra los mejores modelos en MLflow Model Registry\",\n",
    "    \"5. 📈 **Monitoring**: Configura alertas para degradación de rendimiento\",\n",
    "    \"6. 🔄 **Reentrenamiento**: Establece pipelines automáticos de reentrenamiento\",\n",
    "    \"7. 📝 **Documentación**: Documenta decisiones de modelado en MLflow\"\n",
    "]\n",
    "\n",
    "for rec in recommendations:\n",
    "    print(rec)\n",
    "\n",
    "print(f\"\\n✅ ANÁLISIS COMPLETADO\")\n",
    "print(f\"📁 Revisa los experimentos en: {mlflow.get_tracking_uri()}\")\n",
    "print(f\"🌐 Abre MLflow UI con: mlflow ui --backend-store-uri {mlflow.get_tracking_uri()}\")\n",
    "\n",
    "\n",
    "                      "
   ]
  },
  {
   "cell_type": "code",
   "execution_count": 7,
   "id": "a7485168",
   "metadata": {},
   "outputs": [],
   "source": [
    "# Celda 1: Imports\n",
    "import mlflow\n",
    "import pandas as pd\n",
    "import matplotlib.pyplot as plt\n",
    "import seaborn as sns\n",
    "import plotly.express as px\n",
    "import plotly.graph_objects as go\n",
    "from plotly.subplots import make_subplots\n",
    "\n",
    "# Configurar MLflow\n",
    "mlflow.set_tracking_uri(\"file:../mlruns\")"
   ]
  },
  {
   "cell_type": "code",
   "execution_count": 8,
   "id": "af4908b9",
   "metadata": {},
   "outputs": [
    {
     "name": "stdout",
     "output_type": "stream",
     "text": [
      "📊 EXPERIMENTOS ENCONTRADOS:\n",
      "Total de runs: 23\n",
      "Experimentos: ['toxicity-transformer-experiments' 'transformer-simple-test'\n",
      " 'toxicity-detection-experiments']\n",
      "Tipos de modelo: ['roberta' 'bert' 'distilbert' 'distilbert-base-uncased' 'random_forest'\n",
      " 'logistic']\n"
     ]
    },
    {
     "data": {
      "text/html": [
       "<div>\n",
       "<style scoped>\n",
       "    .dataframe tbody tr th:only-of-type {\n",
       "        vertical-align: middle;\n",
       "    }\n",
       "\n",
       "    .dataframe tbody tr th {\n",
       "        vertical-align: top;\n",
       "    }\n",
       "\n",
       "    .dataframe thead th {\n",
       "        text-align: right;\n",
       "    }\n",
       "</style>\n",
       "<table border=\"1\" class=\"dataframe\">\n",
       "  <thead>\n",
       "    <tr style=\"text-align: right;\">\n",
       "      <th></th>\n",
       "      <th>run_id</th>\n",
       "      <th>experiment_name</th>\n",
       "      <th>model_type</th>\n",
       "      <th>status</th>\n",
       "      <th>start_time</th>\n",
       "      <th>end_time</th>\n",
       "      <th>duration</th>\n",
       "      <th>epoch</th>\n",
       "      <th>eval_f1_macro</th>\n",
       "      <th>eval_f1_micro</th>\n",
       "      <th>eval_hamming_loss</th>\n",
       "      <th>eval_jaccard_score</th>\n",
       "      <th>eval_loss</th>\n",
       "      <th>eval_runtime</th>\n",
       "      <th>eval_samples_per_second</th>\n",
       "      <th>eval_steps_per_second</th>\n",
       "      <th>f1_macro</th>\n",
       "      <th>f1_micro</th>\n",
       "      <th>grad_norm</th>\n",
       "      <th>hamming_loss</th>\n",
       "      <th>jaccard_score</th>\n",
       "      <th>learning_rate</th>\n",
       "      <th>loss</th>\n",
       "      <th>runtime</th>\n",
       "      <th>samples_per_second</th>\n",
       "      <th>steps_per_second</th>\n",
       "      <th>total_flos</th>\n",
       "      <th>train_loss</th>\n",
       "      <th>train_runtime</th>\n",
       "      <th>train_samples_per_second</th>\n",
       "      <th>train_steps_per_second</th>\n",
       "      <th>num_train_epochs</th>\n",
       "      <th>training_success</th>\n",
       "      <th>n_estimators</th>\n",
       "      <th>max_depth</th>\n",
       "      <th>C</th>\n",
       "    </tr>\n",
       "  </thead>\n",
       "  <tbody>\n",
       "    <tr>\n",
       "      <th>0</th>\n",
       "      <td>89344de40cdd404282af5e484e0dc49d</td>\n",
       "      <td>toxicity-transformer-experiments</td>\n",
       "      <td>roberta</td>\n",
       "      <td>FINISHED</td>\n",
       "      <td>1751551939317</td>\n",
       "      <td>1751557683478</td>\n",
       "      <td>5744.161</td>\n",
       "      <td>3.0</td>\n",
       "      <td>0.539013</td>\n",
       "      <td>0.802041</td>\n",
       "      <td>0.048115</td>\n",
       "      <td>0.510311</td>\n",
       "      <td>0.167933</td>\n",
       "      <td>66.2413</td>\n",
       "      <td>5.072</td>\n",
       "      <td>1.268</td>\n",
       "      <td>0.539013</td>\n",
       "      <td>0.802041</td>\n",
       "      <td>5.988059</td>\n",
       "      <td>0.048115</td>\n",
       "      <td>0.510311</td>\n",
       "      <td>9.911894e-08</td>\n",
       "      <td>0.1606</td>\n",
       "      <td>66.2413</td>\n",
       "      <td>5.072</td>\n",
       "      <td>1.268</td>\n",
       "      <td>1.059380e+15</td>\n",
       "      <td>0.254444</td>\n",
       "      <td>5658.0552</td>\n",
       "      <td>0.712</td>\n",
       "      <td>0.178</td>\n",
       "      <td>3</td>\n",
       "      <td>NaN</td>\n",
       "      <td>NaN</td>\n",
       "      <td>NaN</td>\n",
       "      <td>NaN</td>\n",
       "    </tr>\n",
       "    <tr>\n",
       "      <th>1</th>\n",
       "      <td>32e53ffb490e4fd69af724c83e264b65</td>\n",
       "      <td>toxicity-transformer-experiments</td>\n",
       "      <td>bert</td>\n",
       "      <td>FINISHED</td>\n",
       "      <td>1751546370040</td>\n",
       "      <td>1751551938915</td>\n",
       "      <td>5568.875</td>\n",
       "      <td>3.0</td>\n",
       "      <td>0.558823</td>\n",
       "      <td>0.809766</td>\n",
       "      <td>0.046379</td>\n",
       "      <td>0.528355</td>\n",
       "      <td>0.150686</td>\n",
       "      <td>60.0191</td>\n",
       "      <td>5.598</td>\n",
       "      <td>1.400</td>\n",
       "      <td>0.558823</td>\n",
       "      <td>0.809766</td>\n",
       "      <td>1.015133</td>\n",
       "      <td>0.046379</td>\n",
       "      <td>0.528355</td>\n",
       "      <td>1.982379e-07</td>\n",
       "      <td>0.1165</td>\n",
       "      <td>60.0191</td>\n",
       "      <td>5.598</td>\n",
       "      <td>1.400</td>\n",
       "      <td>1.059380e+15</td>\n",
       "      <td>0.223571</td>\n",
       "      <td>5491.1899</td>\n",
       "      <td>0.733</td>\n",
       "      <td>0.184</td>\n",
       "      <td>3</td>\n",
       "      <td>NaN</td>\n",
       "      <td>NaN</td>\n",
       "      <td>NaN</td>\n",
       "      <td>NaN</td>\n",
       "    </tr>\n",
       "    <tr>\n",
       "      <th>2</th>\n",
       "      <td>05876b282f1c455c9fee9087d5c3d690</td>\n",
       "      <td>toxicity-transformer-experiments</td>\n",
       "      <td>distilbert</td>\n",
       "      <td>FINISHED</td>\n",
       "      <td>1751543848162</td>\n",
       "      <td>1751546369186</td>\n",
       "      <td>2521.024</td>\n",
       "      <td>3.0</td>\n",
       "      <td>0.144133</td>\n",
       "      <td>0.565022</td>\n",
       "      <td>0.096230</td>\n",
       "      <td>0.116163</td>\n",
       "      <td>0.244069</td>\n",
       "      <td>31.4155</td>\n",
       "      <td>10.695</td>\n",
       "      <td>0.668</td>\n",
       "      <td>0.144133</td>\n",
       "      <td>0.565022</td>\n",
       "      <td>0.626996</td>\n",
       "      <td>0.096230</td>\n",
       "      <td>0.116163</td>\n",
       "      <td>3.947368e-07</td>\n",
       "      <td>0.2533</td>\n",
       "      <td>31.4155</td>\n",
       "      <td>10.695</td>\n",
       "      <td>0.668</td>\n",
       "      <td>5.334089e+14</td>\n",
       "      <td>0.383642</td>\n",
       "      <td>2477.9045</td>\n",
       "      <td>1.625</td>\n",
       "      <td>0.102</td>\n",
       "      <td>3</td>\n",
       "      <td>NaN</td>\n",
       "      <td>NaN</td>\n",
       "      <td>NaN</td>\n",
       "      <td>NaN</td>\n",
       "    </tr>\n",
       "    <tr>\n",
       "      <th>3</th>\n",
       "      <td>fc89b86866b342ce9490a75b834eee9b</td>\n",
       "      <td>toxicity-transformer-experiments</td>\n",
       "      <td>distilbert</td>\n",
       "      <td>FINISHED</td>\n",
       "      <td>1751540334752</td>\n",
       "      <td>1751543847421</td>\n",
       "      <td>3512.669</td>\n",
       "      <td>4.0</td>\n",
       "      <td>0.579222</td>\n",
       "      <td>0.808247</td>\n",
       "      <td>0.046131</td>\n",
       "      <td>0.539099</td>\n",
       "      <td>0.136870</td>\n",
       "      <td>30.0630</td>\n",
       "      <td>11.177</td>\n",
       "      <td>1.397</td>\n",
       "      <td>0.579222</td>\n",
       "      <td>0.808247</td>\n",
       "      <td>1.463294</td>\n",
       "      <td>0.046131</td>\n",
       "      <td>0.539099</td>\n",
       "      <td>1.573427e-07</td>\n",
       "      <td>0.0951</td>\n",
       "      <td>30.0630</td>\n",
       "      <td>11.177</td>\n",
       "      <td>1.397</td>\n",
       "      <td>7.112118e+14</td>\n",
       "      <td>0.214026</td>\n",
       "      <td>3470.9591</td>\n",
       "      <td>1.547</td>\n",
       "      <td>0.194</td>\n",
       "      <td>4</td>\n",
       "      <td>NaN</td>\n",
       "      <td>NaN</td>\n",
       "      <td>NaN</td>\n",
       "      <td>NaN</td>\n",
       "    </tr>\n",
       "    <tr>\n",
       "      <th>4</th>\n",
       "      <td>c4955576155742b7aab2200b0d8e5f5a</td>\n",
       "      <td>toxicity-transformer-experiments</td>\n",
       "      <td>distilbert</td>\n",
       "      <td>FINISHED</td>\n",
       "      <td>1751538524624</td>\n",
       "      <td>1751540333838</td>\n",
       "      <td>1809.214</td>\n",
       "      <td>2.0</td>\n",
       "      <td>0.233927</td>\n",
       "      <td>0.642777</td>\n",
       "      <td>0.079117</td>\n",
       "      <td>0.214509</td>\n",
       "      <td>0.233781</td>\n",
       "      <td>30.4456</td>\n",
       "      <td>11.036</td>\n",
       "      <td>1.380</td>\n",
       "      <td>0.233927</td>\n",
       "      <td>0.642777</td>\n",
       "      <td>0.699579</td>\n",
       "      <td>0.079117</td>\n",
       "      <td>0.214509</td>\n",
       "      <td>5.932203e-07</td>\n",
       "      <td>0.2477</td>\n",
       "      <td>30.4456</td>\n",
       "      <td>11.036</td>\n",
       "      <td>1.380</td>\n",
       "      <td>3.556059e+14</td>\n",
       "      <td>0.357923</td>\n",
       "      <td>1764.8886</td>\n",
       "      <td>1.521</td>\n",
       "      <td>0.190</td>\n",
       "      <td>2</td>\n",
       "      <td>NaN</td>\n",
       "      <td>NaN</td>\n",
       "      <td>NaN</td>\n",
       "      <td>NaN</td>\n",
       "    </tr>\n",
       "  </tbody>\n",
       "</table>\n",
       "</div>"
      ],
      "text/plain": [
       "                             run_id                   experiment_name  model_type    status     start_time       end_time  duration  epoch  eval_f1_macro  eval_f1_micro  eval_hamming_loss  eval_jaccard_score  eval_loss  eval_runtime  eval_samples_per_second  eval_steps_per_second  f1_macro  f1_micro  grad_norm  hamming_loss  jaccard_score  learning_rate    loss  runtime  samples_per_second  steps_per_second    total_flos  train_loss  train_runtime  train_samples_per_second  train_steps_per_second num_train_epochs  training_success n_estimators max_depth    C\n",
       "0  89344de40cdd404282af5e484e0dc49d  toxicity-transformer-experiments     roberta  FINISHED  1751551939317  1751557683478  5744.161    3.0       0.539013       0.802041           0.048115            0.510311   0.167933       66.2413                    5.072                  1.268  0.539013  0.802041   5.988059      0.048115       0.510311   9.911894e-08  0.1606  66.2413               5.072             1.268  1.059380e+15    0.254444      5658.0552                     0.712                   0.178                3               NaN          NaN       NaN  NaN\n",
       "1  32e53ffb490e4fd69af724c83e264b65  toxicity-transformer-experiments        bert  FINISHED  1751546370040  1751551938915  5568.875    3.0       0.558823       0.809766           0.046379            0.528355   0.150686       60.0191                    5.598                  1.400  0.558823  0.809766   1.015133      0.046379       0.528355   1.982379e-07  0.1165  60.0191               5.598             1.400  1.059380e+15    0.223571      5491.1899                     0.733                   0.184                3               NaN          NaN       NaN  NaN\n",
       "2  05876b282f1c455c9fee9087d5c3d690  toxicity-transformer-experiments  distilbert  FINISHED  1751543848162  1751546369186  2521.024    3.0       0.144133       0.565022           0.096230            0.116163   0.244069       31.4155                   10.695                  0.668  0.144133  0.565022   0.626996      0.096230       0.116163   3.947368e-07  0.2533  31.4155              10.695             0.668  5.334089e+14    0.383642      2477.9045                     1.625                   0.102                3               NaN          NaN       NaN  NaN\n",
       "3  fc89b86866b342ce9490a75b834eee9b  toxicity-transformer-experiments  distilbert  FINISHED  1751540334752  1751543847421  3512.669    4.0       0.579222       0.808247           0.046131            0.539099   0.136870       30.0630                   11.177                  1.397  0.579222  0.808247   1.463294      0.046131       0.539099   1.573427e-07  0.0951  30.0630              11.177             1.397  7.112118e+14    0.214026      3470.9591                     1.547                   0.194                4               NaN          NaN       NaN  NaN\n",
       "4  c4955576155742b7aab2200b0d8e5f5a  toxicity-transformer-experiments  distilbert  FINISHED  1751538524624  1751540333838  1809.214    2.0       0.233927       0.642777           0.079117            0.214509   0.233781       30.4456                   11.036                  1.380  0.233927  0.642777   0.699579      0.079117       0.214509   5.932203e-07  0.2477  30.4456              11.036             1.380  3.556059e+14    0.357923      1764.8886                     1.521                   0.190                2               NaN          NaN       NaN  NaN"
      ]
     },
     "execution_count": 8,
     "metadata": {},
     "output_type": "execute_result"
    }
   ],
   "source": [
    "# Celda 2: Obtener todos los experimentos\n",
    "def get_all_experiments_data():\n",
    "    \"\"\"Obtener datos de todos los experimentos\"\"\"\n",
    "    client = mlflow.tracking.MlflowClient()\n",
    "    experiments = client.search_experiments()\n",
    "    \n",
    "    all_runs = []\n",
    "    for exp in experiments:\n",
    "        if exp.name != \"Default\":  # Excluir experimento por defecto\n",
    "            runs = client.search_runs(exp.experiment_id)\n",
    "            for run in runs:\n",
    "                run_data = {\n",
    "                    \"run_id\": run.info.run_id,\n",
    "                    \"experiment_name\": exp.name,\n",
    "                    \"model_type\": run.data.params.get(\"model_type\", \n",
    "                                 run.data.params.get(\"model_name\", \"unknown\")),\n",
    "                    \"status\": run.info.status,\n",
    "                    \"start_time\": run.info.start_time,\n",
    "                    \"end_time\": run.info.end_time,\n",
    "                    \"duration\": (run.info.end_time - run.info.start_time) / 1000 if run.info.end_time else None\n",
    "                }\n",
    "                \n",
    "                # Agregar métricas\n",
    "                for metric_name, metric_value in run.data.metrics.items():\n",
    "                    run_data[metric_name] = metric_value\n",
    "                \n",
    "                # Agregar parámetros importantes\n",
    "                for param_name in [\"C\", \"n_estimators\", \"max_depth\", \"num_train_epochs\"]:\n",
    "                    if param_name in run.data.params:\n",
    "                        run_data[param_name] = run.data.params[param_name]\n",
    "                \n",
    "                all_runs.append(run_data)\n",
    "    \n",
    "    return pd.DataFrame(all_runs)\n",
    "\n",
    "# Obtener datos\n",
    "experiments_df = get_all_experiments_data()\n",
    "print(\"📊 EXPERIMENTOS ENCONTRADOS:\")\n",
    "print(f\"Total de runs: {len(experiments_df)}\")\n",
    "print(f\"Experimentos: {experiments_df['experiment_name'].unique()}\")\n",
    "print(f\"Tipos de modelo: {experiments_df['model_type'].unique()}\")\n",
    "\n",
    "experiments_df.head()"
   ]
  },
  {
   "cell_type": "code",
   "execution_count": 9,
   "id": "51c9b9da",
   "metadata": {},
   "outputs": [
    {
     "name": "stdout",
     "output_type": "stream",
     "text": [
      "🏆 RANKING DE MODELOS POR JACCARD SCORE\n",
      "==================================================\n",
      "   model_type                  experiment_name  jaccard_score  hamming_loss\n",
      "   distilbert toxicity-transformer-experiments       0.539099      0.046131\n",
      "         bert toxicity-transformer-experiments       0.528355      0.046379\n",
      "      roberta toxicity-transformer-experiments       0.510311      0.048115\n",
      "     logistic   toxicity-detection-experiments       0.321567      0.069444\n",
      "     logistic   toxicity-detection-experiments       0.321567      0.069444\n",
      "   distilbert toxicity-transformer-experiments       0.214509      0.079117\n",
      "   distilbert toxicity-transformer-experiments       0.207115      0.079365\n",
      "   distilbert toxicity-transformer-experiments       0.116163      0.096230\n",
      "random_forest   toxicity-detection-experiments       0.106091      0.097470\n",
      "random_forest   toxicity-detection-experiments       0.106091      0.097470\n"
     ]
    }
   ],
   "source": [
    "# Celda 3: Análisis de rendimiento por tipo de modelo\n",
    "print(\"🏆 RANKING DE MODELOS POR JACCARD SCORE\")\n",
    "print(\"=\"*50)\n",
    "\n",
    "# Filtrar solo runs completados\n",
    "completed_runs = experiments_df[experiments_df['status'] == 'FINISHED'].copy()\n",
    "\n",
    "if 'jaccard_score' in completed_runs.columns:\n",
    "    ranking = completed_runs.nlargest(10, 'jaccard_score')[\n",
    "        ['model_type', 'experiment_name', 'jaccard_score', 'hamming_loss']\n",
    "    ]\n",
    "    print(ranking.to_string(index=False))\n",
    "else:\n",
    "    print(\"⚠️ No se encontraron métricas de jaccard_score\")"
   ]
  },
  {
   "cell_type": "code",
   "execution_count": 10,
   "id": "6a355f36",
   "metadata": {},
   "outputs": [
    {
     "data": {
      "image/png": "[encoded data removed]",
      "text/plain": [
       "<Figure size 1500x800 with 4 Axes>"
      ]
     },
     "metadata": {},
     "output_type": "display_data"
    }
   ],
   "source": [
    "# Celda 4: Visualización comparativa\n",
    "if len(completed_runs) > 0 and 'jaccard_score' in completed_runs.columns:\n",
    "    \n",
    "    # Gráfico de barras por tipo de modelo\n",
    "    plt.figure(figsize=(15, 8))\n",
    "    \n",
    "    # Agrupar por tipo de modelo\n",
    "    model_performance = completed_runs.groupby('model_type').agg({\n",
    "        'jaccard_score': ['mean', 'std', 'count'],\n",
    "        'hamming_loss': ['mean', 'std']\n",
    "    }).round(4)\n",
    "    \n",
    "    # Subplot 1: Jaccard Score\n",
    "    plt.subplot(2, 2, 1)\n",
    "    jaccard_means = model_performance['jaccard_score']['mean']\n",
    "    jaccard_stds = model_performance['jaccard_score']['std']\n",
    "    \n",
    "    bars = plt.bar(range(len(jaccard_means)), jaccard_means, \n",
    "                   yerr=jaccard_stds, capsize=5, alpha=0.7)\n",
    "    plt.xlabel('Tipo de Modelo')\n",
    "    plt.ylabel('Jaccard Score')\n",
    "    plt.title('Rendimiento Promedio por Tipo de Modelo')\n",
    "    plt.xticks(range(len(jaccard_means)), jaccard_means.index, rotation=45)\n",
    "    \n",
    "    # Agregar valores en las barras\n",
    "    for i, (bar, mean, std) in enumerate(zip(bars, jaccard_means, jaccard_stds)):\n",
    "        plt.text(bar.get_x() + bar.get_width()/2, bar.get_height() + std + 0.001,\n",
    "                f'{mean:.3f}', ha='center', va='bottom', fontsize=8)\n",
    "    \n",
    "    # Subplot 2: Hamming Loss\n",
    "    plt.subplot(2, 2, 2)\n",
    "    hamming_means = model_performance['hamming_loss']['mean']\n",
    "    hamming_stds = model_performance['hamming_loss']['std']\n",
    "    \n",
    "    bars = plt.bar(range(len(hamming_means)), hamming_means, \n",
    "                   yerr=hamming_stds, capsize=5, alpha=0.7, color='coral')\n",
    "    plt.xlabel('Tipo de Modelo')\n",
    "    plt.ylabel('Hamming Loss')\n",
    "    plt.title('Hamming Loss Promedio por Tipo de Modelo')\n",
    "    plt.xticks(range(len(hamming_means)), hamming_means.index, rotation=45)\n",
    "    \n",
    "    # Subplot 3: Scatter plot Jaccard vs Hamming\n",
    "    plt.subplot(2, 2, 3)\n",
    "    colors = plt.cm.Set3(range(len(completed_runs['model_type'].unique())))\n",
    "    color_map = dict(zip(completed_runs['model_type'].unique(), colors))\n",
    "    \n",
    "    for model_type in completed_runs['model_type'].unique():\n",
    "        model_data = completed_runs[completed_runs['model_type'] == model_type]\n",
    "        plt.scatter(model_data['jaccard_score'], model_data['hamming_loss'], \n",
    "                   label=model_type, alpha=0.7, s=50)\n",
    "    \n",
    "    plt.xlabel('Jaccard Score')\n",
    "    plt.ylabel('Hamming Loss')\n",
    "    plt.title('Jaccard Score vs Hamming Loss')\n",
    "    plt.legend()\n",
    "    \n",
    "    # Subplot 4: Duración de entrenamiento\n",
    "    plt.subplot(2, 2, 4)\n",
    "    if 'duration' in completed_runs.columns:\n",
    "        duration_data = completed_runs.dropna(subset=['duration'])\n",
    "        if len(duration_data) > 0:\n",
    "            duration_by_model = duration_data.groupby('model_type')['duration'].mean()\n",
    "            plt.bar(range(len(duration_by_model)), duration_by_model.values)\n",
    "            plt.xlabel('Tipo de Modelo')\n",
    "            plt.ylabel('Duración Promedio (segundos)')\n",
    "            plt.title('Tiempo de Entrenamiento por Modelo')\n",
    "            plt.xticks(range(len(duration_by_model)), duration_by_model.index, rotation=45)\n",
    "    \n",
    "    plt.tight_layout()\n",
    "    plt.show()"
   ]
  },
  {
   "cell_type": "code",
   "execution_count": 11,
   "id": "6c20d4f2",
   "metadata": {},
   "outputs": [
    {
     "name": "stdout",
     "output_type": "stream",
     "text": [
      "\n",
      "📋 TABLA RESUMEN DETALLADA\n",
      "================================================================================\n",
      "                 experiment_name    model_type  jaccard_score_count  jaccard_score_mean  jaccard_score_std  jaccard_score_min  jaccard_score_max  hamming_loss_mean  hamming_loss_std  hamming_loss_min  hamming_loss_max\n",
      "  toxicity-detection-experiments      logistic                    6              0.1421             0.1409             0.0108             0.3216             0.1072            0.0359            0.0694            0.1594\n",
      "  toxicity-detection-experiments random_forest                    6              0.0745             0.0280             0.0375             0.1061             0.1154            0.0243            0.0975            0.1494\n",
      "toxicity-transformer-experiments          bert                    1              0.5284                NaN             0.5284             0.5284             0.0464               NaN            0.0464            0.0464\n",
      "toxicity-transformer-experiments    distilbert                    5              0.2217             0.1925             0.0316             0.5391             0.0903            0.0383            0.0461            0.1506\n",
      "toxicity-transformer-experiments       roberta                    1              0.5103                NaN             0.5103             0.5103             0.0481               NaN            0.0481            0.0481\n"
     ]
    },
    {
     "ename": "OSError",
     "evalue": "Cannot save file into a non-existent directory: '..\\results'",
     "output_type": "error",
     "traceback": [
      "\u001b[31m---------------------------------------------------------------------------\u001b[39m",
      "\u001b[31mOSError\u001b[39m                                   Traceback (most recent call last)",
      "\u001b[36mCell\u001b[39m\u001b[36m \u001b[39m\u001b[32mIn[11]\u001b[39m\u001b[32m, line 18\u001b[39m\n\u001b[32m     15\u001b[39m \u001b[38;5;28mprint\u001b[39m(summary_table.to_string(index=\u001b[38;5;28;01mFalse\u001b[39;00m))\n\u001b[32m     17\u001b[39m \u001b[38;5;66;03m# Guardar como CSV\u001b[39;00m\n\u001b[32m---> \u001b[39m\u001b[32m18\u001b[39m \u001b[43msummary_table\u001b[49m\u001b[43m.\u001b[49m\u001b[43mto_csv\u001b[49m\u001b[43m(\u001b[49m\u001b[33;43m'\u001b[39;49m\u001b[33;43m../results/model_comparison_summary.csv\u001b[39;49m\u001b[33;43m'\u001b[39;49m\u001b[43m,\u001b[49m\u001b[43m \u001b[49m\u001b[43mindex\u001b[49m\u001b[43m=\u001b[49m\u001b[38;5;28;43;01mFalse\u001b[39;49;00m\u001b[43m)\u001b[49m\n\u001b[32m     19\u001b[39m \u001b[38;5;28mprint\u001b[39m(\u001b[33mf\u001b[39m\u001b[33m\"\u001b[39m\u001b[38;5;130;01m\\n\u001b[39;00m\u001b[33m💾 Tabla guardada en: ../results/model_comparison_summary.csv\u001b[39m\u001b[33m\"\u001b[39m)\n",
      "\u001b[36mFile \u001b[39m\u001b[32mc:\\Users\\usuario\\Desktop\\bcia\\nlp-team2\\.venv\\Lib\\site-packages\\pandas\\util\\_decorators.py:333\u001b[39m, in \u001b[36mdeprecate_nonkeyword_arguments.<locals>.decorate.<locals>.wrapper\u001b[39m\u001b[34m(*args, **kwargs)\u001b[39m\n\u001b[32m    327\u001b[39m \u001b[38;5;28;01mif\u001b[39;00m \u001b[38;5;28mlen\u001b[39m(args) > num_allow_args:\n\u001b[32m    328\u001b[39m     warnings.warn(\n\u001b[32m    329\u001b[39m         msg.format(arguments=_format_argument_list(allow_args)),\n\u001b[32m    330\u001b[39m         \u001b[38;5;167;01mFutureWarning\u001b[39;00m,\n\u001b[32m    331\u001b[39m         stacklevel=find_stack_level(),\n\u001b[32m    332\u001b[39m     )\n\u001b[32m--> \u001b[39m\u001b[32m333\u001b[39m \u001b[38;5;28;01mreturn\u001b[39;00m \u001b[43mfunc\u001b[49m\u001b[43m(\u001b[49m\u001b[43m*\u001b[49m\u001b[43margs\u001b[49m\u001b[43m,\u001b[49m\u001b[43m \u001b[49m\u001b[43m*\u001b[49m\u001b[43m*\u001b[49m\u001b[43mkwargs\u001b[49m\u001b[43m)\u001b[49m\n",
      "\u001b[36mFile \u001b[39m\u001b[32mc:\\Users\\usuario\\Desktop\\bcia\\nlp-team2\\.venv\\Lib\\site-packages\\pandas\\core\\generic.py:3986\u001b[39m, in \u001b[36mNDFrame.to_csv\u001b[39m\u001b[34m(self, path_or_buf, sep, na_rep, float_format, columns, header, index, index_label, mode, encoding, compression, quoting, quotechar, lineterminator, chunksize, date_format, doublequote, escapechar, decimal, errors, storage_options)\u001b[39m\n\u001b[32m   3975\u001b[39m df = \u001b[38;5;28mself\u001b[39m \u001b[38;5;28;01mif\u001b[39;00m \u001b[38;5;28misinstance\u001b[39m(\u001b[38;5;28mself\u001b[39m, ABCDataFrame) \u001b[38;5;28;01melse\u001b[39;00m \u001b[38;5;28mself\u001b[39m.to_frame()\n\u001b[32m   3977\u001b[39m formatter = DataFrameFormatter(\n\u001b[32m   3978\u001b[39m     frame=df,\n\u001b[32m   3979\u001b[39m     header=header,\n\u001b[32m   (...)\u001b[39m\u001b[32m   3983\u001b[39m     decimal=decimal,\n\u001b[32m   3984\u001b[39m )\n\u001b[32m-> \u001b[39m\u001b[32m3986\u001b[39m \u001b[38;5;28;01mreturn\u001b[39;00m \u001b[43mDataFrameRenderer\u001b[49m\u001b[43m(\u001b[49m\u001b[43mformatter\u001b[49m\u001b[43m)\u001b[49m\u001b[43m.\u001b[49m\u001b[43mto_csv\u001b[49m\u001b[43m(\u001b[49m\n\u001b[32m   3987\u001b[39m \u001b[43m    \u001b[49m\u001b[43mpath_or_buf\u001b[49m\u001b[43m,\u001b[49m\n\u001b[32m   3988\u001b[39m \u001b[43m    \u001b[49m\u001b[43mlineterminator\u001b[49m\u001b[43m=\u001b[49m\u001b[43mlineterminator\u001b[49m\u001b[43m,\u001b[49m\n\u001b[32m   3989\u001b[39m \u001b[43m    \u001b[49m\u001b[43msep\u001b[49m\u001b[43m=\u001b[49m\u001b[43msep\u001b[49m\u001b[43m,\u001b[49m\n\u001b[32m   3990\u001b[39m \u001b[43m    \u001b[49m\u001b[43mencoding\u001b[49m\u001b[43m=\u001b[49m\u001b[43mencoding\u001b[49m\u001b[43m,\u001b[49m\n\u001b[32m   3991\u001b[39m \u001b[43m    \u001b[49m\u001b[43merrors\u001b[49m\u001b[43m=\u001b[49m\u001b[43merrors\u001b[49m\u001b[43m,\u001b[49m\n\u001b[32m   3992\u001b[39m \u001b[43m    \u001b[49m\u001b[43mcompression\u001b[49m\u001b[43m=\u001b[49m\u001b[43mcompression\u001b[49m\u001b[43m,\u001b[49m\n\u001b[32m   3993\u001b[39m \u001b[43m    \u001b[49m\u001b[43mquoting\u001b[49m\u001b[43m=\u001b[49m\u001b[43mquoting\u001b[49m\u001b[43m,\u001b[49m\n\u001b[32m   3994\u001b[39m \u001b[43m    \u001b[49m\u001b[43mcolumns\u001b[49m\u001b[43m=\u001b[49m\u001b[43mcolumns\u001b[49m\u001b[43m,\u001b[49m\n\u001b[32m   3995\u001b[39m \u001b[43m    \u001b[49m\u001b[43mindex_label\u001b[49m\u001b[43m=\u001b[49m\u001b[43mindex_label\u001b[49m\u001b[43m,\u001b[49m\n\u001b[32m   3996\u001b[39m \u001b[43m    \u001b[49m\u001b[43mmode\u001b[49m\u001b[43m=\u001b[49m\u001b[43mmode\u001b[49m\u001b[43m,\u001b[49m\n\u001b[32m   3997\u001b[39m \u001b[43m    \u001b[49m\u001b[43mchunksize\u001b[49m\u001b[43m=\u001b[49m\u001b[43mchunksize\u001b[49m\u001b[43m,\u001b[49m\n\u001b[32m   3998\u001b[39m \u001b[43m    \u001b[49m\u001b[43mquotechar\u001b[49m\u001b[43m=\u001b[49m\u001b[43mquotechar\u001b[49m\u001b[43m,\u001b[49m\n\u001b[32m   3999\u001b[39m \u001b[43m    \u001b[49m\u001b[43mdate_format\u001b[49m\u001b[43m=\u001b[49m\u001b[43mdate_format\u001b[49m\u001b[43m,\u001b[49m\n\u001b[32m   4000\u001b[39m \u001b[43m    \u001b[49m\u001b[43mdoublequote\u001b[49m\u001b[43m=\u001b[49m\u001b[43mdoublequote\u001b[49m\u001b[43m,\u001b[49m\n\u001b[32m   4001\u001b[39m \u001b[43m    \u001b[49m\u001b[43mescapechar\u001b[49m\u001b[43m=\u001b[49m\u001b[43mescapechar\u001b[49m\u001b[43m,\u001b[49m\n\u001b[32m   4002\u001b[39m \u001b[43m    \u001b[49m\u001b[43mstorage_options\u001b[49m\u001b[43m=\u001b[49m\u001b[43mstorage_options\u001b[49m\u001b[43m,\u001b[49m\n\u001b[32m   4003\u001b[39m \u001b[43m\u001b[49m\u001b[43m)\u001b[49m\n",
      "\u001b[36mFile \u001b[39m\u001b[32mc:\\Users\\usuario\\Desktop\\bcia\\nlp-team2\\.venv\\Lib\\site-packages\\pandas\\io\\formats\\format.py:1014\u001b[39m, in \u001b[36mDataFrameRenderer.to_csv\u001b[39m\u001b[34m(self, path_or_buf, encoding, sep, columns, index_label, mode, compression, quoting, quotechar, lineterminator, chunksize, date_format, doublequote, escapechar, errors, storage_options)\u001b[39m\n\u001b[32m    993\u001b[39m     created_buffer = \u001b[38;5;28;01mFalse\u001b[39;00m\n\u001b[32m    995\u001b[39m csv_formatter = CSVFormatter(\n\u001b[32m    996\u001b[39m     path_or_buf=path_or_buf,\n\u001b[32m    997\u001b[39m     lineterminator=lineterminator,\n\u001b[32m   (...)\u001b[39m\u001b[32m   1012\u001b[39m     formatter=\u001b[38;5;28mself\u001b[39m.fmt,\n\u001b[32m   1013\u001b[39m )\n\u001b[32m-> \u001b[39m\u001b[32m1014\u001b[39m \u001b[43mcsv_formatter\u001b[49m\u001b[43m.\u001b[49m\u001b[43msave\u001b[49m\u001b[43m(\u001b[49m\u001b[43m)\u001b[49m\n\u001b[32m   1016\u001b[39m \u001b[38;5;28;01mif\u001b[39;00m created_buffer:\n\u001b[32m   1017\u001b[39m     \u001b[38;5;28;01massert\u001b[39;00m \u001b[38;5;28misinstance\u001b[39m(path_or_buf, StringIO)\n",
      "\u001b[36mFile \u001b[39m\u001b[32mc:\\Users\\usuario\\Desktop\\bcia\\nlp-team2\\.venv\\Lib\\site-packages\\pandas\\io\\formats\\csvs.py:251\u001b[39m, in \u001b[36mCSVFormatter.save\u001b[39m\u001b[34m(self)\u001b[39m\n\u001b[32m    247\u001b[39m \u001b[38;5;250m\u001b[39m\u001b[33;03m\"\"\"\u001b[39;00m\n\u001b[32m    248\u001b[39m \u001b[33;03mCreate the writer & save.\u001b[39;00m\n\u001b[32m    249\u001b[39m \u001b[33;03m\"\"\"\u001b[39;00m\n\u001b[32m    250\u001b[39m \u001b[38;5;66;03m# apply compression and byte/text conversion\u001b[39;00m\n\u001b[32m--> \u001b[39m\u001b[32m251\u001b[39m \u001b[38;5;28;01mwith\u001b[39;00m \u001b[43mget_handle\u001b[49m\u001b[43m(\u001b[49m\n\u001b[32m    252\u001b[39m \u001b[43m    \u001b[49m\u001b[38;5;28;43mself\u001b[39;49m\u001b[43m.\u001b[49m\u001b[43mfilepath_or_buffer\u001b[49m\u001b[43m,\u001b[49m\n\u001b[32m    253\u001b[39m \u001b[43m    \u001b[49m\u001b[38;5;28;43mself\u001b[39;49m\u001b[43m.\u001b[49m\u001b[43mmode\u001b[49m\u001b[43m,\u001b[49m\n\u001b[32m    254\u001b[39m \u001b[43m    \u001b[49m\u001b[43mencoding\u001b[49m\u001b[43m=\u001b[49m\u001b[38;5;28;43mself\u001b[39;49m\u001b[43m.\u001b[49m\u001b[43mencoding\u001b[49m\u001b[43m,\u001b[49m\n\u001b[32m    255\u001b[39m \u001b[43m    \u001b[49m\u001b[43merrors\u001b[49m\u001b[43m=\u001b[49m\u001b[38;5;28;43mself\u001b[39;49m\u001b[43m.\u001b[49m\u001b[43merrors\u001b[49m\u001b[43m,\u001b[49m\n\u001b[32m    256\u001b[39m \u001b[43m    \u001b[49m\u001b[43mcompression\u001b[49m\u001b[43m=\u001b[49m\u001b[38;5;28;43mself\u001b[39;49m\u001b[43m.\u001b[49m\u001b[43mcompression\u001b[49m\u001b[43m,\u001b[49m\n\u001b[32m    257\u001b[39m \u001b[43m    \u001b[49m\u001b[43mstorage_options\u001b[49m\u001b[43m=\u001b[49m\u001b[38;5;28;43mself\u001b[39;49m\u001b[43m.\u001b[49m\u001b[43mstorage_options\u001b[49m\u001b[43m,\u001b[49m\n\u001b[32m    258\u001b[39m \u001b[43m\u001b[49m\u001b[43m)\u001b[49m \u001b[38;5;28;01mas\u001b[39;00m handles:\n\u001b[32m    259\u001b[39m     \u001b[38;5;66;03m# Note: self.encoding is irrelevant here\u001b[39;00m\n\u001b[32m    260\u001b[39m     \u001b[38;5;28mself\u001b[39m.writer = csvlib.writer(\n\u001b[32m    261\u001b[39m         handles.handle,\n\u001b[32m    262\u001b[39m         lineterminator=\u001b[38;5;28mself\u001b[39m.lineterminator,\n\u001b[32m   (...)\u001b[39m\u001b[32m    267\u001b[39m         quotechar=\u001b[38;5;28mself\u001b[39m.quotechar,\n\u001b[32m    268\u001b[39m     )\n\u001b[32m    270\u001b[39m     \u001b[38;5;28mself\u001b[39m._save()\n",
      "\u001b[36mFile \u001b[39m\u001b[32mc:\\Users\\usuario\\Desktop\\bcia\\nlp-team2\\.venv\\Lib\\site-packages\\pandas\\io\\common.py:749\u001b[39m, in \u001b[36mget_handle\u001b[39m\u001b[34m(path_or_buf, mode, encoding, compression, memory_map, is_text, errors, storage_options)\u001b[39m\n\u001b[32m    747\u001b[39m \u001b[38;5;66;03m# Only for write methods\u001b[39;00m\n\u001b[32m    748\u001b[39m \u001b[38;5;28;01mif\u001b[39;00m \u001b[33m\"\u001b[39m\u001b[33mr\u001b[39m\u001b[33m\"\u001b[39m \u001b[38;5;129;01mnot\u001b[39;00m \u001b[38;5;129;01min\u001b[39;00m mode \u001b[38;5;129;01mand\u001b[39;00m is_path:\n\u001b[32m--> \u001b[39m\u001b[32m749\u001b[39m     \u001b[43mcheck_parent_directory\u001b[49m\u001b[43m(\u001b[49m\u001b[38;5;28;43mstr\u001b[39;49m\u001b[43m(\u001b[49m\u001b[43mhandle\u001b[49m\u001b[43m)\u001b[49m\u001b[43m)\u001b[49m\n\u001b[32m    751\u001b[39m \u001b[38;5;28;01mif\u001b[39;00m compression:\n\u001b[32m    752\u001b[39m     \u001b[38;5;28;01mif\u001b[39;00m compression != \u001b[33m\"\u001b[39m\u001b[33mzstd\u001b[39m\u001b[33m\"\u001b[39m:\n\u001b[32m    753\u001b[39m         \u001b[38;5;66;03m# compression libraries do not like an explicit text-mode\u001b[39;00m\n",
      "\u001b[36mFile \u001b[39m\u001b[32mc:\\Users\\usuario\\Desktop\\bcia\\nlp-team2\\.venv\\Lib\\site-packages\\pandas\\io\\common.py:616\u001b[39m, in \u001b[36mcheck_parent_directory\u001b[39m\u001b[34m(path)\u001b[39m\n\u001b[32m    614\u001b[39m parent = Path(path).parent\n\u001b[32m    615\u001b[39m \u001b[38;5;28;01mif\u001b[39;00m \u001b[38;5;129;01mnot\u001b[39;00m parent.is_dir():\n\u001b[32m--> \u001b[39m\u001b[32m616\u001b[39m     \u001b[38;5;28;01mraise\u001b[39;00m \u001b[38;5;167;01mOSError\u001b[39;00m(\u001b[33mrf\u001b[39m\u001b[33m\"\u001b[39m\u001b[33mCannot save file into a non-existent directory: \u001b[39m\u001b[33m'\u001b[39m\u001b[38;5;132;01m{\u001b[39;00mparent\u001b[38;5;132;01m}\u001b[39;00m\u001b[33m'\u001b[39m\u001b[33m\"\u001b[39m)\n",
      "\u001b[31mOSError\u001b[39m: Cannot save file into a non-existent directory: '..\\results'"
     ]
    }
   ],
   "source": [
    "# Celda 5: Tabla resumen detallada\n",
    "print(\"\\n📋 TABLA RESUMEN DETALLADA\")\n",
    "print(\"=\"*80)\n",
    "\n",
    "if len(completed_runs) > 0:\n",
    "    summary_table = completed_runs.groupby(['experiment_name', 'model_type']).agg({\n",
    "        'jaccard_score': ['count', 'mean', 'std', 'min', 'max'],\n",
    "        'hamming_loss': ['mean', 'std', 'min', 'max']\n",
    "    }).round(4)\n",
    "    \n",
    "    # Aplanar columnas multinivel\n",
    "    summary_table.columns = [f\"{col[0]}_{col[1]}\" for col in summary_table.columns]\n",
    "    summary_table = summary_table.reset_index()\n",
    "    \n",
    "    print(summary_table.to_string(index=False))\n",
    "    \n",
    "    # Guardar como CSV\n",
    "    summary_table.to_csv('../results/model_comparison_summary.csv', index=False)\n",
    "    print(f\"\\n💾 Tabla guardada en: ../results/model_comparison_summary.csv\")"
   ]
  },
  {
   "cell_type": "code",
   "execution_count": 12,
   "id": "0136e3be",
   "metadata": {},
   "outputs": [
    {
     "name": "stdout",
     "output_type": "stream",
     "text": [
      "\n",
      "🏅 MEJOR MODELO ENCONTRADO\n",
      "========================================\n",
      "🥇 Mejor modelo: distilbert\n",
      "📊 Experimento: toxicity-transformer-experiments\n",
      "🎯 Jaccard Score: 0.5391\n",
      "📉 Hamming Loss: 0.0461\n",
      "🆔 Run ID: fc89b86866b342ce9490a75b834eee9b\n",
      "📈 F1 Macro: 0.5792\n",
      "\n",
      "🔧 PARÁMETROS DEL MEJOR MODELO:\n",
      "  accelerator_config: {'split_batches': False, 'dispatch_batches': None, 'even_batches': True, 'use_seedable_sampler': True, 'non_blocking': False, 'gradient_accumulation_kwargs': None}\n",
      "  activation: gelu\n",
      "  adafactor: False\n",
      "  adam_beta1: 0.9\n",
      "  adam_beta2: 0.999\n",
      "  adam_epsilon: 1e-08\n",
      "  add_cross_attention: False\n",
      "  architectures: ['DistilBertForMaskedLM']\n",
      "  attention_dropout: 0.1\n",
      "  auto_find_batch_size: False\n",
      "  average_tokens_across_devices: False\n",
      "  bad_words_ids: None\n",
      "  batch_eval_metrics: False\n",
      "  batch_size: 8\n",
      "  begin_suppress_tokens: None\n",
      "  bf16: False\n",
      "  bf16_full_eval: False\n",
      "  bos_token_id: None\n",
      "  chunk_size_feed_forward: 0\n",
      "  cross_attention_hidden_size: None\n",
      "  dataloader_drop_last: False\n",
      "  dataloader_num_workers: 0\n",
      "  dataloader_persistent_workers: False\n",
      "  dataloader_pin_memory: True\n",
      "  dataloader_prefetch_factor: None\n",
      "  data_seed: None\n",
      "  ddp_backend: None\n",
      "  ddp_broadcast_buffers: None\n",
      "  ddp_bucket_cap_mb: None\n",
      "  ddp_find_unused_parameters: None\n",
      "  ddp_timeout: 1800\n",
      "  debug: []\n",
      "  decoder_start_token_id: None\n",
      "  deepspeed: None\n",
      "  device: cpu\n",
      "  dim: 768\n",
      "  disable_tqdm: False\n",
      "  diversity_penalty: 0.0\n",
      "  do_eval: True\n",
      "  do_predict: False\n",
      "  do_sample: False\n",
      "  do_train: False\n",
      "  dropout: 0.1\n",
      "  early_stopping: False\n",
      "  encoder_no_repeat_ngram_size: 0\n",
      "  eos_token_id: None\n",
      "  eval_accumulation_steps: None\n",
      "  eval_delay: 0\n",
      "  eval_do_concat_batches: True\n",
      "  eval_on_start: False\n",
      "  eval_steps: None\n",
      "  eval_strategy: epoch\n",
      "  eval_use_gather_object: False\n",
      "  exponential_decay_length_penalty: None\n",
      "  finetuning_task: None\n",
      "  forced_bos_token_id: None\n",
      "  forced_eos_token_id: None\n",
      "  fp16: False\n",
      "  fp16_backend: auto\n",
      "  fp16_full_eval: False\n",
      "  fp16_opt_level: O1\n",
      "  fsdp: []\n",
      "  fsdp_config: {'min_num_params': 0, 'xla': False, 'xla_fsdp_v2': False, 'xla_fsdp_grad_ckpt': False}\n",
      "  fsdp_min_num_params: 0\n",
      "  fsdp_transformer_layer_cls_to_wrap: None\n",
      "  full_determinism: False\n",
      "  gradient_accumulation_steps: 1\n",
      "  gradient_checkpointing: False\n",
      "  gradient_checkpointing_kwargs: None\n",
      "  greater_is_better: True\n",
      "  group_by_length: False\n",
      "  half_precision_backend: auto\n",
      "  hidden_dim: 3072\n",
      "  hub_always_push: False\n",
      "  hub_model_id: None\n",
      "  hub_private_repo: None\n",
      "  hub_revision: None\n",
      "  hub_strategy: every_save\n",
      "  hub_token: <HUB_TOKEN>\n",
      "  id2label: {0: 'LABEL_0', 1: 'LABEL_1', 2: 'LABEL_2', 3: 'LABEL_3', 4: 'LABEL_4', 5: 'LABEL_5', 6: 'LABEL_6', 7: 'LABEL_7', 8: 'LABEL_8', 9: 'LABEL_9', 10: 'LABEL_10', 11: 'LABEL_11'}\n",
      "  ignore_data_skip: False\n",
      "  include_for_metrics: []\n",
      "  include_inputs_for_metrics: False\n",
      "  include_num_input_tokens_seen: False\n",
      "  include_tokens_per_second: False\n",
      "  initializer_range: 0.02\n",
      "  is_decoder: False\n",
      "  is_encoder_decoder: False\n",
      "  jit_mode_eval: False\n",
      "  label2id: {'LABEL_0': 0, 'LABEL_1': 1, 'LABEL_2': 2, 'LABEL_3': 3, 'LABEL_4': 4, 'LABEL_5': 5, 'LABEL_6': 6, 'LABEL_7': 7, 'LABEL_8': 8, 'LABEL_9': 9, 'LABEL_10': 10, 'LABEL_11': 11}\n",
      "  label_names: None\n",
      "  label_smoothing_factor: 0.0\n",
      "  learning_rate: 3e-05\n",
      "  length_column_name: length\n",
      "  length_penalty: 1.0\n",
      "  liger_kernel_config: None\n",
      "  load_best_model_at_end: True\n",
      "  local_rank: 0\n",
      "  logging_dir: ./logs\n",
      "  logging_first_step: False\n",
      "  logging_nan_inf_filter: True\n",
      "  logging_steps: 10\n",
      "  logging_strategy: steps\n",
      "  log_level: passive\n",
      "  log_level_replica: warning\n",
      "  log_on_each_node: True\n",
      "  lr_scheduler_kwargs: {}\n",
      "  lr_scheduler_type: linear\n",
      "  max_grad_norm: 1.0\n",
      "  max_length: 20\n",
      "  max_position_embeddings: 512\n",
      "  max_steps: -1\n",
      "  metric_for_best_model: f1_macro\n",
      "  min_length: 0\n",
      "  model_name: distilbert-base-uncased\n",
      "  model_type: distilbert\n",
      "  mp_parameters: \n",
      "  neftune_noise_alpha: None\n",
      "  no_cuda: False\n",
      "  no_repeat_ngram_size: 0\n",
      "  num_beams: 1\n",
      "  num_beam_groups: 1\n",
      "  num_epochs: 4\n",
      "  num_labels: 12\n",
      "  num_return_sequences: 1\n",
      "  num_train_epochs: 4\n",
      "  n_heads: 12\n",
      "  n_layers: 6\n",
      "  optim: adamw_torch\n",
      "  optim_args: None\n",
      "  optim_target_modules: None\n",
      "  output_attentions: False\n",
      "  output_dir: ./results_distilbert-base-uncased\n",
      "  output_hidden_states: False\n",
      "  output_scores: False\n",
      "  overwrite_output_dir: False\n",
      "  pad_token_id: 0\n",
      "  past_index: -1\n",
      "  per_device_eval_batch_size: 8\n",
      "  per_device_train_batch_size: 8\n",
      "  per_gpu_eval_batch_size: None\n",
      "  per_gpu_train_batch_size: None\n",
      "  prediction_loss_only: False\n",
      "  prefix: None\n",
      "  problem_type: multi_label_classification\n",
      "  pruned_heads: {}\n",
      "  push_to_hub: False\n",
      "  push_to_hub_model_id: None\n",
      "  push_to_hub_organization: None\n",
      "  push_to_hub_token: <PUSH_TO_HUB_TOKEN>\n",
      "  qa_dropout: 0.1\n",
      "  ray_scope: last\n",
      "  remove_invalid_values: False\n",
      "  remove_unused_columns: False\n",
      "  repetition_penalty: 1.0\n",
      "  report_to: ['mlflow']\n",
      "  restore_callback_states_from_checkpoint: False\n",
      "  resume_from_checkpoint: None\n",
      "  return_dict: True\n",
      "  return_dict_in_generate: False\n",
      "  run_name: ./results_distilbert-base-uncased\n",
      "  save_only_model: False\n",
      "  save_on_each_node: False\n",
      "  save_safetensors: True\n",
      "  save_steps: 500\n",
      "  save_strategy: epoch\n",
      "  save_total_limit: 2\n",
      "  seed: 42\n",
      "  sep_token_id: None\n",
      "  seq_classif_dropout: 0.2\n",
      "  sinusoidal_pos_embds: False\n",
      "  skip_memory_metrics: True\n",
      "  suppress_tokens: None\n",
      "  task_specific_params: None\n",
      "  temperature: 1.0\n",
      "  test_samples: 336\n",
      "  tf32: None\n",
      "  tf_legacy_loss: False\n",
      "  tie_encoder_decoder: False\n",
      "  tie_weights_: True\n",
      "  tie_word_embeddings: True\n",
      "  tokenizer_class: None\n",
      "  top_k: 50\n",
      "  top_p: 1.0\n",
      "  torchdynamo: None\n",
      "  torchscript: False\n",
      "  torch_compile: False\n",
      "  torch_compile_backend: None\n",
      "  torch_compile_mode: None\n",
      "  torch_dtype: float32\n",
      "  torch_empty_cache_steps: None\n",
      "  tpu_metrics_debug: False\n",
      "  tpu_num_cores: None\n",
      "  train_samples: 1342\n",
      "  transformers_version: 4.53.0\n",
      "  typical_p: 1.0\n",
      "  use_bfloat16: False\n",
      "  use_cpu: False\n",
      "  use_ipex: False\n",
      "  use_legacy_prediction_loop: False\n",
      "  use_liger_kernel: False\n",
      "  use_mps_device: False\n",
      "  vocab_size: 30522\n",
      "  warmup_ratio: 0.0\n",
      "  warmup_steps: 100\n",
      "  weight_decay: 0.01\n",
      "  _name_or_path: distilbert-base-uncased\n"
     ]
    }
   ],
   "source": [
    "# Celda 6: Encontrar el mejor modelo\n",
    "print(\"\\n🏅 MEJOR MODELO ENCONTRADO\")\n",
    "print(\"=\"*40)\n",
    "\n",
    "if len(completed_runs) > 0 and 'jaccard_score' in completed_runs.columns:\n",
    "    best_run = completed_runs.loc[completed_runs['jaccard_score'].idxmax()]\n",
    "    \n",
    "    print(f\"🥇 Mejor modelo: {best_run['model_type']}\")\n",
    "    print(f\"📊 Experimento: {best_run['experiment_name']}\")\n",
    "    print(f\"🎯 Jaccard Score: {best_run['jaccard_score']:.4f}\")\n",
    "    print(f\"📉 Hamming Loss: {best_run['hamming_loss']:.4f}\")\n",
    "    print(f\"🆔 Run ID: {best_run['run_id']}\")\n",
    "    \n",
    "    if 'f1_macro' in best_run and pd.notna(best_run['f1_macro']):\n",
    "        print(f\"📈 F1 Macro: {best_run['f1_macro']:.4f}\")\n",
    "    \n",
    "    # Obtener detalles del modelo\n",
    "    client = mlflow.tracking.MlflowClient()\n",
    "    run_details = client.get_run(best_run['run_id'])\n",
    "    \n",
    "    print(f\"\\n🔧 PARÁMETROS DEL MEJOR MODELO:\")\n",
    "    for param_name, param_value in run_details.data.params.items():\n",
    "        print(f\"  {param_name}: {param_value}\")"
   ]
  },
  {
   "cell_type": "code",
   "execution_count": 13,
   "id": "72a2a303",
   "metadata": {},
   "outputs": [
    {
     "data": {
      "application/vnd.plotly.v1+json": {
       "config": {
        "plotlyServerURL": "https://plot.ly"
       },
       "data": [
        {
         "customdata": [
          [
           "toxicity-transformer-experiments",
           "89344de40cdd404282af5e484e0dc49d"
          ]
         ],
         "hovertemplate": "Tipo de Modelo=roberta<br>Jaccard Score=%{x}<br>Hamming Loss=%{y}<br>duration=%{marker.size}<br>experiment_name=%{customdata[0]}<br>run_id=%{customdata[1]}<extra></extra>",
         "legendgroup": "roberta",
         "marker": {
          "color": "#636efa",
          "size": {
           "bdata": "qMZLNylwtkA=",
           "dtype": "f8"
          },
          "sizemode": "area",
          "sizeref": 14.3604025,
          "symbol": "circle"
         },
         "mode": "markers",
         "name": "roberta",
         "orientation": "v",
         "showlegend": true,
         "type": "scatter",
         "x": {
          "bdata": "jfxjrHhU4D8=",
          "dtype": "f8"
         },
         "xaxis": "x",
         "y": {
          "bdata": "KYqiKIqiqD8=",
          "dtype": "f8"
         },
         "yaxis": "y"
        },
        {
         "customdata": [
          [
           "toxicity-transformer-experiments",
           "32e53ffb490e4fd69af724c83e264b65"
          ]
         ],
         "hovertemplate": "Tipo de Modelo=bert<br>Jaccard Score=%{x}<br>Hamming Loss=%{y}<br>duration=%{marker.size}<br>experiment_name=%{customdata[0]}<br>run_id=%{customdata[1]}<extra></extra>",
         "legendgroup": "bert",
         "marker": {
          "color": "#EF553B",
          "size": {
           "bdata": "AAAAAODAtUA=",
           "dtype": "f8"
          },
          "sizemode": "area",
          "sizeref": 14.3604025,
          "symbol": "circle"
         },
         "mode": "markers",
         "name": "bert",
         "orientation": "v",
         "showlegend": true,
         "type": "scatter",
         "x": {
          "bdata": "O7/mk0jo4D8=",
          "dtype": "f8"
         },
         "xaxis": "x",
         "y": {
          "bdata": "8Pu+7/u+pz8=",
          "dtype": "f8"
         },
         "yaxis": "y"
        },
        {
         "customdata": [
          [
           "toxicity-transformer-experiments",
           "05876b282f1c455c9fee9087d5c3d690"
          ],
          [
           "toxicity-transformer-experiments",
           "fc89b86866b342ce9490a75b834eee9b"
          ],
          [
           "toxicity-transformer-experiments",
           "c4955576155742b7aab2200b0d8e5f5a"
          ],
          [
           "toxicity-transformer-experiments",
           "b0394988cf1948378b55397bbac0973d"
          ],
          [
           "toxicity-transformer-experiments",
           "bb502ca551584afc9034af8a29813b36"
          ]
         ],
         "hovertemplate": "Tipo de Modelo=distilbert<br>Jaccard Score=%{x}<br>Hamming Loss=%{y}<br>duration=%{marker.size}<br>experiment_name=%{customdata[0]}<br>run_id=%{customdata[1]}<extra></extra>",
         "legendgroup": "distilbert",
         "marker": {
          "color": "#00cc96",
          "size": {
           "bdata": "NV66SQyyo0AMAiuHVnGrQGDl0CLbRJxAO99PjRfGnED2KFyPwtiQQA==",
           "dtype": "f8"
          },
          "sizemode": "area",
          "sizeref": 14.3604025,
          "symbol": "circle"
         },
         "mode": "markers",
         "name": "distilbert",
         "orientation": "v",
         "showlegend": true,
         "type": "scatter",
         "x": {
          "bdata": "t02loty8vT9B9pGBTEDhPzxQG50Ldcs/yYl5Mb+Cyj+yAmGkHSugPw==",
          "dtype": "f8"
         },
         "xaxis": "x",
         "y": {
          "bdata": "KYqiKIqiuD/oeZ7neZ6nPxAEQRAEQbQ/FEVRFEVRtD9I4XoUrkfDPw==",
          "dtype": "f8"
         },
         "yaxis": "y"
        },
        {
         "customdata": [
          [
           "toxicity-detection-experiments",
           "21ff371075b243ba9e02a6a3cf8c9b54"
          ],
          [
           "toxicity-detection-experiments",
           "746212f455584f598d1717a9d42b871e"
          ],
          [
           "toxicity-detection-experiments",
           "575e27a1547f41fb94a8285e96c41608"
          ],
          [
           "toxicity-detection-experiments",
           "10f34021c33d4b9db94d793a2d23bed8"
          ],
          [
           "toxicity-detection-experiments",
           "46274f89537248899c6fd7f63d00c1bb"
          ],
          [
           "toxicity-detection-experiments",
           "2ecbc7a6ff004880885b06e9c9554803"
          ]
         ],
         "hovertemplate": "Tipo de Modelo=random_forest<br>Jaccard Score=%{x}<br>Hamming Loss=%{y}<br>duration=%{marker.size}<br>experiment_name=%{customdata[0]}<br>run_id=%{customdata[1]}<extra></extra>",
         "legendgroup": "random_forest",
         "marker": {
          "color": "#ab63fa",
          "size": {
           "bdata": "bxKDwMohGkA5tMh2vh8YQOXQItv5/htAYOXQItv5GEBeukkMAisYQI2XbhKDwBZA",
           "dtype": "f8"
          },
          "sizemode": "area",
          "sizeref": 14.3604025,
          "symbol": "circle"
         },
         "mode": "markers",
         "name": "random_forest",
         "orientation": "v",
         "showlegend": true,
         "type": "scatter",
         "x": {
          "bdata": "2XCfgs4ouz9+wt6weL6yP9lwn4LOKLs/fsLesHi+sj9+ki1aihqqP1moWUz2MqM/",
          "dtype": "f8"
         },
         "xaxis": "x",
         "y": {
          "bdata": "Pc/zPM/zuD+KoiiKoii6Pz3P8zzP87g/iqIoiqIouj9mZmZmZmbCPx+F61G4HsM/",
          "dtype": "f8"
         },
         "yaxis": "y"
        },
        {
         "customdata": [
          [
           "toxicity-detection-experiments",
           "95198fac505844b49b1b557dbbbbb54b"
          ],
          [
           "toxicity-detection-experiments",
           "1145b50bd3ed46fea73fe44535257922"
          ],
          [
           "toxicity-detection-experiments",
           "de572172c986479a9c61d8313bdca6a0"
          ],
          [
           "toxicity-detection-experiments",
           "25c49f412cc6490b92fab9de63acb1de"
          ],
          [
           "toxicity-detection-experiments",
           "20b14a43779a4af0b197108b79e51d38"
          ],
          [
           "toxicity-detection-experiments",
           "8d33e27169ad49a7a5c94a19a9585399"
          ]
         ],
         "hovertemplate": "Tipo de Modelo=logistic<br>Jaccard Score=%{x}<br>Hamming Loss=%{y}<br>duration=%{marker.size}<br>experiment_name=%{customdata[0]}<br>run_id=%{customdata[1]}<extra></extra>",
         "legendgroup": "logistic",
         "marker": {
          "color": "#FFA15A",
          "size": {
           "bdata": "+FPjpZtEFEBSuB6F61EiQCcxCKwcWhVAgZVDi2xnG0CkcD0K1yMUQMHKoUW28xxA",
           "dtype": "f8"
          },
          "sizemode": "area",
          "sizeref": 14.3604025,
          "symbol": "circle"
         },
         "mode": "markers",
         "name": "logistic",
         "orientation": "v",
         "showlegend": true,
         "type": "scatter",
         "x": {
          "bdata": "fxA1fhA1rj/DL0AWjpTUP38QNX4QNa4/wy9AFo6U1D8GFlhggQWGP1dLFu9ttbQ/",
          "dtype": "f8"
         },
         "xaxis": "x",
         "y": {
          "bdata": "r+u6ruu6uj9yHMdxHMexP6/ruq7ruro/chzHcRzHsT9mZmZmZmbEP3E9CtejcME/",
          "dtype": "f8"
         },
         "yaxis": "y"
        }
       ],
       "layout": {
        "height": 600,
        "legend": {
         "itemsizing": "constant",
         "title": {
          "text": "Tipo de Modelo"
         },
         "tracegroupgap": 0
        },
        "showlegend": true,
        "template": {
         "data": {
          "bar": [
           {
            "error_x": {
             "color": "#2a3f5f"
            },
            "error_y": {
             "color": "#2a3f5f"
            },
            "marker": {
             "line": {
              "color": "#E5ECF6",
              "width": 0.5
             },
             "pattern": {
              "fillmode": "overlay",
              "size": 10,
              "solidity": 0.2
             }
            },
            "type": "bar"
           }
          ],
          "barpolar": [
           {
            "marker": {
             "line": {
              "color": "#E5ECF6",
              "width": 0.5
             },
             "pattern": {
              "fillmode": "overlay",
              "size": 10,
              "solidity": 0.2
             }
            },
            "type": "barpolar"
           }
          ],
          "carpet": [
           {
            "aaxis": {
             "endlinecolor": "#2a3f5f",
             "gridcolor": "white",
             "linecolor": "white",
             "minorgridcolor": "white",
             "startlinecolor": "#2a3f5f"
            },
            "baxis": {
             "endlinecolor": "#2a3f5f",
             "gridcolor": "white",
             "linecolor": "white",
             "minorgridcolor": "white",
             "startlinecolor": "#2a3f5f"
            },
            "type": "carpet"
           }
          ],
          "choropleth": [
           {
            "colorbar": {
             "outlinewidth": 0,
             "ticks": ""
            },
            "type": "choropleth"
           }
          ],
          "contour": [
           {
            "colorbar": {
             "outlinewidth": 0,
             "ticks": ""
            },
            "colorscale": [
             [
              0,
              "#0d0887"
             ],
             [
              0.1111111111111111,
              "#46039f"
             ],
             [
              0.2222222222222222,
              "#7201a8"
             ],
             [
              0.3333333333333333,
              "#9c179e"
             ],
             [
              0.4444444444444444,
              "#bd3786"
             ],
             [
              0.5555555555555556,
              "#d8576b"
             ],
             [
              0.6666666666666666,
              "#ed7953"
             ],
             [
              0.7777777777777778,
              "#fb9f3a"
             ],
             [
              0.8888888888888888,
              "#fdca26"
             ],
             [
              1,
              "#f0f921"
             ]
            ],
            "type": "contour"
           }
          ],
          "contourcarpet": [
           {
            "colorbar": {
             "outlinewidth": 0,
             "ticks": ""
            },
            "type": "contourcarpet"
           }
          ],
          "heatmap": [
           {
            "colorbar": {
             "outlinewidth": 0,
             "ticks": ""
            },
            "colorscale": [
             [
              0,
              "#0d0887"
             ],
             [
              0.1111111111111111,
              "#46039f"
             ],
             [
              0.2222222222222222,
              "#7201a8"
             ],
             [
              0.3333333333333333,
              "#9c179e"
             ],
             [
              0.4444444444444444,
              "#bd3786"
             ],
             [
              0.5555555555555556,
              "#d8576b"
             ],
             [
              0.6666666666666666,
              "#ed7953"
             ],
             [
              0.7777777777777778,
              "#fb9f3a"
             ],
             [
              0.8888888888888888,
              "#fdca26"
             ],
             [
              1,
              "#f0f921"
             ]
            ],
            "type": "heatmap"
           }
          ],
          "histogram": [
           {
            "marker": {
             "pattern": {
              "fillmode": "overlay",
              "size": 10,
              "solidity": 0.2
             }
            },
            "type": "histogram"
           }
          ],
          "histogram2d": [
           {
            "colorbar": {
             "outlinewidth": 0,
             "ticks": ""
            },
            "colorscale": [
             [
              0,
              "#0d0887"
             ],
             [
              0.1111111111111111,
              "#46039f"
             ],
             [
              0.2222222222222222,
              "#7201a8"
             ],
             [
              0.3333333333333333,
              "#9c179e"
             ],
             [
              0.4444444444444444,
              "#bd3786"
             ],
             [
              0.5555555555555556,
              "#d8576b"
             ],
             [
              0.6666666666666666,
              "#ed7953"
             ],
             [
              0.7777777777777778,
              "#fb9f3a"
             ],
             [
              0.8888888888888888,
              "#fdca26"
             ],
             [
              1,
              "#f0f921"
             ]
            ],
            "type": "histogram2d"
           }
          ],
          "histogram2dcontour": [
           {
            "colorbar": {
             "outlinewidth": 0,
             "ticks": ""
            },
            "colorscale": [
             [
              0,
              "#0d0887"
             ],
             [
              0.1111111111111111,
              "#46039f"
             ],
             [
              0.2222222222222222,
              "#7201a8"
             ],
             [
              0.3333333333333333,
              "#9c179e"
             ],
             [
              0.4444444444444444,
              "#bd3786"
             ],
             [
              0.5555555555555556,
              "#d8576b"
             ],
             [
              0.6666666666666666,
              "#ed7953"
             ],
             [
              0.7777777777777778,
              "#fb9f3a"
             ],
             [
              0.8888888888888888,
              "#fdca26"
             ],
             [
              1,
              "#f0f921"
             ]
            ],
            "type": "histogram2dcontour"
           }
          ],
          "mesh3d": [
           {
            "colorbar": {
             "outlinewidth": 0,
             "ticks": ""
            },
            "type": "mesh3d"
           }
          ],
          "parcoords": [
           {
            "line": {
             "colorbar": {
              "outlinewidth": 0,
              "ticks": ""
             }
            },
            "type": "parcoords"
           }
          ],
          "pie": [
           {
            "automargin": true,
            "type": "pie"
           }
          ],
          "scatter": [
           {
            "fillpattern": {
             "fillmode": "overlay",
             "size": 10,
             "solidity": 0.2
            },
            "type": "scatter"
           }
          ],
          "scatter3d": [
           {
            "line": {
             "colorbar": {
              "outlinewidth": 0,
              "ticks": ""
             }
            },
            "marker": {
             "colorbar": {
              "outlinewidth": 0,
              "ticks": ""
             }
            },
            "type": "scatter3d"
           }
          ],
          "scattercarpet": [
           {
            "marker": {
             "colorbar": {
              "outlinewidth": 0,
              "ticks": ""
             }
            },
            "type": "scattercarpet"
           }
          ],
          "scattergeo": [
           {
            "marker": {
             "colorbar": {
              "outlinewidth": 0,
              "ticks": ""
             }
            },
            "type": "scattergeo"
           }
          ],
          "scattergl": [
           {
            "marker": {
             "colorbar": {
              "outlinewidth": 0,
              "ticks": ""
             }
            },
            "type": "scattergl"
           }
          ],
          "scattermap": [
           {
            "marker": {
             "colorbar": {
              "outlinewidth": 0,
              "ticks": ""
             }
            },
            "type": "scattermap"
           }
          ],
          "scattermapbox": [
           {
            "marker": {
             "colorbar": {
              "outlinewidth": 0,
              "ticks": ""
             }
            },
            "type": "scattermapbox"
           }
          ],
          "scatterpolar": [
           {
            "marker": {
             "colorbar": {
              "outlinewidth": 0,
              "ticks": ""
             }
            },
            "type": "scatterpolar"
           }
          ],
          "scatterpolargl": [
           {
            "marker": {
             "colorbar": {
              "outlinewidth": 0,
              "ticks": ""
             }
            },
            "type": "scatterpolargl"
           }
          ],
          "scatterternary": [
           {
            "marker": {
             "colorbar": {
              "outlinewidth": 0,
              "ticks": ""
             }
            },
            "type": "scatterternary"
           }
          ],
          "surface": [
           {
            "colorbar": {
             "outlinewidth": 0,
             "ticks": ""
            },
            "colorscale": [
             [
              0,
              "#0d0887"
             ],
             [
              0.1111111111111111,
              "#46039f"
             ],
             [
              0.2222222222222222,
              "#7201a8"
             ],
             [
              0.3333333333333333,
              "#9c179e"
             ],
             [
              0.4444444444444444,
              "#bd3786"
             ],
             [
              0.5555555555555556,
              "#d8576b"
             ],
             [
              0.6666666666666666,
              "#ed7953"
             ],
             [
              0.7777777777777778,
              "#fb9f3a"
             ],
             [
              0.8888888888888888,
              "#fdca26"
             ],
             [
              1,
              "#f0f921"
             ]
            ],
            "type": "surface"
           }
          ],
          "table": [
           {
            "cells": {
             "fill": {
              "color": "#EBF0F8"
             },
             "line": {
              "color": "white"
             }
            },
            "header": {
             "fill": {
              "color": "#C8D4E3"
             },
             "line": {
              "color": "white"
             }
            },
            "type": "table"
           }
          ]
         },
         "layout": {
          "annotationdefaults": {
           "arrowcolor": "#2a3f5f",
           "arrowhead": 0,
           "arrowwidth": 1
          },
          "autotypenumbers": "strict",
          "coloraxis": {
           "colorbar": {
            "outlinewidth": 0,
            "ticks": ""
           }
          },
          "colorscale": {
           "diverging": [
            [
             0,
             "#8e0152"
            ],
            [
             0.1,
             "#c51b7d"
            ],
            [
             0.2,
             "#de77ae"
            ],
            [
             0.3,
             "#f1b6da"
            ],
            [
             0.4,
             "#fde0ef"
            ],
            [
             0.5,
             "#f7f7f7"
            ],
            [
             0.6,
             "#e6f5d0"
            ],
            [
             0.7,
             "#b8e186"
            ],
            [
             0.8,
             "#7fbc41"
            ],
            [
             0.9,
             "#4d9221"
            ],
            [
             1,
             "#276419"
            ]
           ],
           "sequential": [
            [
             0,
             "#0d0887"
            ],
            [
             0.1111111111111111,
             "#46039f"
            ],
            [
             0.2222222222222222,
             "#7201a8"
            ],
            [
             0.3333333333333333,
             "#9c179e"
            ],
            [
             0.4444444444444444,
             "#bd3786"
            ],
            [
             0.5555555555555556,
             "#d8576b"
            ],
            [
             0.6666666666666666,
             "#ed7953"
            ],
            [
             0.7777777777777778,
             "#fb9f3a"
            ],
            [
             0.8888888888888888,
             "#fdca26"
            ],
            [
             1,
             "#f0f921"
            ]
           ],
           "sequentialminus": [
            [
             0,
             "#0d0887"
            ],
            [
             0.1111111111111111,
             "#46039f"
            ],
            [
             0.2222222222222222,
             "#7201a8"
            ],
            [
             0.3333333333333333,
             "#9c179e"
            ],
            [
             0.4444444444444444,
             "#bd3786"
            ],
            [
             0.5555555555555556,
             "#d8576b"
            ],
            [
             0.6666666666666666,
             "#ed7953"
            ],
            [
             0.7777777777777778,
             "#fb9f3a"
            ],
            [
             0.8888888888888888,
             "#fdca26"
            ],
            [
             1,
             "#f0f921"
            ]
           ]
          },
          "colorway": [
           "#636efa",
           "#EF553B",
           "#00cc96",
           "#ab63fa",
           "#FFA15A",
           "#19d3f3",
           "#FF6692",
           "#B6E880",
           "#FF97FF",
           "#FECB52"
          ],
          "font": {
           "color": "#2a3f5f"
          },
          "geo": {
           "bgcolor": "white",
           "lakecolor": "white",
           "landcolor": "#E5ECF6",
           "showlakes": true,
           "showland": true,
           "subunitcolor": "white"
          },
          "hoverlabel": {
           "align": "left"
          },
          "hovermode": "closest",
          "mapbox": {
           "style": "light"
          },
          "paper_bgcolor": "white",
          "plot_bgcolor": "#E5ECF6",
          "polar": {
           "angularaxis": {
            "gridcolor": "white",
            "linecolor": "white",
            "ticks": ""
           },
           "bgcolor": "#E5ECF6",
           "radialaxis": {
            "gridcolor": "white",
            "linecolor": "white",
            "ticks": ""
           }
          },
          "scene": {
           "xaxis": {
            "backgroundcolor": "#E5ECF6",
            "gridcolor": "white",
            "gridwidth": 2,
            "linecolor": "white",
            "showbackground": true,
            "ticks": "",
            "zerolinecolor": "white"
           },
           "yaxis": {
            "backgroundcolor": "#E5ECF6",
            "gridcolor": "white",
            "gridwidth": 2,
            "linecolor": "white",
            "showbackground": true,
            "ticks": "",
            "zerolinecolor": "white"
           },
           "zaxis": {
            "backgroundcolor": "#E5ECF6",
            "gridcolor": "white",
            "gridwidth": 2,
            "linecolor": "white",
            "showbackground": true,
            "ticks": "",
            "zerolinecolor": "white"
           }
          },
          "shapedefaults": {
           "line": {
            "color": "#2a3f5f"
           }
          },
          "ternary": {
           "aaxis": {
            "gridcolor": "white",
            "linecolor": "white",
            "ticks": ""
           },
           "baxis": {
            "gridcolor": "white",
            "linecolor": "white",
            "ticks": ""
           },
           "bgcolor": "#E5ECF6",
           "caxis": {
            "gridcolor": "white",
            "linecolor": "white",
            "ticks": ""
           }
          },
          "title": {
           "x": 0.05
          },
          "xaxis": {
           "automargin": true,
           "gridcolor": "white",
           "linecolor": "white",
           "ticks": "",
           "title": {
            "standoff": 15
           },
           "zerolinecolor": "white",
           "zerolinewidth": 2
          },
          "yaxis": {
           "automargin": true,
           "gridcolor": "white",
           "linecolor": "white",
           "ticks": "",
           "title": {
            "standoff": 15
           },
           "zerolinecolor": "white",
           "zerolinewidth": 2
          }
         }
        },
        "title": {
         "text": "Comparación Interactiva de Modelos"
        },
        "width": 800,
        "xaxis": {
         "anchor": "y",
         "domain": [
          0,
          1
         ],
         "title": {
          "text": "Jaccard Score"
         }
        },
        "yaxis": {
         "anchor": "x",
         "domain": [
          0,
          1
         ],
         "title": {
          "text": "Hamming Loss"
         }
        }
       }
      }
     },
     "metadata": {},
     "output_type": "display_data"
    }
   ],
   "source": [
    "# Celda 7: Plotly interactivo\n",
    "if len(completed_runs) > 0 and 'jaccard_score' in completed_runs.columns:\n",
    "    \n",
    "    # Crear gráfico interactivo\n",
    "    fig = px.scatter(\n",
    "        completed_runs, \n",
    "        x='jaccard_score', \n",
    "        y='hamming_loss',\n",
    "        color='model_type',\n",
    "        size='duration' if 'duration' in completed_runs.columns else None,\n",
    "        hover_data=['experiment_name', 'run_id'],\n",
    "        title='Comparación Interactiva de Modelos',\n",
    "        labels={\n",
    "            'jaccard_score': 'Jaccard Score',\n",
    "            'hamming_loss': 'Hamming Loss',\n",
    "            'model_type': 'Tipo de Modelo'\n",
    "        }\n",
    "    )\n",
    "    \n",
    "    fig.update_layout(\n",
    "        width=800,\n",
    "        height=600,\n",
    "        showlegend=True\n",
    "    )\n",
    "    \n",
    "    fig.show()"
   ]
  },
  {
   "cell_type": "code",
   "execution_count": 14,
   "id": "442dae49",
   "metadata": {},
   "outputs": [
    {
     "name": "stdout",
     "output_type": "stream",
     "text": [
      "🏆 COMPARACIÓN COMPLETA DE MODELOS\n",
      "==================================================\n",
      "\n",
      "🥇 TOP 10 MODELOS POR F1 MACRO:\n",
      "             model_type  f1_macro  jaccard_score  hamming_loss epochs\n",
      "distilbert-base-uncased  0.579222       0.539099      0.046131      4\n",
      "      bert-base-uncased  0.558823       0.528355      0.046379      3\n",
      "           roberta-base  0.539013       0.510311      0.048115      3\n",
      "               logistic  0.382013       0.321567      0.069444    N/A\n",
      "               logistic  0.382013       0.321567      0.069444    N/A\n",
      "distilbert-base-uncased  0.238290       0.207115      0.079365      2\n",
      "distilbert-base-uncased  0.233927       0.214509      0.079117      2\n",
      "          random_forest  0.147338       0.106091      0.097470    N/A\n",
      "          random_forest  0.147338       0.106091      0.097470    N/A\n",
      "distilbert-base-uncased  0.144133       0.116163      0.096230      3\n",
      "\n",
      "🥈 TOP 10 MODELOS POR JACCARD SCORE:\n",
      "             model_type  f1_macro  jaccard_score  hamming_loss epochs\n",
      "distilbert-base-uncased  0.579222       0.539099      0.046131      4\n",
      "      bert-base-uncased  0.558823       0.528355      0.046379      3\n",
      "           roberta-base  0.539013       0.510311      0.048115      3\n",
      "               logistic  0.382013       0.321567      0.069444    N/A\n",
      "               logistic  0.382013       0.321567      0.069444    N/A\n",
      "distilbert-base-uncased  0.233927       0.214509      0.079117      2\n",
      "distilbert-base-uncased  0.238290       0.207115      0.079365      2\n",
      "distilbert-base-uncased  0.144133       0.116163      0.096230      3\n",
      "          random_forest  0.147338       0.106091      0.097470    N/A\n",
      "          random_forest  0.147338       0.106091      0.097470    N/A\n",
      "\n",
      "📊 PROMEDIO POR TIPO DE MODELO:\n",
      "                        f1_macro                 jaccard_score                 hamming_loss                   duration\n",
      "                            mean     std     max          mean     std     max         mean     std     min       mean\n",
      "model_type                                                                                                            \n",
      "bert-base-uncased         0.5588     NaN  0.5588        0.5284     NaN  0.5284       0.0464     NaN  0.0464  5568.8750\n",
      "distilbert-base-uncased   0.2492  0.1999  0.5792        0.2217  0.1925  0.5391       0.0903  0.0383  0.0461  2152.5240\n",
      "logistic                  0.1745  0.1638  0.3820        0.1421  0.1409  0.3216       0.1072  0.0359  0.0694     6.4482\n",
      "random_forest             0.1053  0.0351  0.1473        0.0745  0.0280  0.1061       0.1154  0.0243  0.0975     6.2562\n",
      "roberta-base              0.5390     NaN  0.5390        0.5103     NaN  0.5103       0.0481     NaN  0.0481  5744.1610\n"
     ]
    }
   ],
   "source": [
    "# NUEVA CELDA: Análisis comparativo avanzado\n",
    "print(\"🏆 COMPARACIÓN COMPLETA DE MODELOS\")\n",
    "print(\"=\"*50)\n",
    "\n",
    "# Obtener todos los experimentos\n",
    "client = mlflow.tracking.MlflowClient()\n",
    "all_runs = []\n",
    "\n",
    "for exp in client.search_experiments():\n",
    "    if exp.name != \"Default\":\n",
    "        runs = client.search_runs(exp.experiment_id)\n",
    "        for run in runs:\n",
    "            if run.info.status == \"FINISHED\":\n",
    "                run_data = {\n",
    "                    \"run_id\": run.info.run_id,\n",
    "                    \"experiment\": exp.name,\n",
    "                    \"model_type\": run.data.params.get(\"model_name\", run.data.params.get(\"model_type\", \"unknown\")),\n",
    "                    \"f1_macro\": run.data.metrics.get(\"f1_macro\", 0),\n",
    "                    \"jaccard_score\": run.data.metrics.get(\"jaccard_score\", 0),\n",
    "                    \"hamming_loss\": run.data.metrics.get(\"hamming_loss\", 1),\n",
    "                    \"epochs\": run.data.params.get(\"num_epochs\", \"N/A\"),\n",
    "                    \"batch_size\": run.data.params.get(\"batch_size\", \"N/A\"),\n",
    "                    \"learning_rate\": run.data.params.get(\"learning_rate\", \"N/A\"),\n",
    "                    \"duration\": (run.info.end_time - run.info.start_time) / 1000 if run.info.end_time else None\n",
    "                }\n",
    "                all_runs.append(run_data)\n",
    "\n",
    "results_df = pd.DataFrame(all_runs)\n",
    "\n",
    "# Ranking por F1 Macro\n",
    "print(\"\\n🥇 TOP 10 MODELOS POR F1 MACRO:\")\n",
    "top_f1 = results_df.nlargest(10, 'f1_macro')\n",
    "print(top_f1[['model_type', 'f1_macro', 'jaccard_score', 'hamming_loss', 'epochs']].to_string(index=False))\n",
    "\n",
    "# Ranking por Jaccard Score  \n",
    "print(\"\\n🥈 TOP 10 MODELOS POR JACCARD SCORE:\")\n",
    "top_jaccard = results_df.nlargest(10, 'jaccard_score')\n",
    "print(top_jaccard[['model_type', 'f1_macro', 'jaccard_score', 'hamming_loss', 'epochs']].to_string(index=False))\n",
    "\n",
    "# Análisis por tipo de modelo\n",
    "print(\"\\n📊 PROMEDIO POR TIPO DE MODELO:\")\n",
    "model_stats = results_df.groupby('model_type').agg({\n",
    "    'f1_macro': ['mean', 'std', 'max'],\n",
    "    'jaccard_score': ['mean', 'std', 'max'],\n",
    "    'hamming_loss': ['mean', 'std', 'min'],\n",
    "    'duration': 'mean'\n",
    "}).round(4)\n",
    "print(model_stats)"
   ]
  },
  {
   "cell_type": "code",
   "execution_count": 15,
   "id": "aaf0f548",
   "metadata": {},
   "outputs": [
    {
     "data": {
      "application/vnd.plotly.v1+json": {
       "config": {
        "plotlyServerURL": "https://plot.ly"
       },
       "data": [
        {
         "customdata": [
          [
           "3",
           "4",
           "1e-05"
          ]
         ],
         "hovertemplate": "model_type=roberta-base<br>f1_macro=%{x}<br>jaccard_score=%{y}<br>hamming_loss=%{z}<br>duration=%{marker.size}<br>epochs=%{customdata[0]}<br>batch_size=%{customdata[1]}<br>learning_rate=%{customdata[2]}<extra></extra>",
         "legendgroup": "roberta-base",
         "marker": {
          "color": "#636efa",
          "size": {
           "bdata": "qMZLNylwtkA=",
           "dtype": "f8"
          },
          "sizemode": "area",
          "sizeref": 14.3604025,
          "symbol": "circle"
         },
         "mode": "markers",
         "name": "roberta-base",
         "scene": "scene",
         "showlegend": true,
         "type": "scatter3d",
         "x": {
          "bdata": "tWDsjJc/4T8=",
          "dtype": "f8"
         },
         "y": {
          "bdata": "jfxjrHhU4D8=",
          "dtype": "f8"
         },
         "z": {
          "bdata": "KYqiKIqiqD8=",
          "dtype": "f8"
         }
        },
        {
         "customdata": [
          [
           "3",
           "4",
           "2e-05"
          ]
         ],
         "hovertemplate": "model_type=bert-base-uncased<br>f1_macro=%{x}<br>jaccard_score=%{y}<br>hamming_loss=%{z}<br>duration=%{marker.size}<br>epochs=%{customdata[0]}<br>batch_size=%{customdata[1]}<br>learning_rate=%{customdata[2]}<extra></extra>",
         "legendgroup": "bert-base-uncased",
         "marker": {
          "color": "#EF553B",
          "size": {
           "bdata": "AAAAAODAtUA=",
           "dtype": "f8"
          },
          "sizemode": "area",
          "sizeref": 14.3604025,
          "symbol": "circle"
         },
         "mode": "markers",
         "name": "bert-base-uncased",
         "scene": "scene",
         "showlegend": true,
         "type": "scatter3d",
         "x": {
          "bdata": "yTxMqeHh4T8=",
          "dtype": "f8"
         },
         "y": {
          "bdata": "O7/mk0jo4D8=",
          "dtype": "f8"
         },
         "z": {
          "bdata": "8Pu+7/u+pz8=",
          "dtype": "f8"
         }
        },
        {
         "customdata": [
          [
           "3",
           "16",
           "2e-05"
          ],
          [
           "4",
           "8",
           "3e-05"
          ],
          [
           "2",
           "8",
           "2e-05"
          ],
          [
           "2",
           "8",
           "2e-05"
          ],
          [
           "2",
           "8",
           "2e-05"
          ]
         ],
         "hovertemplate": "model_type=distilbert-base-uncased<br>f1_macro=%{x}<br>jaccard_score=%{y}<br>hamming_loss=%{z}<br>duration=%{marker.size}<br>epochs=%{customdata[0]}<br>batch_size=%{customdata[1]}<br>learning_rate=%{customdata[2]}<extra></extra>",
         "legendgroup": "distilbert-base-uncased",
         "marker": {
          "color": "#00cc96",
          "size": {
           "bdata": "NV66SQyyo0AMAiuHVnGrQGDl0CLbRJxAO99PjRfGnED2KFyPwtiQQA==",
           "dtype": "f8"
          },
          "sizemode": "area",
          "sizeref": 14.3604025,
          "symbol": "circle"
         },
         "mode": "markers",
         "name": "distilbert-base-uncased",
         "scene": "scene",
         "showlegend": true,
         "type": "scatter3d",
         "x": {
          "bdata": "ZO5GxvRywj/d8erY/IjiP5C9AGxQ8c0/gPHUf0aAzj8arNAZrNCpPw==",
          "dtype": "f8"
         },
         "y": {
          "bdata": "t02loty8vT9B9pGBTEDhPzxQG50Ldcs/yYl5Mb+Cyj+yAmGkHSugPw==",
          "dtype": "f8"
         },
         "z": {
          "bdata": "KYqiKIqiuD/oeZ7neZ6nPxAEQRAEQbQ/FEVRFEVRtD9I4XoUrkfDPw==",
          "dtype": "f8"
         }
        },
        {
         "customdata": [
          [
           "N/A",
           "N/A",
           "N/A"
          ],
          [
           "N/A",
           "N/A",
           "N/A"
          ],
          [
           "N/A",
           "N/A",
           "N/A"
          ],
          [
           "N/A",
           "N/A",
           "N/A"
          ],
          [
           "N/A",
           "N/A",
           "N/A"
          ],
          [
           "N/A",
           "N/A",
           "N/A"
          ]
         ],
         "hovertemplate": "model_type=random_forest<br>f1_macro=%{x}<br>jaccard_score=%{y}<br>hamming_loss=%{z}<br>duration=%{marker.size}<br>epochs=%{customdata[0]}<br>batch_size=%{customdata[1]}<br>learning_rate=%{customdata[2]}<extra></extra>",
         "legendgroup": "random_forest",
         "marker": {
          "color": "#ab63fa",
          "size": {
           "bdata": "bxKDwMohGkA5tMh2vh8YQOXQItv5/htAYOXQItv5GEBeukkMAisYQI2XbhKDwBZA",
           "dtype": "f8"
          },
          "sizemode": "area",
          "sizeref": 14.3604025,
          "symbol": "circle"
         },
         "mode": "markers",
         "name": "random_forest",
         "scene": "scene",
         "showlegend": true,
         "type": "scatter3d",
         "x": {
          "bdata": "BkXizPrbwj8fu4OCVdS4PwZF4sz628I/H7uDglXUuD+tP7BemNy0PwNoe8Ava68/",
          "dtype": "f8"
         },
         "y": {
          "bdata": "2XCfgs4ouz9+wt6weL6yP9lwn4LOKLs/fsLesHi+sj9+ki1aihqqP1moWUz2MqM/",
          "dtype": "f8"
         },
         "z": {
          "bdata": "Pc/zPM/zuD+KoiiKoii6Pz3P8zzP87g/iqIoiqIouj9mZmZmZmbCPx+F61G4HsM/",
          "dtype": "f8"
         }
        },
        {
         "customdata": [
          [
           "N/A",
           "N/A",
           "N/A"
          ],
          [
           "N/A",
           "N/A",
           "N/A"
          ],
          [
           "N/A",
           "N/A",
           "N/A"
          ],
          [
           "N/A",
           "N/A",
           "N/A"
          ],
          [
           "N/A",
           "N/A",
           "N/A"
          ],
          [
           "N/A",
           "N/A",
           "N/A"
          ]
         ],
         "hovertemplate": "model_type=logistic<br>f1_macro=%{x}<br>jaccard_score=%{y}<br>hamming_loss=%{z}<br>duration=%{marker.size}<br>epochs=%{customdata[0]}<br>batch_size=%{customdata[1]}<br>learning_rate=%{customdata[2]}<extra></extra>",
         "legendgroup": "logistic",
         "marker": {
          "color": "#FFA15A",
          "size": {
           "bdata": "+FPjpZtEFEBSuB6F61EiQCcxCKwcWhVAgZVDi2xnG0CkcD0K1yMUQMHKoUW28xxA",
           "dtype": "f8"
          },
          "sizemode": "area",
          "sizeref": 14.3604025,
          "symbol": "circle"
         },
         "mode": "markers",
         "name": "logistic",
         "scene": "scene",
         "showlegend": true,
         "type": "scatter3d",
         "x": {
          "bdata": "xtVhTp93sj8LN5aE5XLYP8bVYU6fd7I/CzeWhOVy2D/72WJl+EaUP8Cf1j6Uer4/",
          "dtype": "f8"
         },
         "y": {
          "bdata": "fxA1fhA1rj/DL0AWjpTUP38QNX4QNa4/wy9AFo6U1D8GFlhggQWGP1dLFu9ttbQ/",
          "dtype": "f8"
         },
         "z": {
          "bdata": "r+u6ruu6uj9yHMdxHMexP6/ruq7ruro/chzHcRzHsT9mZmZmZmbEP3E9CtejcME/",
          "dtype": "f8"
         }
        }
       ],
       "layout": {
        "legend": {
         "itemsizing": "constant",
         "title": {
          "text": "model_type"
         },
         "tracegroupgap": 0
        },
        "scene": {
         "domain": {
          "x": [
           0,
           1
          ],
          "y": [
           0,
           1
          ]
         },
         "xaxis": {
          "title": {
           "text": "f1_macro"
          }
         },
         "yaxis": {
          "title": {
           "text": "jaccard_score"
          }
         },
         "zaxis": {
          "title": {
           "text": "hamming_loss"
          }
         }
        },
        "template": {
         "data": {
          "bar": [
           {
            "error_x": {
             "color": "#2a3f5f"
            },
            "error_y": {
             "color": "#2a3f5f"
            },
            "marker": {
             "line": {
              "color": "#E5ECF6",
              "width": 0.5
             },
             "pattern": {
              "fillmode": "overlay",
              "size": 10,
              "solidity": 0.2
             }
            },
            "type": "bar"
           }
          ],
          "barpolar": [
           {
            "marker": {
             "line": {
              "color": "#E5ECF6",
              "width": 0.5
             },
             "pattern": {
              "fillmode": "overlay",
              "size": 10,
              "solidity": 0.2
             }
            },
            "type": "barpolar"
           }
          ],
          "carpet": [
           {
            "aaxis": {
             "endlinecolor": "#2a3f5f",
             "gridcolor": "white",
             "linecolor": "white",
             "minorgridcolor": "white",
             "startlinecolor": "#2a3f5f"
            },
            "baxis": {
             "endlinecolor": "#2a3f5f",
             "gridcolor": "white",
             "linecolor": "white",
             "minorgridcolor": "white",
             "startlinecolor": "#2a3f5f"
            },
            "type": "carpet"
           }
          ],
          "choropleth": [
           {
            "colorbar": {
             "outlinewidth": 0,
             "ticks": ""
            },
            "type": "choropleth"
           }
          ],
          "contour": [
           {
            "colorbar": {
             "outlinewidth": 0,
             "ticks": ""
            },
            "colorscale": [
             [
              0,
              "#0d0887"
             ],
             [
              0.1111111111111111,
              "#46039f"
             ],
             [
              0.2222222222222222,
              "#7201a8"
             ],
             [
              0.3333333333333333,
              "#9c179e"
             ],
             [
              0.4444444444444444,
              "#bd3786"
             ],
             [
              0.5555555555555556,
              "#d8576b"
             ],
             [
              0.6666666666666666,
              "#ed7953"
             ],
             [
              0.7777777777777778,
              "#fb9f3a"
             ],
             [
              0.8888888888888888,
              "#fdca26"
             ],
             [
              1,
              "#f0f921"
             ]
            ],
            "type": "contour"
           }
          ],
          "contourcarpet": [
           {
            "colorbar": {
             "outlinewidth": 0,
             "ticks": ""
            },
            "type": "contourcarpet"
           }
          ],
          "heatmap": [
           {
            "colorbar": {
             "outlinewidth": 0,
             "ticks": ""
            },
            "colorscale": [
             [
              0,
              "#0d0887"
             ],
             [
              0.1111111111111111,
              "#46039f"
             ],
             [
              0.2222222222222222,
              "#7201a8"
             ],
             [
              0.3333333333333333,
              "#9c179e"
             ],
             [
              0.4444444444444444,
              "#bd3786"
             ],
             [
              0.5555555555555556,
              "#d8576b"
             ],
             [
              0.6666666666666666,
              "#ed7953"
             ],
             [
              0.7777777777777778,
              "#fb9f3a"
             ],
             [
              0.8888888888888888,
              "#fdca26"
             ],
             [
              1,
              "#f0f921"
             ]
            ],
            "type": "heatmap"
           }
          ],
          "histogram": [
           {
            "marker": {
             "pattern": {
              "fillmode": "overlay",
              "size": 10,
              "solidity": 0.2
             }
            },
            "type": "histogram"
           }
          ],
          "histogram2d": [
           {
            "colorbar": {
             "outlinewidth": 0,
             "ticks": ""
            },
            "colorscale": [
             [
              0,
              "#0d0887"
             ],
             [
              0.1111111111111111,
              "#46039f"
             ],
             [
              0.2222222222222222,
              "#7201a8"
             ],
             [
              0.3333333333333333,
              "#9c179e"
             ],
             [
              0.4444444444444444,
              "#bd3786"
             ],
             [
              0.5555555555555556,
              "#d8576b"
             ],
             [
              0.6666666666666666,
              "#ed7953"
             ],
             [
              0.7777777777777778,
              "#fb9f3a"
             ],
             [
              0.8888888888888888,
              "#fdca26"
             ],
             [
              1,
              "#f0f921"
             ]
            ],
            "type": "histogram2d"
           }
          ],
          "histogram2dcontour": [
           {
            "colorbar": {
             "outlinewidth": 0,
             "ticks": ""
            },
            "colorscale": [
             [
              0,
              "#0d0887"
             ],
             [
              0.1111111111111111,
              "#46039f"
             ],
             [
              0.2222222222222222,
              "#7201a8"
             ],
             [
              0.3333333333333333,
              "#9c179e"
             ],
             [
              0.4444444444444444,
              "#bd3786"
             ],
             [
              0.5555555555555556,
              "#d8576b"
             ],
             [
              0.6666666666666666,
              "#ed7953"
             ],
             [
              0.7777777777777778,
              "#fb9f3a"
             ],
             [
              0.8888888888888888,
              "#fdca26"
             ],
             [
              1,
              "#f0f921"
             ]
            ],
            "type": "histogram2dcontour"
           }
          ],
          "mesh3d": [
           {
            "colorbar": {
             "outlinewidth": 0,
             "ticks": ""
            },
            "type": "mesh3d"
           }
          ],
          "parcoords": [
           {
            "line": {
             "colorbar": {
              "outlinewidth": 0,
              "ticks": ""
             }
            },
            "type": "parcoords"
           }
          ],
          "pie": [
           {
            "automargin": true,
            "type": "pie"
           }
          ],
          "scatter": [
           {
            "fillpattern": {
             "fillmode": "overlay",
             "size": 10,
             "solidity": 0.2
            },
            "type": "scatter"
           }
          ],
          "scatter3d": [
           {
            "line": {
             "colorbar": {
              "outlinewidth": 0,
              "ticks": ""
             }
            },
            "marker": {
             "colorbar": {
              "outlinewidth": 0,
              "ticks": ""
             }
            },
            "type": "scatter3d"
           }
          ],
          "scattercarpet": [
           {
            "marker": {
             "colorbar": {
              "outlinewidth": 0,
              "ticks": ""
             }
            },
            "type": "scattercarpet"
           }
          ],
          "scattergeo": [
           {
            "marker": {
             "colorbar": {
              "outlinewidth": 0,
              "ticks": ""
             }
            },
            "type": "scattergeo"
           }
          ],
          "scattergl": [
           {
            "marker": {
             "colorbar": {
              "outlinewidth": 0,
              "ticks": ""
             }
            },
            "type": "scattergl"
           }
          ],
          "scattermap": [
           {
            "marker": {
             "colorbar": {
              "outlinewidth": 0,
              "ticks": ""
             }
            },
            "type": "scattermap"
           }
          ],
          "scattermapbox": [
           {
            "marker": {
             "colorbar": {
              "outlinewidth": 0,
              "ticks": ""
             }
            },
            "type": "scattermapbox"
           }
          ],
          "scatterpolar": [
           {
            "marker": {
             "colorbar": {
              "outlinewidth": 0,
              "ticks": ""
             }
            },
            "type": "scatterpolar"
           }
          ],
          "scatterpolargl": [
           {
            "marker": {
             "colorbar": {
              "outlinewidth": 0,
              "ticks": ""
             }
            },
            "type": "scatterpolargl"
           }
          ],
          "scatterternary": [
           {
            "marker": {
             "colorbar": {
              "outlinewidth": 0,
              "ticks": ""
             }
            },
            "type": "scatterternary"
           }
          ],
          "surface": [
           {
            "colorbar": {
             "outlinewidth": 0,
             "ticks": ""
            },
            "colorscale": [
             [
              0,
              "#0d0887"
             ],
             [
              0.1111111111111111,
              "#46039f"
             ],
             [
              0.2222222222222222,
              "#7201a8"
             ],
             [
              0.3333333333333333,
              "#9c179e"
             ],
             [
              0.4444444444444444,
              "#bd3786"
             ],
             [
              0.5555555555555556,
              "#d8576b"
             ],
             [
              0.6666666666666666,
              "#ed7953"
             ],
             [
              0.7777777777777778,
              "#fb9f3a"
             ],
             [
              0.8888888888888888,
              "#fdca26"
             ],
             [
              1,
              "#f0f921"
             ]
            ],
            "type": "surface"
           }
          ],
          "table": [
           {
            "cells": {
             "fill": {
              "color": "#EBF0F8"
             },
             "line": {
              "color": "white"
             }
            },
            "header": {
             "fill": {
              "color": "#C8D4E3"
             },
             "line": {
              "color": "white"
             }
            },
            "type": "table"
           }
          ]
         },
         "layout": {
          "annotationdefaults": {
           "arrowcolor": "#2a3f5f",
           "arrowhead": 0,
           "arrowwidth": 1
          },
          "autotypenumbers": "strict",
          "coloraxis": {
           "colorbar": {
            "outlinewidth": 0,
            "ticks": ""
           }
          },
          "colorscale": {
           "diverging": [
            [
             0,
             "#8e0152"
            ],
            [
             0.1,
             "#c51b7d"
            ],
            [
             0.2,
             "#de77ae"
            ],
            [
             0.3,
             "#f1b6da"
            ],
            [
             0.4,
             "#fde0ef"
            ],
            [
             0.5,
             "#f7f7f7"
            ],
            [
             0.6,
             "#e6f5d0"
            ],
            [
             0.7,
             "#b8e186"
            ],
            [
             0.8,
             "#7fbc41"
            ],
            [
             0.9,
             "#4d9221"
            ],
            [
             1,
             "#276419"
            ]
           ],
           "sequential": [
            [
             0,
             "#0d0887"
            ],
            [
             0.1111111111111111,
             "#46039f"
            ],
            [
             0.2222222222222222,
             "#7201a8"
            ],
            [
             0.3333333333333333,
             "#9c179e"
            ],
            [
             0.4444444444444444,
             "#bd3786"
            ],
            [
             0.5555555555555556,
             "#d8576b"
            ],
            [
             0.6666666666666666,
             "#ed7953"
            ],
            [
             0.7777777777777778,
             "#fb9f3a"
            ],
            [
             0.8888888888888888,
             "#fdca26"
            ],
            [
             1,
             "#f0f921"
            ]
           ],
           "sequentialminus": [
            [
             0,
             "#0d0887"
            ],
            [
             0.1111111111111111,
             "#46039f"
            ],
            [
             0.2222222222222222,
             "#7201a8"
            ],
            [
             0.3333333333333333,
             "#9c179e"
            ],
            [
             0.4444444444444444,
             "#bd3786"
            ],
            [
             0.5555555555555556,
             "#d8576b"
            ],
            [
             0.6666666666666666,
             "#ed7953"
            ],
            [
             0.7777777777777778,
             "#fb9f3a"
            ],
            [
             0.8888888888888888,
             "#fdca26"
            ],
            [
             1,
             "#f0f921"
            ]
           ]
          },
          "colorway": [
           "#636efa",
           "#EF553B",
           "#00cc96",
           "#ab63fa",
           "#FFA15A",
           "#19d3f3",
           "#FF6692",
           "#B6E880",
           "#FF97FF",
           "#FECB52"
          ],
          "font": {
           "color": "#2a3f5f"
          },
          "geo": {
           "bgcolor": "white",
           "lakecolor": "white",
           "landcolor": "#E5ECF6",
           "showlakes": true,
           "showland": true,
           "subunitcolor": "white"
          },
          "hoverlabel": {
           "align": "left"
          },
          "hovermode": "closest",
          "mapbox": {
           "style": "light"
          },
          "paper_bgcolor": "white",
          "plot_bgcolor": "#E5ECF6",
          "polar": {
           "angularaxis": {
            "gridcolor": "white",
            "linecolor": "white",
            "ticks": ""
           },
           "bgcolor": "#E5ECF6",
           "radialaxis": {
            "gridcolor": "white",
            "linecolor": "white",
            "ticks": ""
           }
          },
          "scene": {
           "xaxis": {
            "backgroundcolor": "#E5ECF6",
            "gridcolor": "white",
            "gridwidth": 2,
            "linecolor": "white",
            "showbackground": true,
            "ticks": "",
            "zerolinecolor": "white"
           },
           "yaxis": {
            "backgroundcolor": "#E5ECF6",
            "gridcolor": "white",
            "gridwidth": 2,
            "linecolor": "white",
            "showbackground": true,
            "ticks": "",
            "zerolinecolor": "white"
           },
           "zaxis": {
            "backgroundcolor": "#E5ECF6",
            "gridcolor": "white",
            "gridwidth": 2,
            "linecolor": "white",
            "showbackground": true,
            "ticks": "",
            "zerolinecolor": "white"
           }
          },
          "shapedefaults": {
           "line": {
            "color": "#2a3f5f"
           }
          },
          "ternary": {
           "aaxis": {
            "gridcolor": "white",
            "linecolor": "white",
            "ticks": ""
           },
           "baxis": {
            "gridcolor": "white",
            "linecolor": "white",
            "ticks": ""
           },
           "bgcolor": "#E5ECF6",
           "caxis": {
            "gridcolor": "white",
            "linecolor": "white",
            "ticks": ""
           }
          },
          "title": {
           "x": 0.05
          },
          "xaxis": {
           "automargin": true,
           "gridcolor": "white",
           "linecolor": "white",
           "ticks": "",
           "title": {
            "standoff": 15
           },
           "zerolinecolor": "white",
           "zerolinewidth": 2
          },
          "yaxis": {
           "automargin": true,
           "gridcolor": "white",
           "linecolor": "white",
           "ticks": "",
           "title": {
            "standoff": 15
           },
           "zerolinecolor": "white",
           "zerolinewidth": 2
          }
         }
        },
        "title": {
         "text": "Comparación 3D: F1 Macro vs Jaccard vs Hamming Loss"
        }
       }
      }
     },
     "metadata": {},
     "output_type": "display_data"
    },
    {
     "ename": "TypeError",
     "evalue": "agg function failed [how->mean,dtype->object]",
     "output_type": "error",
     "traceback": [
      "\u001b[31m---------------------------------------------------------------------------\u001b[39m",
      "\u001b[31mTypeError\u001b[39m                                 Traceback (most recent call last)",
      "\u001b[36mFile \u001b[39m\u001b[32mc:\\Users\\usuario\\Desktop\\bcia\\nlp-team2\\.venv\\Lib\\site-packages\\pandas\\core\\groupby\\groupby.py:1942\u001b[39m, in \u001b[36mGroupBy._agg_py_fallback\u001b[39m\u001b[34m(self, how, values, ndim, alt)\u001b[39m\n\u001b[32m   1941\u001b[39m \u001b[38;5;28;01mtry\u001b[39;00m:\n\u001b[32m-> \u001b[39m\u001b[32m1942\u001b[39m     res_values = \u001b[38;5;28;43mself\u001b[39;49m\u001b[43m.\u001b[49m\u001b[43m_grouper\u001b[49m\u001b[43m.\u001b[49m\u001b[43magg_series\u001b[49m\u001b[43m(\u001b[49m\u001b[43mser\u001b[49m\u001b[43m,\u001b[49m\u001b[43m \u001b[49m\u001b[43malt\u001b[49m\u001b[43m,\u001b[49m\u001b[43m \u001b[49m\u001b[43mpreserve_dtype\u001b[49m\u001b[43m=\u001b[49m\u001b[38;5;28;43;01mTrue\u001b[39;49;00m\u001b[43m)\u001b[49m\n\u001b[32m   1943\u001b[39m \u001b[38;5;28;01mexcept\u001b[39;00m \u001b[38;5;167;01mException\u001b[39;00m \u001b[38;5;28;01mas\u001b[39;00m err:\n",
      "\u001b[36mFile \u001b[39m\u001b[32mc:\\Users\\usuario\\Desktop\\bcia\\nlp-team2\\.venv\\Lib\\site-packages\\pandas\\core\\groupby\\ops.py:864\u001b[39m, in \u001b[36mBaseGrouper.agg_series\u001b[39m\u001b[34m(self, obj, func, preserve_dtype)\u001b[39m\n\u001b[32m    862\u001b[39m     preserve_dtype = \u001b[38;5;28;01mTrue\u001b[39;00m\n\u001b[32m--> \u001b[39m\u001b[32m864\u001b[39m result = \u001b[38;5;28;43mself\u001b[39;49m\u001b[43m.\u001b[49m\u001b[43m_aggregate_series_pure_python\u001b[49m\u001b[43m(\u001b[49m\u001b[43mobj\u001b[49m\u001b[43m,\u001b[49m\u001b[43m \u001b[49m\u001b[43mfunc\u001b[49m\u001b[43m)\u001b[49m\n\u001b[32m    866\u001b[39m npvalues = lib.maybe_convert_objects(result, try_float=\u001b[38;5;28;01mFalse\u001b[39;00m)\n",
      "\u001b[36mFile \u001b[39m\u001b[32mc:\\Users\\usuario\\Desktop\\bcia\\nlp-team2\\.venv\\Lib\\site-packages\\pandas\\core\\groupby\\ops.py:885\u001b[39m, in \u001b[36mBaseGrouper._aggregate_series_pure_python\u001b[39m\u001b[34m(self, obj, func)\u001b[39m\n\u001b[32m    884\u001b[39m \u001b[38;5;28;01mfor\u001b[39;00m i, group \u001b[38;5;129;01min\u001b[39;00m \u001b[38;5;28menumerate\u001b[39m(splitter):\n\u001b[32m--> \u001b[39m\u001b[32m885\u001b[39m     res = \u001b[43mfunc\u001b[49m\u001b[43m(\u001b[49m\u001b[43mgroup\u001b[49m\u001b[43m)\u001b[49m\n\u001b[32m    886\u001b[39m     res = extract_result(res)\n",
      "\u001b[36mFile \u001b[39m\u001b[32mc:\\Users\\usuario\\Desktop\\bcia\\nlp-team2\\.venv\\Lib\\site-packages\\pandas\\core\\groupby\\groupby.py:2454\u001b[39m, in \u001b[36mGroupBy.mean.<locals>.<lambda>\u001b[39m\u001b[34m(x)\u001b[39m\n\u001b[32m   2451\u001b[39m \u001b[38;5;28;01melse\u001b[39;00m:\n\u001b[32m   2452\u001b[39m     result = \u001b[38;5;28mself\u001b[39m._cython_agg_general(\n\u001b[32m   2453\u001b[39m         \u001b[33m\"\u001b[39m\u001b[33mmean\u001b[39m\u001b[33m\"\u001b[39m,\n\u001b[32m-> \u001b[39m\u001b[32m2454\u001b[39m         alt=\u001b[38;5;28;01mlambda\u001b[39;00m x: \u001b[43mSeries\u001b[49m\u001b[43m(\u001b[49m\u001b[43mx\u001b[49m\u001b[43m,\u001b[49m\u001b[43m \u001b[49m\u001b[43mcopy\u001b[49m\u001b[43m=\u001b[49m\u001b[38;5;28;43;01mFalse\u001b[39;49;00m\u001b[43m)\u001b[49m\u001b[43m.\u001b[49m\u001b[43mmean\u001b[49m\u001b[43m(\u001b[49m\u001b[43mnumeric_only\u001b[49m\u001b[43m=\u001b[49m\u001b[43mnumeric_only\u001b[49m\u001b[43m)\u001b[49m,\n\u001b[32m   2455\u001b[39m         numeric_only=numeric_only,\n\u001b[32m   2456\u001b[39m     )\n\u001b[32m   2457\u001b[39m     \u001b[38;5;28;01mreturn\u001b[39;00m result.__finalize__(\u001b[38;5;28mself\u001b[39m.obj, method=\u001b[33m\"\u001b[39m\u001b[33mgroupby\u001b[39m\u001b[33m\"\u001b[39m)\n",
      "\u001b[36mFile \u001b[39m\u001b[32mc:\\Users\\usuario\\Desktop\\bcia\\nlp-team2\\.venv\\Lib\\site-packages\\pandas\\core\\series.py:6560\u001b[39m, in \u001b[36mSeries.mean\u001b[39m\u001b[34m(self, axis, skipna, numeric_only, **kwargs)\u001b[39m\n\u001b[32m   6552\u001b[39m \u001b[38;5;129m@doc\u001b[39m(make_doc(\u001b[33m\"\u001b[39m\u001b[33mmean\u001b[39m\u001b[33m\"\u001b[39m, ndim=\u001b[32m1\u001b[39m))\n\u001b[32m   6553\u001b[39m \u001b[38;5;28;01mdef\u001b[39;00m\u001b[38;5;250m \u001b[39m\u001b[34mmean\u001b[39m(\n\u001b[32m   6554\u001b[39m     \u001b[38;5;28mself\u001b[39m,\n\u001b[32m   (...)\u001b[39m\u001b[32m   6558\u001b[39m     **kwargs,\n\u001b[32m   6559\u001b[39m ):\n\u001b[32m-> \u001b[39m\u001b[32m6560\u001b[39m     \u001b[38;5;28;01mreturn\u001b[39;00m \u001b[43mNDFrame\u001b[49m\u001b[43m.\u001b[49m\u001b[43mmean\u001b[49m\u001b[43m(\u001b[49m\u001b[38;5;28;43mself\u001b[39;49m\u001b[43m,\u001b[49m\u001b[43m \u001b[49m\u001b[43maxis\u001b[49m\u001b[43m,\u001b[49m\u001b[43m \u001b[49m\u001b[43mskipna\u001b[49m\u001b[43m,\u001b[49m\u001b[43m \u001b[49m\u001b[43mnumeric_only\u001b[49m\u001b[43m,\u001b[49m\u001b[43m \u001b[49m\u001b[43m*\u001b[49m\u001b[43m*\u001b[49m\u001b[43mkwargs\u001b[49m\u001b[43m)\u001b[49m\n",
      "\u001b[36mFile \u001b[39m\u001b[32mc:\\Users\\usuario\\Desktop\\bcia\\nlp-team2\\.venv\\Lib\\site-packages\\pandas\\core\\generic.py:12439\u001b[39m, in \u001b[36mNDFrame.mean\u001b[39m\u001b[34m(self, axis, skipna, numeric_only, **kwargs)\u001b[39m\n\u001b[32m  12432\u001b[39m \u001b[38;5;28;01mdef\u001b[39;00m\u001b[38;5;250m \u001b[39m\u001b[34mmean\u001b[39m(\n\u001b[32m  12433\u001b[39m     \u001b[38;5;28mself\u001b[39m,\n\u001b[32m  12434\u001b[39m     axis: Axis | \u001b[38;5;28;01mNone\u001b[39;00m = \u001b[32m0\u001b[39m,\n\u001b[32m   (...)\u001b[39m\u001b[32m  12437\u001b[39m     **kwargs,\n\u001b[32m  12438\u001b[39m ) -> Series | \u001b[38;5;28mfloat\u001b[39m:\n\u001b[32m> \u001b[39m\u001b[32m12439\u001b[39m     \u001b[38;5;28;01mreturn\u001b[39;00m \u001b[38;5;28;43mself\u001b[39;49m\u001b[43m.\u001b[49m\u001b[43m_stat_function\u001b[49m\u001b[43m(\u001b[49m\n\u001b[32m  12440\u001b[39m \u001b[43m        \u001b[49m\u001b[33;43m\"\u001b[39;49m\u001b[33;43mmean\u001b[39;49m\u001b[33;43m\"\u001b[39;49m\u001b[43m,\u001b[49m\u001b[43m \u001b[49m\u001b[43mnanops\u001b[49m\u001b[43m.\u001b[49m\u001b[43mnanmean\u001b[49m\u001b[43m,\u001b[49m\u001b[43m \u001b[49m\u001b[43maxis\u001b[49m\u001b[43m,\u001b[49m\u001b[43m \u001b[49m\u001b[43mskipna\u001b[49m\u001b[43m,\u001b[49m\u001b[43m \u001b[49m\u001b[43mnumeric_only\u001b[49m\u001b[43m,\u001b[49m\u001b[43m \u001b[49m\u001b[43m*\u001b[49m\u001b[43m*\u001b[49m\u001b[43mkwargs\u001b[49m\n\u001b[32m  12441\u001b[39m \u001b[43m    \u001b[49m\u001b[43m)\u001b[49m\n",
      "\u001b[36mFile \u001b[39m\u001b[32mc:\\Users\\usuario\\Desktop\\bcia\\nlp-team2\\.venv\\Lib\\site-packages\\pandas\\core\\generic.py:12396\u001b[39m, in \u001b[36mNDFrame._stat_function\u001b[39m\u001b[34m(self, name, func, axis, skipna, numeric_only, **kwargs)\u001b[39m\n\u001b[32m  12394\u001b[39m validate_bool_kwarg(skipna, \u001b[33m\"\u001b[39m\u001b[33mskipna\u001b[39m\u001b[33m\"\u001b[39m, none_allowed=\u001b[38;5;28;01mFalse\u001b[39;00m)\n\u001b[32m> \u001b[39m\u001b[32m12396\u001b[39m \u001b[38;5;28;01mreturn\u001b[39;00m \u001b[38;5;28;43mself\u001b[39;49m\u001b[43m.\u001b[49m\u001b[43m_reduce\u001b[49m\u001b[43m(\u001b[49m\n\u001b[32m  12397\u001b[39m \u001b[43m    \u001b[49m\u001b[43mfunc\u001b[49m\u001b[43m,\u001b[49m\u001b[43m \u001b[49m\u001b[43mname\u001b[49m\u001b[43m=\u001b[49m\u001b[43mname\u001b[49m\u001b[43m,\u001b[49m\u001b[43m \u001b[49m\u001b[43maxis\u001b[49m\u001b[43m=\u001b[49m\u001b[43maxis\u001b[49m\u001b[43m,\u001b[49m\u001b[43m \u001b[49m\u001b[43mskipna\u001b[49m\u001b[43m=\u001b[49m\u001b[43mskipna\u001b[49m\u001b[43m,\u001b[49m\u001b[43m \u001b[49m\u001b[43mnumeric_only\u001b[49m\u001b[43m=\u001b[49m\u001b[43mnumeric_only\u001b[49m\n\u001b[32m  12398\u001b[39m \u001b[43m\u001b[49m\u001b[43m)\u001b[49m\n",
      "\u001b[36mFile \u001b[39m\u001b[32mc:\\Users\\usuario\\Desktop\\bcia\\nlp-team2\\.venv\\Lib\\site-packages\\pandas\\core\\series.py:6468\u001b[39m, in \u001b[36mSeries._reduce\u001b[39m\u001b[34m(self, op, name, axis, skipna, numeric_only, filter_type, **kwds)\u001b[39m\n\u001b[32m   6464\u001b[39m     \u001b[38;5;28;01mraise\u001b[39;00m \u001b[38;5;167;01mTypeError\u001b[39;00m(\n\u001b[32m   6465\u001b[39m         \u001b[33mf\u001b[39m\u001b[33m\"\u001b[39m\u001b[33mSeries.\u001b[39m\u001b[38;5;132;01m{\u001b[39;00mname\u001b[38;5;132;01m}\u001b[39;00m\u001b[33m does not allow \u001b[39m\u001b[38;5;132;01m{\u001b[39;00mkwd_name\u001b[38;5;132;01m}\u001b[39;00m\u001b[33m=\u001b[39m\u001b[38;5;132;01m{\u001b[39;00mnumeric_only\u001b[38;5;132;01m}\u001b[39;00m\u001b[33m \u001b[39m\u001b[33m\"\u001b[39m\n\u001b[32m   6466\u001b[39m         \u001b[33m\"\u001b[39m\u001b[33mwith non-numeric dtypes.\u001b[39m\u001b[33m\"\u001b[39m\n\u001b[32m   6467\u001b[39m     )\n\u001b[32m-> \u001b[39m\u001b[32m6468\u001b[39m \u001b[38;5;28;01mreturn\u001b[39;00m \u001b[43mop\u001b[49m\u001b[43m(\u001b[49m\u001b[43mdelegate\u001b[49m\u001b[43m,\u001b[49m\u001b[43m \u001b[49m\u001b[43mskipna\u001b[49m\u001b[43m=\u001b[49m\u001b[43mskipna\u001b[49m\u001b[43m,\u001b[49m\u001b[43m \u001b[49m\u001b[43m*\u001b[49m\u001b[43m*\u001b[49m\u001b[43mkwds\u001b[49m\u001b[43m)\u001b[49m\n",
      "\u001b[36mFile \u001b[39m\u001b[32mc:\\Users\\usuario\\Desktop\\bcia\\nlp-team2\\.venv\\Lib\\site-packages\\pandas\\core\\nanops.py:147\u001b[39m, in \u001b[36mbottleneck_switch.__call__.<locals>.f\u001b[39m\u001b[34m(values, axis, skipna, **kwds)\u001b[39m\n\u001b[32m    146\u001b[39m \u001b[38;5;28;01melse\u001b[39;00m:\n\u001b[32m--> \u001b[39m\u001b[32m147\u001b[39m     result = \u001b[43malt\u001b[49m\u001b[43m(\u001b[49m\u001b[43mvalues\u001b[49m\u001b[43m,\u001b[49m\u001b[43m \u001b[49m\u001b[43maxis\u001b[49m\u001b[43m=\u001b[49m\u001b[43maxis\u001b[49m\u001b[43m,\u001b[49m\u001b[43m \u001b[49m\u001b[43mskipna\u001b[49m\u001b[43m=\u001b[49m\u001b[43mskipna\u001b[49m\u001b[43m,\u001b[49m\u001b[43m \u001b[49m\u001b[43m*\u001b[49m\u001b[43m*\u001b[49m\u001b[43mkwds\u001b[49m\u001b[43m)\u001b[49m\n\u001b[32m    149\u001b[39m \u001b[38;5;28;01mreturn\u001b[39;00m result\n",
      "\u001b[36mFile \u001b[39m\u001b[32mc:\\Users\\usuario\\Desktop\\bcia\\nlp-team2\\.venv\\Lib\\site-packages\\pandas\\core\\nanops.py:404\u001b[39m, in \u001b[36m_datetimelike_compat.<locals>.new_func\u001b[39m\u001b[34m(values, axis, skipna, mask, **kwargs)\u001b[39m\n\u001b[32m    402\u001b[39m     mask = isna(values)\n\u001b[32m--> \u001b[39m\u001b[32m404\u001b[39m result = \u001b[43mfunc\u001b[49m\u001b[43m(\u001b[49m\u001b[43mvalues\u001b[49m\u001b[43m,\u001b[49m\u001b[43m \u001b[49m\u001b[43maxis\u001b[49m\u001b[43m=\u001b[49m\u001b[43maxis\u001b[49m\u001b[43m,\u001b[49m\u001b[43m \u001b[49m\u001b[43mskipna\u001b[49m\u001b[43m=\u001b[49m\u001b[43mskipna\u001b[49m\u001b[43m,\u001b[49m\u001b[43m \u001b[49m\u001b[43mmask\u001b[49m\u001b[43m=\u001b[49m\u001b[43mmask\u001b[49m\u001b[43m,\u001b[49m\u001b[43m \u001b[49m\u001b[43m*\u001b[49m\u001b[43m*\u001b[49m\u001b[43mkwargs\u001b[49m\u001b[43m)\u001b[49m\n\u001b[32m    406\u001b[39m \u001b[38;5;28;01mif\u001b[39;00m datetimelike:\n",
      "\u001b[36mFile \u001b[39m\u001b[32mc:\\Users\\usuario\\Desktop\\bcia\\nlp-team2\\.venv\\Lib\\site-packages\\pandas\\core\\nanops.py:720\u001b[39m, in \u001b[36mnanmean\u001b[39m\u001b[34m(values, axis, skipna, mask)\u001b[39m\n\u001b[32m    719\u001b[39m the_sum = values.sum(axis, dtype=dtype_sum)\n\u001b[32m--> \u001b[39m\u001b[32m720\u001b[39m the_sum = \u001b[43m_ensure_numeric\u001b[49m\u001b[43m(\u001b[49m\u001b[43mthe_sum\u001b[49m\u001b[43m)\u001b[49m\n\u001b[32m    722\u001b[39m \u001b[38;5;28;01mif\u001b[39;00m axis \u001b[38;5;129;01mis\u001b[39;00m \u001b[38;5;129;01mnot\u001b[39;00m \u001b[38;5;28;01mNone\u001b[39;00m \u001b[38;5;129;01mand\u001b[39;00m \u001b[38;5;28mgetattr\u001b[39m(the_sum, \u001b[33m\"\u001b[39m\u001b[33mndim\u001b[39m\u001b[33m\"\u001b[39m, \u001b[38;5;28;01mFalse\u001b[39;00m):\n",
      "\u001b[36mFile \u001b[39m\u001b[32mc:\\Users\\usuario\\Desktop\\bcia\\nlp-team2\\.venv\\Lib\\site-packages\\pandas\\core\\nanops.py:1701\u001b[39m, in \u001b[36m_ensure_numeric\u001b[39m\u001b[34m(x)\u001b[39m\n\u001b[32m   1699\u001b[39m \u001b[38;5;28;01mif\u001b[39;00m \u001b[38;5;28misinstance\u001b[39m(x, \u001b[38;5;28mstr\u001b[39m):\n\u001b[32m   1700\u001b[39m     \u001b[38;5;66;03m# GH#44008, GH#36703 avoid casting e.g. strings to numeric\u001b[39;00m\n\u001b[32m-> \u001b[39m\u001b[32m1701\u001b[39m     \u001b[38;5;28;01mraise\u001b[39;00m \u001b[38;5;167;01mTypeError\u001b[39;00m(\u001b[33mf\u001b[39m\u001b[33m\"\u001b[39m\u001b[33mCould not convert string \u001b[39m\u001b[33m'\u001b[39m\u001b[38;5;132;01m{\u001b[39;00mx\u001b[38;5;132;01m}\u001b[39;00m\u001b[33m'\u001b[39m\u001b[33m to numeric\u001b[39m\u001b[33m\"\u001b[39m)\n\u001b[32m   1702\u001b[39m \u001b[38;5;28;01mtry\u001b[39;00m:\n",
      "\u001b[31mTypeError\u001b[39m: Could not convert string '32e53ffb490e4fd69af724c83e264b65' to numeric",
      "\nThe above exception was the direct cause of the following exception:\n",
      "\u001b[31mTypeError\u001b[39m                                 Traceback (most recent call last)",
      "\u001b[36mCell\u001b[39m\u001b[36m \u001b[39m\u001b[32mIn[15]\u001b[39m\u001b[32m, line 25\u001b[39m\n\u001b[32m     19\u001b[39m \u001b[38;5;66;03m# Gráfico de barras por modelo\u001b[39;00m\n\u001b[32m     20\u001b[39m fig = make_subplots(\n\u001b[32m     21\u001b[39m     rows=\u001b[32m2\u001b[39m, cols=\u001b[32m2\u001b[39m,\n\u001b[32m     22\u001b[39m     subplot_titles=[\u001b[33m'\u001b[39m\u001b[33mF1 Macro\u001b[39m\u001b[33m'\u001b[39m, \u001b[33m'\u001b[39m\u001b[33mJaccard Score\u001b[39m\u001b[33m'\u001b[39m, \u001b[33m'\u001b[39m\u001b[33mHamming Loss\u001b[39m\u001b[33m'\u001b[39m, \u001b[33m'\u001b[39m\u001b[33mTiempo de Entrenamiento\u001b[39m\u001b[33m'\u001b[39m]\n\u001b[32m     23\u001b[39m )\n\u001b[32m---> \u001b[39m\u001b[32m25\u001b[39m model_avg = \u001b[43mresults_df\u001b[49m\u001b[43m.\u001b[49m\u001b[43mgroupby\u001b[49m\u001b[43m(\u001b[49m\u001b[33;43m'\u001b[39;49m\u001b[33;43mmodel_type\u001b[39;49m\u001b[33;43m'\u001b[39;49m\u001b[43m)\u001b[49m\u001b[43m.\u001b[49m\u001b[43mmean\u001b[49m\u001b[43m(\u001b[49m\u001b[43m)\u001b[49m\n\u001b[32m     27\u001b[39m \u001b[38;5;66;03m# F1 Macro\u001b[39;00m\n\u001b[32m     28\u001b[39m fig.add_trace(\n\u001b[32m     29\u001b[39m     go.Bar(x=model_avg.index, y=model_avg[\u001b[33m'\u001b[39m\u001b[33mf1_macro\u001b[39m\u001b[33m'\u001b[39m], name=\u001b[33m'\u001b[39m\u001b[33mF1 Macro\u001b[39m\u001b[33m'\u001b[39m),\n\u001b[32m     30\u001b[39m     row=\u001b[32m1\u001b[39m, col=\u001b[32m1\u001b[39m\n\u001b[32m     31\u001b[39m )\n",
      "\u001b[36mFile \u001b[39m\u001b[32mc:\\Users\\usuario\\Desktop\\bcia\\nlp-team2\\.venv\\Lib\\site-packages\\pandas\\core\\groupby\\groupby.py:2452\u001b[39m, in \u001b[36mGroupBy.mean\u001b[39m\u001b[34m(self, numeric_only, engine, engine_kwargs)\u001b[39m\n\u001b[32m   2445\u001b[39m     \u001b[38;5;28;01mreturn\u001b[39;00m \u001b[38;5;28mself\u001b[39m._numba_agg_general(\n\u001b[32m   2446\u001b[39m         grouped_mean,\n\u001b[32m   2447\u001b[39m         executor.float_dtype_mapping,\n\u001b[32m   2448\u001b[39m         engine_kwargs,\n\u001b[32m   2449\u001b[39m         min_periods=\u001b[32m0\u001b[39m,\n\u001b[32m   2450\u001b[39m     )\n\u001b[32m   2451\u001b[39m \u001b[38;5;28;01melse\u001b[39;00m:\n\u001b[32m-> \u001b[39m\u001b[32m2452\u001b[39m     result = \u001b[38;5;28;43mself\u001b[39;49m\u001b[43m.\u001b[49m\u001b[43m_cython_agg_general\u001b[49m\u001b[43m(\u001b[49m\n\u001b[32m   2453\u001b[39m \u001b[43m        \u001b[49m\u001b[33;43m\"\u001b[39;49m\u001b[33;43mmean\u001b[39;49m\u001b[33;43m\"\u001b[39;49m\u001b[43m,\u001b[49m\n\u001b[32m   2454\u001b[39m \u001b[43m        \u001b[49m\u001b[43malt\u001b[49m\u001b[43m=\u001b[49m\u001b[38;5;28;43;01mlambda\u001b[39;49;00m\u001b[43m \u001b[49m\u001b[43mx\u001b[49m\u001b[43m:\u001b[49m\u001b[43m \u001b[49m\u001b[43mSeries\u001b[49m\u001b[43m(\u001b[49m\u001b[43mx\u001b[49m\u001b[43m,\u001b[49m\u001b[43m \u001b[49m\u001b[43mcopy\u001b[49m\u001b[43m=\u001b[49m\u001b[38;5;28;43;01mFalse\u001b[39;49;00m\u001b[43m)\u001b[49m\u001b[43m.\u001b[49m\u001b[43mmean\u001b[49m\u001b[43m(\u001b[49m\u001b[43mnumeric_only\u001b[49m\u001b[43m=\u001b[49m\u001b[43mnumeric_only\u001b[49m\u001b[43m)\u001b[49m\u001b[43m,\u001b[49m\n\u001b[32m   2455\u001b[39m \u001b[43m        \u001b[49m\u001b[43mnumeric_only\u001b[49m\u001b[43m=\u001b[49m\u001b[43mnumeric_only\u001b[49m\u001b[43m,\u001b[49m\n\u001b[32m   2456\u001b[39m \u001b[43m    \u001b[49m\u001b[43m)\u001b[49m\n\u001b[32m   2457\u001b[39m     \u001b[38;5;28;01mreturn\u001b[39;00m result.__finalize__(\u001b[38;5;28mself\u001b[39m.obj, method=\u001b[33m\"\u001b[39m\u001b[33mgroupby\u001b[39m\u001b[33m\"\u001b[39m)\n",
      "\u001b[36mFile \u001b[39m\u001b[32mc:\\Users\\usuario\\Desktop\\bcia\\nlp-team2\\.venv\\Lib\\site-packages\\pandas\\core\\groupby\\groupby.py:1998\u001b[39m, in \u001b[36mGroupBy._cython_agg_general\u001b[39m\u001b[34m(self, how, alt, numeric_only, min_count, **kwargs)\u001b[39m\n\u001b[32m   1995\u001b[39m     result = \u001b[38;5;28mself\u001b[39m._agg_py_fallback(how, values, ndim=data.ndim, alt=alt)\n\u001b[32m   1996\u001b[39m     \u001b[38;5;28;01mreturn\u001b[39;00m result\n\u001b[32m-> \u001b[39m\u001b[32m1998\u001b[39m new_mgr = \u001b[43mdata\u001b[49m\u001b[43m.\u001b[49m\u001b[43mgrouped_reduce\u001b[49m\u001b[43m(\u001b[49m\u001b[43marray_func\u001b[49m\u001b[43m)\u001b[49m\n\u001b[32m   1999\u001b[39m res = \u001b[38;5;28mself\u001b[39m._wrap_agged_manager(new_mgr)\n\u001b[32m   2000\u001b[39m \u001b[38;5;28;01mif\u001b[39;00m how \u001b[38;5;129;01min\u001b[39;00m [\u001b[33m\"\u001b[39m\u001b[33midxmin\u001b[39m\u001b[33m\"\u001b[39m, \u001b[33m\"\u001b[39m\u001b[33midxmax\u001b[39m\u001b[33m\"\u001b[39m]:\n",
      "\u001b[36mFile \u001b[39m\u001b[32mc:\\Users\\usuario\\Desktop\\bcia\\nlp-team2\\.venv\\Lib\\site-packages\\pandas\\core\\internals\\managers.py:1469\u001b[39m, in \u001b[36mBlockManager.grouped_reduce\u001b[39m\u001b[34m(self, func)\u001b[39m\n\u001b[32m   1465\u001b[39m \u001b[38;5;28;01mif\u001b[39;00m blk.is_object:\n\u001b[32m   1466\u001b[39m     \u001b[38;5;66;03m# split on object-dtype blocks bc some columns may raise\u001b[39;00m\n\u001b[32m   1467\u001b[39m     \u001b[38;5;66;03m#  while others do not.\u001b[39;00m\n\u001b[32m   1468\u001b[39m     \u001b[38;5;28;01mfor\u001b[39;00m sb \u001b[38;5;129;01min\u001b[39;00m blk._split():\n\u001b[32m-> \u001b[39m\u001b[32m1469\u001b[39m         applied = \u001b[43msb\u001b[49m\u001b[43m.\u001b[49m\u001b[43mapply\u001b[49m\u001b[43m(\u001b[49m\u001b[43mfunc\u001b[49m\u001b[43m)\u001b[49m\n\u001b[32m   1470\u001b[39m         result_blocks = extend_blocks(applied, result_blocks)\n\u001b[32m   1471\u001b[39m \u001b[38;5;28;01melse\u001b[39;00m:\n",
      "\u001b[36mFile \u001b[39m\u001b[32mc:\\Users\\usuario\\Desktop\\bcia\\nlp-team2\\.venv\\Lib\\site-packages\\pandas\\core\\internals\\blocks.py:395\u001b[39m, in \u001b[36mBlock.apply\u001b[39m\u001b[34m(self, func, **kwargs)\u001b[39m\n\u001b[32m    389\u001b[39m \u001b[38;5;129m@final\u001b[39m\n\u001b[32m    390\u001b[39m \u001b[38;5;28;01mdef\u001b[39;00m\u001b[38;5;250m \u001b[39m\u001b[34mapply\u001b[39m(\u001b[38;5;28mself\u001b[39m, func, **kwargs) -> \u001b[38;5;28mlist\u001b[39m[Block]:\n\u001b[32m    391\u001b[39m \u001b[38;5;250m    \u001b[39m\u001b[33;03m\"\"\"\u001b[39;00m\n\u001b[32m    392\u001b[39m \u001b[33;03m    apply the function to my values; return a block if we are not\u001b[39;00m\n\u001b[32m    393\u001b[39m \u001b[33;03m    one\u001b[39;00m\n\u001b[32m    394\u001b[39m \u001b[33;03m    \"\"\"\u001b[39;00m\n\u001b[32m--> \u001b[39m\u001b[32m395\u001b[39m     result = \u001b[43mfunc\u001b[49m\u001b[43m(\u001b[49m\u001b[38;5;28;43mself\u001b[39;49m\u001b[43m.\u001b[49m\u001b[43mvalues\u001b[49m\u001b[43m,\u001b[49m\u001b[43m \u001b[49m\u001b[43m*\u001b[49m\u001b[43m*\u001b[49m\u001b[43mkwargs\u001b[49m\u001b[43m)\u001b[49m\n\u001b[32m    397\u001b[39m     result = maybe_coerce_values(result)\n\u001b[32m    398\u001b[39m     \u001b[38;5;28;01mreturn\u001b[39;00m \u001b[38;5;28mself\u001b[39m._split_op_result(result)\n",
      "\u001b[36mFile \u001b[39m\u001b[32mc:\\Users\\usuario\\Desktop\\bcia\\nlp-team2\\.venv\\Lib\\site-packages\\pandas\\core\\groupby\\groupby.py:1995\u001b[39m, in \u001b[36mGroupBy._cython_agg_general.<locals>.array_func\u001b[39m\u001b[34m(values)\u001b[39m\n\u001b[32m   1992\u001b[39m     \u001b[38;5;28;01mreturn\u001b[39;00m result\n\u001b[32m   1994\u001b[39m \u001b[38;5;28;01massert\u001b[39;00m alt \u001b[38;5;129;01mis\u001b[39;00m \u001b[38;5;129;01mnot\u001b[39;00m \u001b[38;5;28;01mNone\u001b[39;00m\n\u001b[32m-> \u001b[39m\u001b[32m1995\u001b[39m result = \u001b[38;5;28;43mself\u001b[39;49m\u001b[43m.\u001b[49m\u001b[43m_agg_py_fallback\u001b[49m\u001b[43m(\u001b[49m\u001b[43mhow\u001b[49m\u001b[43m,\u001b[49m\u001b[43m \u001b[49m\u001b[43mvalues\u001b[49m\u001b[43m,\u001b[49m\u001b[43m \u001b[49m\u001b[43mndim\u001b[49m\u001b[43m=\u001b[49m\u001b[43mdata\u001b[49m\u001b[43m.\u001b[49m\u001b[43mndim\u001b[49m\u001b[43m,\u001b[49m\u001b[43m \u001b[49m\u001b[43malt\u001b[49m\u001b[43m=\u001b[49m\u001b[43malt\u001b[49m\u001b[43m)\u001b[49m\n\u001b[32m   1996\u001b[39m \u001b[38;5;28;01mreturn\u001b[39;00m result\n",
      "\u001b[36mFile \u001b[39m\u001b[32mc:\\Users\\usuario\\Desktop\\bcia\\nlp-team2\\.venv\\Lib\\site-packages\\pandas\\core\\groupby\\groupby.py:1946\u001b[39m, in \u001b[36mGroupBy._agg_py_fallback\u001b[39m\u001b[34m(self, how, values, ndim, alt)\u001b[39m\n\u001b[32m   1944\u001b[39m     msg = \u001b[33mf\u001b[39m\u001b[33m\"\u001b[39m\u001b[33magg function failed [how->\u001b[39m\u001b[38;5;132;01m{\u001b[39;00mhow\u001b[38;5;132;01m}\u001b[39;00m\u001b[33m,dtype->\u001b[39m\u001b[38;5;132;01m{\u001b[39;00mser.dtype\u001b[38;5;132;01m}\u001b[39;00m\u001b[33m]\u001b[39m\u001b[33m\"\u001b[39m\n\u001b[32m   1945\u001b[39m     \u001b[38;5;66;03m# preserve the kind of exception that raised\u001b[39;00m\n\u001b[32m-> \u001b[39m\u001b[32m1946\u001b[39m     \u001b[38;5;28;01mraise\u001b[39;00m \u001b[38;5;28mtype\u001b[39m(err)(msg) \u001b[38;5;28;01mfrom\u001b[39;00m\u001b[38;5;250m \u001b[39m\u001b[34;01merr\u001b[39;00m\n\u001b[32m   1948\u001b[39m \u001b[38;5;28;01mif\u001b[39;00m ser.dtype == \u001b[38;5;28mobject\u001b[39m:\n\u001b[32m   1949\u001b[39m     res_values = res_values.astype(\u001b[38;5;28mobject\u001b[39m, copy=\u001b[38;5;28;01mFalse\u001b[39;00m)\n",
      "\u001b[31mTypeError\u001b[39m: agg function failed [how->mean,dtype->object]"
     ]
    }
   ],
   "source": [
    "# NUEVA CELDA: Gráficos comparativos avanzados\n",
    "import plotly.express as px\n",
    "import plotly.graph_objects as go\n",
    "from plotly.subplots import make_subplots\n",
    "\n",
    "# Gráfico de dispersión: F1 vs Jaccard vs Hamming\n",
    "fig = px.scatter_3d(\n",
    "    results_df, \n",
    "    x='f1_macro', \n",
    "    y='jaccard_score', \n",
    "    z='hamming_loss',\n",
    "    color='model_type',\n",
    "    size='duration',\n",
    "    hover_data=['epochs', 'batch_size', 'learning_rate'],\n",
    "    title='Comparación 3D: F1 Macro vs Jaccard vs Hamming Loss'\n",
    ")\n",
    "fig.show()\n",
    "\n",
    "# Gráfico de barras por modelo\n",
    "fig = make_subplots(\n",
    "    rows=2, cols=2,\n",
    "    subplot_titles=['F1 Macro', 'Jaccard Score', 'Hamming Loss', 'Tiempo de Entrenamiento']\n",
    ")\n",
    "\n",
    "model_avg = results_df.groupby('model_type').mean()\n",
    "\n",
    "# F1 Macro\n",
    "fig.add_trace(\n",
    "    go.Bar(x=model_avg.index, y=model_avg['f1_macro'], name='F1 Macro'),\n",
    "    row=1, col=1\n",
    ")\n",
    "\n",
    "# Jaccard Score  \n",
    "fig.add_trace(\n",
    "    go.Bar(x=model_avg.index, y=model_avg['jaccard_score'], name='Jaccard'),\n",
    "    row=1, col=2\n",
    ")\n",
    "\n",
    "# Hamming Loss\n",
    "fig.add_trace(\n",
    "    go.Bar(x=model_avg.index, y=model_avg['hamming_loss'], name='Hamming Loss'),\n",
    "    row=2, col=1\n",
    ")\n",
    "\n",
    "# Duración\n",
    "fig.add_trace(\n",
    "    go.Bar(x=model_avg.index, y=model_avg['duration'], name='Duration (s)'),\n",
    "    row=2, col=2\n",
    ")\n",
    "\n",
    "fig.update_layout(height=600, showlegend=False, title_text=\"Comparación por Tipo de Modelo\")\n",
    "fig.show()"
   ]
  },
  {
   "cell_type": "code",
   "execution_count": 16,
   "id": "209a6fdf",
   "metadata": {},
   "outputs": [
    {
     "name": "stdout",
     "output_type": "stream",
     "text": [
      "🚀 ANÁLISIS DEL BREAKTHROUGH\n",
      "==================================================\n",
      "                         f1  jaccard  hamming\n",
      "DistilBERT Baseline  0.2383   0.2071   0.0794\n",
      "DistilBERT #2 🏆      0.5792   0.5391   0.0461\n",
      "BERT Base            0.5588   0.5284   0.0464\n",
      "RoBERTa              0.5390   0.5103   0.0481\n"
     ]
    },
    {
     "ename": "ValueError",
     "evalue": "'facecolor' or 'color' argument must be a valid color orsequence of colors.",
     "output_type": "error",
     "traceback": [
      "\u001b[31m---------------------------------------------------------------------------\u001b[39m",
      "\u001b[31mValueError\u001b[39m                                Traceback (most recent call last)",
      "\u001b[36mFile \u001b[39m\u001b[32mc:\\Users\\usuario\\Desktop\\bcia\\nlp-team2\\.venv\\Lib\\site-packages\\matplotlib\\axes\\_axes.py:2365\u001b[39m, in \u001b[36mAxes._parse_bar_color_args\u001b[39m\u001b[34m(self, kwargs)\u001b[39m\n\u001b[32m   2364\u001b[39m \u001b[38;5;28;01mtry\u001b[39;00m:\n\u001b[32m-> \u001b[39m\u001b[32m2365\u001b[39m     facecolor = \u001b[43mmcolors\u001b[49m\u001b[43m.\u001b[49m\u001b[43mto_rgba_array\u001b[49m\u001b[43m(\u001b[49m\u001b[43mfacecolor\u001b[49m\u001b[43m)\u001b[49m\n\u001b[32m   2366\u001b[39m \u001b[38;5;28;01mexcept\u001b[39;00m \u001b[38;5;167;01mValueError\u001b[39;00m \u001b[38;5;28;01mas\u001b[39;00m err:\n",
      "\u001b[36mFile \u001b[39m\u001b[32mc:\\Users\\usuario\\Desktop\\bcia\\nlp-team2\\.venv\\Lib\\site-packages\\matplotlib\\colors.py:513\u001b[39m, in \u001b[36mto_rgba_array\u001b[39m\u001b[34m(c, alpha)\u001b[39m\n\u001b[32m    512\u001b[39m     \u001b[38;5;28;01melse\u001b[39;00m:\n\u001b[32m--> \u001b[39m\u001b[32m513\u001b[39m         rgba = np.array([\u001b[43mto_rgba\u001b[49m\u001b[43m(\u001b[49m\u001b[43mcc\u001b[49m\u001b[43m)\u001b[49m \u001b[38;5;28;01mfor\u001b[39;00m cc \u001b[38;5;129;01min\u001b[39;00m c])\n\u001b[32m    514\u001b[39m \u001b[38;5;28;01melse\u001b[39;00m:\n",
      "\u001b[36mFile \u001b[39m\u001b[32mc:\\Users\\usuario\\Desktop\\bcia\\nlp-team2\\.venv\\Lib\\site-packages\\matplotlib\\colors.py:317\u001b[39m, in \u001b[36mto_rgba\u001b[39m\u001b[34m(c, alpha)\u001b[39m\n\u001b[32m    316\u001b[39m \u001b[38;5;28;01mif\u001b[39;00m rgba \u001b[38;5;129;01mis\u001b[39;00m \u001b[38;5;28;01mNone\u001b[39;00m:  \u001b[38;5;66;03m# Suppress exception chaining of cache lookup failure.\u001b[39;00m\n\u001b[32m--> \u001b[39m\u001b[32m317\u001b[39m     rgba = \u001b[43m_to_rgba_no_colorcycle\u001b[49m\u001b[43m(\u001b[49m\u001b[43mc\u001b[49m\u001b[43m,\u001b[49m\u001b[43m \u001b[49m\u001b[43malpha\u001b[49m\u001b[43m)\u001b[49m\n\u001b[32m    318\u001b[39m     \u001b[38;5;28;01mtry\u001b[39;00m:\n",
      "\u001b[36mFile \u001b[39m\u001b[32mc:\\Users\\usuario\\Desktop\\bcia\\nlp-team2\\.venv\\Lib\\site-packages\\matplotlib\\colors.py:394\u001b[39m, in \u001b[36m_to_rgba_no_colorcycle\u001b[39m\u001b[34m(c, alpha)\u001b[39m\n\u001b[32m    393\u001b[39m         \u001b[38;5;28;01mreturn\u001b[39;00m c, c, c, alpha \u001b[38;5;28;01mif\u001b[39;00m alpha \u001b[38;5;129;01mis\u001b[39;00m \u001b[38;5;129;01mnot\u001b[39;00m \u001b[38;5;28;01mNone\u001b[39;00m \u001b[38;5;28;01melse\u001b[39;00m \u001b[32m1.\u001b[39m\n\u001b[32m--> \u001b[39m\u001b[32m394\u001b[39m     \u001b[38;5;28;01mraise\u001b[39;00m \u001b[38;5;167;01mValueError\u001b[39;00m(\u001b[33mf\u001b[39m\u001b[33m\"\u001b[39m\u001b[33mInvalid RGBA argument: \u001b[39m\u001b[38;5;132;01m{\u001b[39;00morig_c\u001b[38;5;132;01m!r}\u001b[39;00m\u001b[33m\"\u001b[39m)\n\u001b[32m    395\u001b[39m \u001b[38;5;66;03m# turn 2-D array into 1-D array\u001b[39;00m\n",
      "\u001b[31mValueError\u001b[39m: Invalid RGBA argument: 'bronze'",
      "\nThe above exception was the direct cause of the following exception:\n",
      "\u001b[31mValueError\u001b[39m                                Traceback (most recent call last)",
      "\u001b[36mCell\u001b[39m\u001b[36m \u001b[39m\u001b[32mIn[16]\u001b[39m\u001b[32m, line 23\u001b[39m\n\u001b[32m     20\u001b[39m fig, axes = plt.subplots(\u001b[32m1\u001b[39m, \u001b[32m3\u001b[39m, figsize=(\u001b[32m15\u001b[39m, \u001b[32m5\u001b[39m))\n\u001b[32m     22\u001b[39m \u001b[38;5;66;03m# F1 Macro\u001b[39;00m\n\u001b[32m---> \u001b[39m\u001b[32m23\u001b[39m \u001b[43maxes\u001b[49m\u001b[43m[\u001b[49m\u001b[32;43m0\u001b[39;49m\u001b[43m]\u001b[49m\u001b[43m.\u001b[49m\u001b[43mbar\u001b[49m\u001b[43m(\u001b[49m\u001b[43mdf_results\u001b[49m\u001b[43m.\u001b[49m\u001b[43mindex\u001b[49m\u001b[43m,\u001b[49m\u001b[43m \u001b[49m\u001b[43mdf_results\u001b[49m\u001b[43m[\u001b[49m\u001b[33;43m'\u001b[39;49m\u001b[33;43mf1\u001b[39;49m\u001b[33;43m'\u001b[39;49m\u001b[43m]\u001b[49m\u001b[43m,\u001b[49m\u001b[43m \u001b[49m\u001b[43mcolor\u001b[49m\u001b[43m=\u001b[49m\u001b[43m[\u001b[49m\u001b[33;43m'\u001b[39;49m\u001b[33;43mred\u001b[39;49m\u001b[33;43m'\u001b[39;49m\u001b[43m,\u001b[49m\u001b[43m \u001b[49m\u001b[33;43m'\u001b[39;49m\u001b[33;43mgold\u001b[39;49m\u001b[33;43m'\u001b[39;49m\u001b[43m,\u001b[49m\u001b[43m \u001b[49m\u001b[33;43m'\u001b[39;49m\u001b[33;43msilver\u001b[39;49m\u001b[33;43m'\u001b[39;49m\u001b[43m,\u001b[49m\u001b[43m \u001b[49m\u001b[33;43m'\u001b[39;49m\u001b[33;43mbronze\u001b[39;49m\u001b[33;43m'\u001b[39;49m\u001b[43m]\u001b[49m\u001b[43m)\u001b[49m\n\u001b[32m     24\u001b[39m axes[\u001b[32m0\u001b[39m].set_title(\u001b[33m'\u001b[39m\u001b[33mF1 Macro Score\u001b[39m\u001b[33m'\u001b[39m)\n\u001b[32m     25\u001b[39m axes[\u001b[32m0\u001b[39m].set_ylabel(\u001b[33m'\u001b[39m\u001b[33mScore\u001b[39m\u001b[33m'\u001b[39m)\n",
      "\u001b[36mFile \u001b[39m\u001b[32mc:\\Users\\usuario\\Desktop\\bcia\\nlp-team2\\.venv\\Lib\\site-packages\\matplotlib\\__init__.py:1521\u001b[39m, in \u001b[36m_preprocess_data.<locals>.inner\u001b[39m\u001b[34m(ax, data, *args, **kwargs)\u001b[39m\n\u001b[32m   1518\u001b[39m \u001b[38;5;129m@functools\u001b[39m.wraps(func)\n\u001b[32m   1519\u001b[39m \u001b[38;5;28;01mdef\u001b[39;00m\u001b[38;5;250m \u001b[39m\u001b[34minner\u001b[39m(ax, *args, data=\u001b[38;5;28;01mNone\u001b[39;00m, **kwargs):\n\u001b[32m   1520\u001b[39m     \u001b[38;5;28;01mif\u001b[39;00m data \u001b[38;5;129;01mis\u001b[39;00m \u001b[38;5;28;01mNone\u001b[39;00m:\n\u001b[32m-> \u001b[39m\u001b[32m1521\u001b[39m         \u001b[38;5;28;01mreturn\u001b[39;00m \u001b[43mfunc\u001b[49m\u001b[43m(\u001b[49m\n\u001b[32m   1522\u001b[39m \u001b[43m            \u001b[49m\u001b[43max\u001b[49m\u001b[43m,\u001b[49m\n\u001b[32m   1523\u001b[39m \u001b[43m            \u001b[49m\u001b[43m*\u001b[49m\u001b[38;5;28;43mmap\u001b[39;49m\u001b[43m(\u001b[49m\u001b[43mcbook\u001b[49m\u001b[43m.\u001b[49m\u001b[43msanitize_sequence\u001b[49m\u001b[43m,\u001b[49m\u001b[43m \u001b[49m\u001b[43margs\u001b[49m\u001b[43m)\u001b[49m\u001b[43m,\u001b[49m\n\u001b[32m   1524\u001b[39m \u001b[43m            \u001b[49m\u001b[43m*\u001b[49m\u001b[43m*\u001b[49m\u001b[43m{\u001b[49m\u001b[43mk\u001b[49m\u001b[43m:\u001b[49m\u001b[43m \u001b[49m\u001b[43mcbook\u001b[49m\u001b[43m.\u001b[49m\u001b[43msanitize_sequence\u001b[49m\u001b[43m(\u001b[49m\u001b[43mv\u001b[49m\u001b[43m)\u001b[49m\u001b[43m \u001b[49m\u001b[38;5;28;43;01mfor\u001b[39;49;00m\u001b[43m \u001b[49m\u001b[43mk\u001b[49m\u001b[43m,\u001b[49m\u001b[43m \u001b[49m\u001b[43mv\u001b[49m\u001b[43m \u001b[49m\u001b[38;5;129;43;01min\u001b[39;49;00m\u001b[43m \u001b[49m\u001b[43mkwargs\u001b[49m\u001b[43m.\u001b[49m\u001b[43mitems\u001b[49m\u001b[43m(\u001b[49m\u001b[43m)\u001b[49m\u001b[43m}\u001b[49m\u001b[43m)\u001b[49m\n\u001b[32m   1526\u001b[39m     bound = new_sig.bind(ax, *args, **kwargs)\n\u001b[32m   1527\u001b[39m     auto_label = (bound.arguments.get(label_namer)\n\u001b[32m   1528\u001b[39m                   \u001b[38;5;129;01mor\u001b[39;00m bound.kwargs.get(label_namer))\n",
      "\u001b[36mFile \u001b[39m\u001b[32mc:\\Users\\usuario\\Desktop\\bcia\\nlp-team2\\.venv\\Lib\\site-packages\\matplotlib\\axes\\_axes.py:2510\u001b[39m, in \u001b[36mAxes.bar\u001b[39m\u001b[34m(self, x, height, width, bottom, align, **kwargs)\u001b[39m\n\u001b[32m   2378\u001b[39m \u001b[38;5;250m\u001b[39m\u001b[33mr\u001b[39m\u001b[33;03m\"\"\"\u001b[39;00m\n\u001b[32m   2379\u001b[39m \u001b[33;03mMake a bar plot.\u001b[39;00m\n\u001b[32m   2380\u001b[39m \n\u001b[32m   (...)\u001b[39m\u001b[32m   2507\u001b[39m \u001b[33;03mbar. See :doc:`/gallery/lines_bars_and_markers/bar_stacked`.\u001b[39;00m\n\u001b[32m   2508\u001b[39m \u001b[33;03m\"\"\"\u001b[39;00m\n\u001b[32m   2509\u001b[39m kwargs = cbook.normalize_kwargs(kwargs, mpatches.Patch)\n\u001b[32m-> \u001b[39m\u001b[32m2510\u001b[39m facecolor, edgecolor = \u001b[38;5;28;43mself\u001b[39;49m\u001b[43m.\u001b[49m\u001b[43m_parse_bar_color_args\u001b[49m\u001b[43m(\u001b[49m\u001b[43mkwargs\u001b[49m\u001b[43m)\u001b[49m\n\u001b[32m   2512\u001b[39m linewidth = kwargs.pop(\u001b[33m'\u001b[39m\u001b[33mlinewidth\u001b[39m\u001b[33m'\u001b[39m, \u001b[38;5;28;01mNone\u001b[39;00m)\n\u001b[32m   2513\u001b[39m hatch = kwargs.pop(\u001b[33m'\u001b[39m\u001b[33mhatch\u001b[39m\u001b[33m'\u001b[39m, \u001b[38;5;28;01mNone\u001b[39;00m)\n",
      "\u001b[36mFile \u001b[39m\u001b[32mc:\\Users\\usuario\\Desktop\\bcia\\nlp-team2\\.venv\\Lib\\site-packages\\matplotlib\\axes\\_axes.py:2367\u001b[39m, in \u001b[36mAxes._parse_bar_color_args\u001b[39m\u001b[34m(self, kwargs)\u001b[39m\n\u001b[32m   2365\u001b[39m     facecolor = mcolors.to_rgba_array(facecolor)\n\u001b[32m   2366\u001b[39m \u001b[38;5;28;01mexcept\u001b[39;00m \u001b[38;5;167;01mValueError\u001b[39;00m \u001b[38;5;28;01mas\u001b[39;00m err:\n\u001b[32m-> \u001b[39m\u001b[32m2367\u001b[39m     \u001b[38;5;28;01mraise\u001b[39;00m \u001b[38;5;167;01mValueError\u001b[39;00m(\n\u001b[32m   2368\u001b[39m         \u001b[33m\"\u001b[39m\u001b[33m'\u001b[39m\u001b[33mfacecolor\u001b[39m\u001b[33m'\u001b[39m\u001b[33m or \u001b[39m\u001b[33m'\u001b[39m\u001b[33mcolor\u001b[39m\u001b[33m'\u001b[39m\u001b[33m argument must be a valid color or\u001b[39m\u001b[33m\"\u001b[39m\n\u001b[32m   2369\u001b[39m             \u001b[33m\"\u001b[39m\u001b[33msequence of colors.\u001b[39m\u001b[33m\"\u001b[39m\n\u001b[32m   2370\u001b[39m     ) \u001b[38;5;28;01mfrom\u001b[39;00m\u001b[38;5;250m \u001b[39m\u001b[34;01merr\u001b[39;00m\n\u001b[32m   2372\u001b[39m \u001b[38;5;28;01mreturn\u001b[39;00m facecolor, edgecolor\n",
      "\u001b[31mValueError\u001b[39m: 'facecolor' or 'color' argument must be a valid color orsequence of colors."
     ]
    },
    {
     "data": {
      "image/png": "[encoded data removed]",
      "text/plain": [
       "<Figure size 1500x500 with 3 Axes>"
      ]
     },
     "metadata": {},
     "output_type": "display_data"
    }
   ],
   "source": [
    "# NUEVA CELDA: Análisis del salto de rendimiento\n",
    "print(\"🚀 ANÁLISIS DEL BREAKTHROUGH\")\n",
    "print(\"=\"*50)\n",
    "\n",
    "# Datos de resultados\n",
    "results = {\n",
    "    'DistilBERT Baseline': {'f1': 0.2383, 'jaccard': 0.2071, 'hamming': 0.0794},\n",
    "    'DistilBERT #2 🏆': {'f1': 0.5792, 'jaccard': 0.5391, 'hamming': 0.0461},\n",
    "    'BERT Base': {'f1': 0.5588, 'jaccard': 0.5284, 'hamming': 0.0464},\n",
    "    'RoBERTa': {'f1': 0.5390, 'jaccard': 0.5103, 'hamming': 0.0481}\n",
    "}\n",
    "\n",
    "import pandas as pd\n",
    "import matplotlib.pyplot as plt\n",
    "\n",
    "df_results = pd.DataFrame(results).T\n",
    "print(df_results)\n",
    "\n",
    "# Gráfico de barras comparativo\n",
    "fig, axes = plt.subplots(1, 3, figsize=(15, 5))\n",
    "\n",
    "# F1 Macro\n",
    "axes[0].bar(df_results.index, df_results['f1'], color=['red', 'gold', 'silver', 'bronze'])\n",
    "axes[0].set_title('F1 Macro Score')\n",
    "axes[0].set_ylabel('Score')\n",
    "axes[0].tick_params(axis='x', rotation=45)\n",
    "\n",
    "# Jaccard Score\n",
    "axes[1].bar(df_results.index, df_results['jaccard'], color=['red', 'gold', 'silver', 'bronze'])\n",
    "axes[1].set_title('Jaccard Score')\n",
    "axes[1].set_ylabel('Score')\n",
    "axes[1].tick_params(axis='x', rotation=45)\n",
    "\n",
    "# Hamming Loss (invertido - menor es mejor)\n",
    "axes[2].bar(df_results.index, df_results['hamming'], color=['red', 'gold', 'silver', 'bronze'])\n",
    "axes[2].set_title('Hamming Loss (menor mejor)')\n",
    "axes[2].set_ylabel('Loss')\n",
    "axes[2].tick_params(axis='x', rotation=45)\n",
    "\n",
    "plt.tight_layout()\n",
    "plt.show()\n",
    "\n",
    "# Calcular mejoras\n",
    "baseline_f1 = 0.2383\n",
    "best_f1 = 0.5792\n",
    "improvement = ((best_f1 - baseline_f1) / baseline_f1) * 100\n",
    "\n",
    "print(f\"\\n📈 MEJORA ESPECTACULAR:\")\n",
    "print(f\"   F1 Macro: {baseline_f1:.4f} → {best_f1:.4f} (+{improvement:.1f}%)\")\n",
    "print(f\"   Jaccard: 0.2071 → 0.5391 (+160.2%)\")\n",
    "print(f\"   Hamming: 0.0794 → 0.0461 (-41.9%)\")"
   ]
  }
 ],
 "metadata": {
  "kernelspec": {
   "display_name": ".venv",
   "language": "python",
   "name": "python3"
  },
  "language_info": {
   "codemirror_mode": {
    "name": "ipython",
    "version": 3
   },
   "file_extension": ".py",
   "mimetype": "text/x-python",
   "name": "python",
   "nbconvert_exporter": "python",
   "pygments_lexer": "ipython3",
   "version": "3.13.3"
  }
 },
 "nbformat": 4,
 "nbformat_minor": 5
}
