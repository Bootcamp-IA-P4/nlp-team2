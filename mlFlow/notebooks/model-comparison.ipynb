{
 "cells": [
  {
   "cell_type": "markdown",
   "id": "0be05448",
   "metadata": {},
   "source": [
    "# 🔬 Comparación y Análisis de Modelos MLflow\n",
    "\n",
    "## 📋 Objetivos\n",
    "Este notebook se encarga de:\n",
    "1. **Cargar experimentos** de MLflow\n",
    "2. **Comparar métricas** entre diferentes modelos\n",
    "3. **Visualizar resultados** y tendencias\n",
    "4. **Identificar el mejor modelo** para cada tarea\n",
    "5. **Generar reportes** de rendimiento\n",
    "\n",
    "## 🎯 Tipos de Modelos a Comparar\n",
    "- **Modelos Tradicionales**: Logistic Regression, Random Forest, SVM\n",
    "- **Modelos Transformer**: BERT, DistilBERT, RoBERTa\n",
    "- **Tareas**: Clasificación binaria (IsToxic) y multi-label"
   ]
  },
  {
   "cell_type": "code",
   "execution_count": 9,
   "id": "75f6cb8b",
   "metadata": {},
   "outputs": [
    {
     "name": "stdout",
     "output_type": "stream",
     "text": [
      "🔧 CONFIGURACIÓN COMPLETADA\n",
      "📦 Librerías importadas exitosamente\n"
     ]
    }
   ],
   "source": [
    "import mlflow\n",
    "import mlflow.sklearn\n",
    "import mlflow.transformers\n",
    "import pandas as pd\n",
    "import numpy as np\n",
    "import matplotlib.pyplot as plt\n",
    "import seaborn as sns\n",
    "import plotly.express as px\n",
    "import plotly.graph_objects as go\n",
    "from plotly.subplots import make_subplots\n",
    "import warnings\n",
    "warnings.filterwarnings('ignore')\n",
    "\n",
    "# Configuración de visualización\n",
    "plt.style.use('seaborn-v0_8')\n",
    "sns.set_palette(\"husl\")\n",
    "pd.set_option('display.max_columns', None)\n",
    "pd.set_option('display.width', 1000)\n",
    "\n",
    "print(\"🔧 CONFIGURACIÓN COMPLETADA\")\n",
    "print(\"📦 Librerías importadas exitosamente\")"
   ]
  },
  {
   "cell_type": "code",
   "execution_count": 10,
   "id": "47f49909",
   "metadata": {},
   "outputs": [
    {
     "name": "stdout",
     "output_type": "stream",
     "text": [
      "🔍 EXPERIMENTOS DISPONIBLES:\n",
      "==================================================\n",
      "📊 toxicity-transformer-experiments (ID: 670516226287750429)\n",
      "   📁 file:///C:/Users/usuario/Desktop/bcia/nlp-team2/mlFlow/mlruns/670516226287750429\n",
      "   🕒 Creado: 1751455055081\n",
      "\n",
      "📊 transformer-simple-test (ID: 724363935838328285)\n",
      "   📁 file:///C:/Users/usuario/Desktop/bcia/nlp-team2/mlFlow/mlruns/724363935838328285\n",
      "   🕒 Creado: 1751453994040\n",
      "\n",
      "📊 toxicity-detection-experiments (ID: 831893209499011167)\n",
      "   📁 file:///C:/Users/usuario/Desktop/bcia/nlp-team2/mlFlow/mlruns/831893209499011167\n",
      "   🕒 Creado: 1751452661336\n",
      "\n",
      "📊 Default (ID: 0)\n",
      "   📁 file:c:/Users/usuario/Desktop/bcia/nlp-team2/mlFlow/notebooks/../mlruns/0\n",
      "   🕒 Creado: 1751450988948\n",
      "\n",
      "🎯 Funciones de carga definidas\n"
     ]
    }
   ],
   "source": [
    "# Configurar MLflow\n",
    "mlflow.set_tracking_uri(\"file:../mlruns\")\n",
    "\n",
    "# Obtener todos los experimentos\n",
    "experiments = mlflow.search_experiments()\n",
    "print(\"🔍 EXPERIMENTOS DISPONIBLES:\")\n",
    "print(\"=\"*50)\n",
    "for exp in experiments:\n",
    "    print(f\"📊 {exp.name} (ID: {exp.experiment_id})\")\n",
    "    print(f\"   📁 {exp.artifact_location}\")\n",
    "    print(f\"   🕒 Creado: {exp.creation_time}\")\n",
    "    print()\n",
    "    \n",
    "# Función para cargar runs de un experimento\n",
    "def load_experiment_runs(experiment_name):\n",
    "    \"\"\"Carga todos los runs de un experimento específico\"\"\"\n",
    "    try:\n",
    "        experiment = mlflow.get_experiment_by_name(experiment_name)\n",
    "        if experiment is None:\n",
    "            print(f\"❌ Experimento '{experiment_name}' no encontrado\")\n",
    "            return pd.DataFrame()\n",
    "        \n",
    "        runs = mlflow.search_runs(experiment_ids=[experiment.experiment_id])\n",
    "        print(f\"✅ Cargados {len(runs)} runs del experimento '{experiment_name}'\")\n",
    "        return runs\n",
    "    except Exception as e:\n",
    "        print(f\"❌ Error cargando experimento '{experiment_name}': {e}\")\n",
    "        return pd.DataFrame()\n",
    "\n",
    "print(\"🎯 Funciones de carga definidas\")"
   ]
  },
  {
   "cell_type": "markdown",
   "id": "7144222c",
   "metadata": {},
   "source": [
    "## 📊 Análisis de Experimentos por Tipo"
   ]
  },
  {
   "cell_type": "code",
   "execution_count": 11,
   "id": "23875b69",
   "metadata": {},
   "outputs": [
    {
     "name": "stdout",
     "output_type": "stream",
     "text": [
      "🤖 CARGANDO EXPERIMENTOS DE MODELOS TRADICIONALES\n",
      "=======================================================\n",
      "❌ Experimento 'Toxicity_Classification_Binary' no encontrado\n",
      "❌ Experimento 'Toxicity_Classification_MultiLabel' no encontrado\n",
      "❌ Experimento 'Traditional_Models' no encontrado\n",
      "❌ Experimento 'Transformer_Models' no encontrado\n",
      "✅ Cargados 0 runs del experimento 'Default'\n",
      "❌ No se encontraron experimentos. Ejecuta primero los scripts de entrenamiento.\n"
     ]
    }
   ],
   "source": [
    "# Cargar experimentos de modelos tradicionales\n",
    "print(\"🤖 CARGANDO EXPERIMENTOS DE MODELOS TRADICIONALES\")\n",
    "print(\"=\"*55)\n",
    "\n",
    "# Intentar cargar diferentes experimentos\n",
    "experiment_names = [\n",
    "    \"Toxicity_Classification_Binary\",\n",
    "    \"Toxicity_Classification_MultiLabel\", \n",
    "    \"Traditional_Models\",\n",
    "    \"Transformer_Models\",\n",
    "    \"Default\"  # Por si hay runs en el experimento default\n",
    "]\n",
    "\n",
    "all_runs = []\n",
    "for exp_name in experiment_names:\n",
    "    runs_df = load_experiment_runs(exp_name)\n",
    "    if not runs_df.empty:\n",
    "        runs_df['experiment_name'] = exp_name\n",
    "        all_runs.append(runs_df)\n",
    "\n",
    "# Combinar todos los runs\n",
    "if all_runs:\n",
    "    combined_runs = pd.concat(all_runs, ignore_index=True)\n",
    "    print(f\"\\n📈 TOTAL DE RUNS ENCONTRADOS: {len(combined_runs)}\")\n",
    "    \n",
    "    # Mostrar resumen de métricas disponibles\n",
    "    metric_columns = [col for col in combined_runs.columns if col.startswith('metrics.')]\n",
    "    param_columns = [col for col in combined_runs.columns if col.startswith('params.')]\n",
    "    \n",
    "    print(f\"\\n📊 MÉTRICAS DISPONIBLES ({len(metric_columns)}):\")\n",
    "    for metric in metric_columns:\n",
    "        print(f\"   📋 {metric}\")\n",
    "    \n",
    "    print(f\"\\n⚙️ PARÁMETROS DISPONIBLES ({len(param_columns)}):\")\n",
    "    for param in param_columns:\n",
    "        print(f\"   🔧 {param}\")\n",
    "        \n",
    "else:\n",
    "    print(\"❌ No se encontraron experimentos. Ejecuta primero los scripts de entrenamiento.\")\n",
    "    combined_runs = pd.DataFrame()"
   ]
  },
  {
   "cell_type": "code",
   "execution_count": 12,
   "id": "9791dabb",
   "metadata": {},
   "outputs": [
    {
     "name": "stdout",
     "output_type": "stream",
     "text": [
      "📝 CREAR EXPERIMENTOS DUMMY PARA DEMOSTRACIÓN\n",
      "=============================================\n",
      "🎭 Datos de ejemplo creados para demostración:\n",
      "    params.model_name  metrics.accuracy  metrics.f1_score\n",
      "0  LogisticRegression              0.85              0.83\n",
      "1        RandomForest              0.88              0.86\n",
      "2                 SVM              0.82              0.80\n",
      "3          DistilBERT              0.91              0.89\n",
      "4                BERT              0.93              0.92\n"
     ]
    }
   ],
   "source": [
    "# Análisis de métricas si hay datos disponibles\n",
    "if not combined_runs.empty:\n",
    "    print(\"📈 ANÁLISIS DE RENDIMIENTO POR MODELO\")\n",
    "    print(\"=\"*42)\n",
    "    \n",
    "    # Crear dataframe limpio con métricas principales\n",
    "    analysis_df = combined_runs.copy()\n",
    "    \n",
    "    # Identificar columnas de métricas principales\n",
    "    key_metrics = [\n",
    "        'metrics.accuracy', 'metrics.precision', 'metrics.recall', \n",
    "        'metrics.f1_score', 'metrics.roc_auc', 'metrics.f1_macro', \n",
    "        'metrics.f1_micro', 'metrics.f1_weighted'\n",
    "    ]\n",
    "    \n",
    "    available_metrics = [m for m in key_metrics if m in analysis_df.columns]\n",
    "    \n",
    "    if available_metrics:\n",
    "        # Resumen por modelo\n",
    "        if 'params.model_name' in analysis_df.columns:\n",
    "            model_summary = analysis_df.groupby('params.model_name')[available_metrics].agg(['mean', 'std', 'count'])\n",
    "            print(\"📊 RESUMEN POR MODELO:\")\n",
    "            print(model_summary)\n",
    "        \n",
    "        # Mejores modelos por métrica\n",
    "        print(\"\\n🏆 MEJORES MODELOS POR MÉTRICA:\")\n",
    "        for metric in available_metrics:\n",
    "            if analysis_df[metric].notna().sum() > 0:\n",
    "                best_idx = analysis_df[metric].idxmax()\n",
    "                best_model = analysis_df.loc[best_idx, 'params.model_name'] if 'params.model_name' in analysis_df.columns else 'Desconocido'\n",
    "                best_score = analysis_df.loc[best_idx, metric]\n",
    "                print(f\"   🥇 {metric.replace('metrics.', '')}: {best_model} ({best_score:.4f})\")\n",
    "    \n",
    "    else:\n",
    "        print(\"ℹ️ No se encontraron métricas estándar en los experimentos existentes\")\n",
    "        print(\"💡 Asegúrate de ejecutar los scripts de entrenamiento con MLflow tracking\")\n",
    "\n",
    "else:\n",
    "    print(\"📝 CREAR EXPERIMENTOS DUMMY PARA DEMOSTRACIÓN\")\n",
    "    print(\"=\"*45)\n",
    "    \n",
    "    # Crear datos de ejemplo para mostrar la funcionalidad\n",
    "    dummy_data = {\n",
    "        'run_id': ['run_1', 'run_2', 'run_3', 'run_4', 'run_5'],\n",
    "        'params.model_name': ['LogisticRegression', 'RandomForest', 'SVM', 'DistilBERT', 'BERT'],\n",
    "        'metrics.accuracy': [0.85, 0.88, 0.82, 0.91, 0.93],\n",
    "        'metrics.f1_score': [0.83, 0.86, 0.80, 0.89, 0.92],\n",
    "        'metrics.precision': [0.84, 0.87, 0.83, 0.88, 0.91],\n",
    "        'metrics.recall': [0.82, 0.85, 0.77, 0.90, 0.93],\n",
    "        'experiment_name': ['Traditional'] * 3 + ['Transformer'] * 2,\n",
    "        'start_time': pd.to_datetime(['2024-01-01', '2024-01-02', '2024-01-03', '2024-01-04', '2024-01-05'])\n",
    "    }\n",
    "    \n",
    "    dummy_df = pd.DataFrame(dummy_data)\n",
    "    print(\"🎭 Datos de ejemplo creados para demostración:\")\n",
    "    print(dummy_df[['params.model_name', 'metrics.accuracy', 'metrics.f1_score']])"
   ]
  },
  {
   "cell_type": "code",
   "execution_count": 13,
   "id": "706d4718",
   "metadata": {},
   "outputs": [
    {
     "name": "stdout",
     "output_type": "stream",
     "text": [
      "📊 GENERANDO VISUALIZACIONES COMPARATIVAS\n",
      "=============================================\n",
      "🎭 Usando datos de demostración\n"
     ]
    },
    {
     "data": {
      "image/png": "[encoded data removed]",
      "text/plain": [
       "<Figure size 1500x1200 with 4 Axes>"
      ]
     },
     "metadata": {},
     "output_type": "display_data"
    },
    {
     "data": {
      "application/vnd.plotly.v1+json": {
       "config": {
        "plotlyServerURL": "https://plot.ly"
       },
       "data": [
        {
         "fill": "toself",
         "line": {
          "width": 2
         },
         "name": "LogisticRegression",
         "r": [
          0.85,
          0.83,
          0.84,
          0.82
         ],
         "theta": [
          "Accuracy",
          "F1-Score",
          "Precision",
          "Recall"
         ],
         "type": "scatterpolar"
        },
        {
         "fill": "toself",
         "line": {
          "width": 2
         },
         "name": "RandomForest",
         "r": [
          0.88,
          0.86,
          0.87,
          0.85
         ],
         "theta": [
          "Accuracy",
          "F1-Score",
          "Precision",
          "Recall"
         ],
         "type": "scatterpolar"
        },
        {
         "fill": "toself",
         "line": {
          "width": 2
         },
         "name": "SVM",
         "r": [
          0.82,
          0.8,
          0.83,
          0.77
         ],
         "theta": [
          "Accuracy",
          "F1-Score",
          "Precision",
          "Recall"
         ],
         "type": "scatterpolar"
        },
        {
         "fill": "toself",
         "line": {
          "width": 2
         },
         "name": "DistilBERT",
         "r": [
          0.91,
          0.89,
          0.88,
          0.9
         ],
         "theta": [
          "Accuracy",
          "F1-Score",
          "Precision",
          "Recall"
         ],
         "type": "scatterpolar"
        },
        {
         "fill": "toself",
         "line": {
          "width": 2
         },
         "name": "BERT",
         "r": [
          0.93,
          0.92,
          0.91,
          0.93
         ],
         "theta": [
          "Accuracy",
          "F1-Score",
          "Precision",
          "Recall"
         ],
         "type": "scatterpolar"
        }
       ],
       "layout": {
        "height": 500,
        "polar": {
         "radialaxis": {
          "range": [
           0,
           1
          ],
          "visible": true
         }
        },
        "showlegend": true,
        "template": {
         "data": {
          "bar": [
           {
            "error_x": {
             "color": "#2a3f5f"
            },
            "error_y": {
             "color": "#2a3f5f"
            },
            "marker": {
             "line": {
              "color": "#E5ECF6",
              "width": 0.5
             },
             "pattern": {
              "fillmode": "overlay",
              "size": 10,
              "solidity": 0.2
             }
            },
            "type": "bar"
           }
          ],
          "barpolar": [
           {
            "marker": {
             "line": {
              "color": "#E5ECF6",
              "width": 0.5
             },
             "pattern": {
              "fillmode": "overlay",
              "size": 10,
              "solidity": 0.2
             }
            },
            "type": "barpolar"
           }
          ],
          "carpet": [
           {
            "aaxis": {
             "endlinecolor": "#2a3f5f",
             "gridcolor": "white",
             "linecolor": "white",
             "minorgridcolor": "white",
             "startlinecolor": "#2a3f5f"
            },
            "baxis": {
             "endlinecolor": "#2a3f5f",
             "gridcolor": "white",
             "linecolor": "white",
             "minorgridcolor": "white",
             "startlinecolor": "#2a3f5f"
            },
            "type": "carpet"
           }
          ],
          "choropleth": [
           {
            "colorbar": {
             "outlinewidth": 0,
             "ticks": ""
            },
            "type": "choropleth"
           }
          ],
          "contour": [
           {
            "colorbar": {
             "outlinewidth": 0,
             "ticks": ""
            },
            "colorscale": [
             [
              0,
              "#0d0887"
             ],
             [
              0.1111111111111111,
              "#46039f"
             ],
             [
              0.2222222222222222,
              "#7201a8"
             ],
             [
              0.3333333333333333,
              "#9c179e"
             ],
             [
              0.4444444444444444,
              "#bd3786"
             ],
             [
              0.5555555555555556,
              "#d8576b"
             ],
             [
              0.6666666666666666,
              "#ed7953"
             ],
             [
              0.7777777777777778,
              "#fb9f3a"
             ],
             [
              0.8888888888888888,
              "#fdca26"
             ],
             [
              1,
              "#f0f921"
             ]
            ],
            "type": "contour"
           }
          ],
          "contourcarpet": [
           {
            "colorbar": {
             "outlinewidth": 0,
             "ticks": ""
            },
            "type": "contourcarpet"
           }
          ],
          "heatmap": [
           {
            "colorbar": {
             "outlinewidth": 0,
             "ticks": ""
            },
            "colorscale": [
             [
              0,
              "#0d0887"
             ],
             [
              0.1111111111111111,
              "#46039f"
             ],
             [
              0.2222222222222222,
              "#7201a8"
             ],
             [
              0.3333333333333333,
              "#9c179e"
             ],
             [
              0.4444444444444444,
              "#bd3786"
             ],
             [
              0.5555555555555556,
              "#d8576b"
             ],
             [
              0.6666666666666666,
              "#ed7953"
             ],
             [
              0.7777777777777778,
              "#fb9f3a"
             ],
             [
              0.8888888888888888,
              "#fdca26"
             ],
             [
              1,
              "#f0f921"
             ]
            ],
            "type": "heatmap"
           }
          ],
          "histogram": [
           {
            "marker": {
             "pattern": {
              "fillmode": "overlay",
              "size": 10,
              "solidity": 0.2
             }
            },
            "type": "histogram"
           }
          ],
          "histogram2d": [
           {
            "colorbar": {
             "outlinewidth": 0,
             "ticks": ""
            },
            "colorscale": [
             [
              0,
              "#0d0887"
             ],
             [
              0.1111111111111111,
              "#46039f"
             ],
             [
              0.2222222222222222,
              "#7201a8"
             ],
             [
              0.3333333333333333,
              "#9c179e"
             ],
             [
              0.4444444444444444,
              "#bd3786"
             ],
             [
              0.5555555555555556,
              "#d8576b"
             ],
             [
              0.6666666666666666,
              "#ed7953"
             ],
             [
              0.7777777777777778,
              "#fb9f3a"
             ],
             [
              0.8888888888888888,
              "#fdca26"
             ],
             [
              1,
              "#f0f921"
             ]
            ],
            "type": "histogram2d"
           }
          ],
          "histogram2dcontour": [
           {
            "colorbar": {
             "outlinewidth": 0,
             "ticks": ""
            },
            "colorscale": [
             [
              0,
              "#0d0887"
             ],
             [
              0.1111111111111111,
              "#46039f"
             ],
             [
              0.2222222222222222,
              "#7201a8"
             ],
             [
              0.3333333333333333,
              "#9c179e"
             ],
             [
              0.4444444444444444,
              "#bd3786"
             ],
             [
              0.5555555555555556,
              "#d8576b"
             ],
             [
              0.6666666666666666,
              "#ed7953"
             ],
             [
              0.7777777777777778,
              "#fb9f3a"
             ],
             [
              0.8888888888888888,
              "#fdca26"
             ],
             [
              1,
              "#f0f921"
             ]
            ],
            "type": "histogram2dcontour"
           }
          ],
          "mesh3d": [
           {
            "colorbar": {
             "outlinewidth": 0,
             "ticks": ""
            },
            "type": "mesh3d"
           }
          ],
          "parcoords": [
           {
            "line": {
             "colorbar": {
              "outlinewidth": 0,
              "ticks": ""
             }
            },
            "type": "parcoords"
           }
          ],
          "pie": [
           {
            "automargin": true,
            "type": "pie"
           }
          ],
          "scatter": [
           {
            "fillpattern": {
             "fillmode": "overlay",
             "size": 10,
             "solidity": 0.2
            },
            "type": "scatter"
           }
          ],
          "scatter3d": [
           {
            "line": {
             "colorbar": {
              "outlinewidth": 0,
              "ticks": ""
             }
            },
            "marker": {
             "colorbar": {
              "outlinewidth": 0,
              "ticks": ""
             }
            },
            "type": "scatter3d"
           }
          ],
          "scattercarpet": [
           {
            "marker": {
             "colorbar": {
              "outlinewidth": 0,
              "ticks": ""
             }
            },
            "type": "scattercarpet"
           }
          ],
          "scattergeo": [
           {
            "marker": {
             "colorbar": {
              "outlinewidth": 0,
              "ticks": ""
             }
            },
            "type": "scattergeo"
           }
          ],
          "scattergl": [
           {
            "marker": {
             "colorbar": {
              "outlinewidth": 0,
              "ticks": ""
             }
            },
            "type": "scattergl"
           }
          ],
          "scattermap": [
           {
            "marker": {
             "colorbar": {
              "outlinewidth": 0,
              "ticks": ""
             }
            },
            "type": "scattermap"
           }
          ],
          "scattermapbox": [
           {
            "marker": {
             "colorbar": {
              "outlinewidth": 0,
              "ticks": ""
             }
            },
            "type": "scattermapbox"
           }
          ],
          "scatterpolar": [
           {
            "marker": {
             "colorbar": {
              "outlinewidth": 0,
              "ticks": ""
             }
            },
            "type": "scatterpolar"
           }
          ],
          "scatterpolargl": [
           {
            "marker": {
             "colorbar": {
              "outlinewidth": 0,
              "ticks": ""
             }
            },
            "type": "scatterpolargl"
           }
          ],
          "scatterternary": [
           {
            "marker": {
             "colorbar": {
              "outlinewidth": 0,
              "ticks": ""
             }
            },
            "type": "scatterternary"
           }
          ],
          "surface": [
           {
            "colorbar": {
             "outlinewidth": 0,
             "ticks": ""
            },
            "colorscale": [
             [
              0,
              "#0d0887"
             ],
             [
              0.1111111111111111,
              "#46039f"
             ],
             [
              0.2222222222222222,
              "#7201a8"
             ],
             [
              0.3333333333333333,
              "#9c179e"
             ],
             [
              0.4444444444444444,
              "#bd3786"
             ],
             [
              0.5555555555555556,
              "#d8576b"
             ],
             [
              0.6666666666666666,
              "#ed7953"
             ],
             [
              0.7777777777777778,
              "#fb9f3a"
             ],
             [
              0.8888888888888888,
              "#fdca26"
             ],
             [
              1,
              "#f0f921"
             ]
            ],
            "type": "surface"
           }
          ],
          "table": [
           {
            "cells": {
             "fill": {
              "color": "#EBF0F8"
             },
             "line": {
              "color": "white"
             }
            },
            "header": {
             "fill": {
              "color": "#C8D4E3"
             },
             "line": {
              "color": "white"
             }
            },
            "type": "table"
           }
          ]
         },
         "layout": {
          "annotationdefaults": {
           "arrowcolor": "#2a3f5f",
           "arrowhead": 0,
           "arrowwidth": 1
          },
          "autotypenumbers": "strict",
          "coloraxis": {
           "colorbar": {
            "outlinewidth": 0,
            "ticks": ""
           }
          },
          "colorscale": {
           "diverging": [
            [
             0,
             "#8e0152"
            ],
            [
             0.1,
             "#c51b7d"
            ],
            [
             0.2,
             "#de77ae"
            ],
            [
             0.3,
             "#f1b6da"
            ],
            [
             0.4,
             "#fde0ef"
            ],
            [
             0.5,
             "#f7f7f7"
            ],
            [
             0.6,
             "#e6f5d0"
            ],
            [
             0.7,
             "#b8e186"
            ],
            [
             0.8,
             "#7fbc41"
            ],
            [
             0.9,
             "#4d9221"
            ],
            [
             1,
             "#276419"
            ]
           ],
           "sequential": [
            [
             0,
             "#0d0887"
            ],
            [
             0.1111111111111111,
             "#46039f"
            ],
            [
             0.2222222222222222,
             "#7201a8"
            ],
            [
             0.3333333333333333,
             "#9c179e"
            ],
            [
             0.4444444444444444,
             "#bd3786"
            ],
            [
             0.5555555555555556,
             "#d8576b"
            ],
            [
             0.6666666666666666,
             "#ed7953"
            ],
            [
             0.7777777777777778,
             "#fb9f3a"
            ],
            [
             0.8888888888888888,
             "#fdca26"
            ],
            [
             1,
             "#f0f921"
            ]
           ],
           "sequentialminus": [
            [
             0,
             "#0d0887"
            ],
            [
             0.1111111111111111,
             "#46039f"
            ],
            [
             0.2222222222222222,
             "#7201a8"
            ],
            [
             0.3333333333333333,
             "#9c179e"
            ],
            [
             0.4444444444444444,
             "#bd3786"
            ],
            [
             0.5555555555555556,
             "#d8576b"
            ],
            [
             0.6666666666666666,
             "#ed7953"
            ],
            [
             0.7777777777777778,
             "#fb9f3a"
            ],
            [
             0.8888888888888888,
             "#fdca26"
            ],
            [
             1,
             "#f0f921"
            ]
           ]
          },
          "colorway": [
           "#636efa",
           "#EF553B",
           "#00cc96",
           "#ab63fa",
           "#FFA15A",
           "#19d3f3",
           "#FF6692",
           "#B6E880",
           "#FF97FF",
           "#FECB52"
          ],
          "font": {
           "color": "#2a3f5f"
          },
          "geo": {
           "bgcolor": "white",
           "lakecolor": "white",
           "landcolor": "#E5ECF6",
           "showlakes": true,
           "showland": true,
           "subunitcolor": "white"
          },
          "hoverlabel": {
           "align": "left"
          },
          "hovermode": "closest",
          "mapbox": {
           "style": "light"
          },
          "paper_bgcolor": "white",
          "plot_bgcolor": "#E5ECF6",
          "polar": {
           "angularaxis": {
            "gridcolor": "white",
            "linecolor": "white",
            "ticks": ""
           },
           "bgcolor": "#E5ECF6",
           "radialaxis": {
            "gridcolor": "white",
            "linecolor": "white",
            "ticks": ""
           }
          },
          "scene": {
           "xaxis": {
            "backgroundcolor": "#E5ECF6",
            "gridcolor": "white",
            "gridwidth": 2,
            "linecolor": "white",
            "showbackground": true,
            "ticks": "",
            "zerolinecolor": "white"
           },
           "yaxis": {
            "backgroundcolor": "#E5ECF6",
            "gridcolor": "white",
            "gridwidth": 2,
            "linecolor": "white",
            "showbackground": true,
            "ticks": "",
            "zerolinecolor": "white"
           },
           "zaxis": {
            "backgroundcolor": "#E5ECF6",
            "gridcolor": "white",
            "gridwidth": 2,
            "linecolor": "white",
            "showbackground": true,
            "ticks": "",
            "zerolinecolor": "white"
           }
          },
          "shapedefaults": {
           "line": {
            "color": "#2a3f5f"
           }
          },
          "ternary": {
           "aaxis": {
            "gridcolor": "white",
            "linecolor": "white",
            "ticks": ""
           },
           "baxis": {
            "gridcolor": "white",
            "linecolor": "white",
            "ticks": ""
           },
           "bgcolor": "#E5ECF6",
           "caxis": {
            "gridcolor": "white",
            "linecolor": "white",
            "ticks": ""
           }
          },
          "title": {
           "x": 0.05
          },
          "xaxis": {
           "automargin": true,
           "gridcolor": "white",
           "linecolor": "white",
           "ticks": "",
           "title": {
            "standoff": 15
           },
           "zerolinecolor": "white",
           "zerolinewidth": 2
          },
          "yaxis": {
           "automargin": true,
           "gridcolor": "white",
           "linecolor": "white",
           "ticks": "",
           "title": {
            "standoff": 15
           },
           "zerolinecolor": "white",
           "zerolinewidth": 2
          }
         }
        },
        "title": {
         "text": "Comparación Multi-Métrica de Modelos (Radar)"
        },
        "width": 700
       }
      }
     },
     "metadata": {},
     "output_type": "display_data"
    }
   ],
   "source": [
    "# Visualizaciones de comparación\n",
    "def create_model_comparison_plots(df):\n",
    "    \"\"\"Crear visualizaciones para comparar modelos\"\"\"\n",
    "    \n",
    "    if df.empty:\n",
    "        print(\"❌ No hay datos para visualizar\")\n",
    "        return\n",
    "    \n",
    "    # Usar datos reales o dummy\n",
    "    data_df = df if not df.empty else dummy_df\n",
    "    \n",
    "    # 1. Gráfico de barras comparativo\n",
    "    fig, axes = plt.subplots(2, 2, figsize=(15, 12))\n",
    "    \n",
    "    metrics_to_plot = ['metrics.accuracy', 'metrics.f1_score', 'metrics.precision', 'metrics.recall']\n",
    "    titles = ['Accuracy', 'F1-Score', 'Precision', 'Recall']\n",
    "    \n",
    "    for i, (metric, title) in enumerate(zip(metrics_to_plot, titles)):\n",
    "        ax = axes[i//2, i%2]\n",
    "        if metric in data_df.columns:\n",
    "            # Crear gráfico de barras\n",
    "            models = data_df['params.model_name']\n",
    "            scores = data_df[metric]\n",
    "            \n",
    "            bars = ax.bar(models, scores, alpha=0.7, color=plt.cm.Set3(np.arange(len(models))))\n",
    "            ax.set_title(f'Comparación de {title}', fontweight='bold')\n",
    "            ax.set_ylabel(title)\n",
    "            ax.set_xlabel('Modelo')\n",
    "            ax.tick_params(axis='x', rotation=45)\n",
    "            \n",
    "            # Agregar valores en las barras\n",
    "            for bar, score in zip(bars, scores):\n",
    "                ax.text(bar.get_x() + bar.get_width()/2, bar.get_height() + 0.01, \n",
    "                       f'{score:.3f}', ha='center', va='bottom', fontweight='bold')\n",
    "    \n",
    "    plt.tight_layout()\n",
    "    plt.show()\n",
    "    \n",
    "    # 2. Gráfico radar para comparación multi-métrica\n",
    "    if len(data_df) > 0:\n",
    "        fig = go.Figure()\n",
    "        \n",
    "        for idx, row in data_df.iterrows():\n",
    "            model_name = row['params.model_name']\n",
    "            values = [row.get(metric, 0) for metric in metrics_to_plot if metric in data_df.columns]\n",
    "            metric_names = [title for metric, title in zip(metrics_to_plot, titles) if metric in data_df.columns]\n",
    "            \n",
    "            fig.add_trace(go.Scatterpolar(\n",
    "                r=values,\n",
    "                theta=metric_names,\n",
    "                fill='toself',\n",
    "                name=model_name,\n",
    "                line=dict(width=2)\n",
    "            ))\n",
    "        \n",
    "        fig.update_layout(\n",
    "            polar=dict(\n",
    "                radialaxis=dict(visible=True, range=[0, 1])\n",
    "            ),\n",
    "            title=\"Comparación Multi-Métrica de Modelos (Radar)\",\n",
    "            showlegend=True,\n",
    "            width=700,\n",
    "            height=500\n",
    "        )\n",
    "        \n",
    "        fig.show()\n",
    "\n",
    "# Ejecutar visualizaciones\n",
    "print(\"📊 GENERANDO VISUALIZACIONES COMPARATIVAS\")\n",
    "print(\"=\"*45)\n",
    "\n",
    "# Determinar qué datos usar - si no hay datos reales, usar dummy\n",
    "if not combined_runs.empty:\n",
    "    plot_data = combined_runs\n",
    "    print(\"📈 Usando datos reales de experimentos\")\n",
    "else:\n",
    "    plot_data = dummy_df\n",
    "    print(\"🎭 Usando datos de demostración\")\n",
    "\n",
    "create_model_comparison_plots(plot_data)"
   ]
  },
  {
   "cell_type": "code",
   "execution_count": 14,
   "id": "84c3e5ae",
   "metadata": {},
   "outputs": [
    {
     "name": "stdout",
     "output_type": "stream",
     "text": [
      "ℹ️ No hay suficientes datos temporales para análisis de evolución\n",
      "\n",
      "🎯 RECOMENDACIONES Y PRÓXIMOS PASOS\n",
      "========================================\n",
      "1. 🚀 **Ejecutar Experimentos**: Corre `python experiments/mlflow_experiments.py` para generar datos reales\n",
      "2. 📊 **Métricas Multi-label**: Implementa métricas específicas para clasificación multi-label\n",
      "3. 🔧 **Hyperparameter Tuning**: Usa MLflow para tracking de optimización de hiperparámetros\n",
      "4. 🏆 **Model Registry**: Registra los mejores modelos en MLflow Model Registry\n",
      "5. 📈 **Monitoring**: Configura alertas para degradación de rendimiento\n",
      "6. 🔄 **Reentrenamiento**: Establece pipelines automáticos de reentrenamiento\n",
      "7. 📝 **Documentación**: Documenta decisiones de modelado en MLflow\n",
      "\n",
      "✅ ANÁLISIS COMPLETADO\n",
      "📁 Revisa los experimentos en: file:../mlruns\n",
      "🌐 Abre MLflow UI con: mlflow ui --backend-store-uri file:../mlruns\n"
     ]
    }
   ],
   "source": [
    "# Análisis temporal de experimentos (si hay datos suficientes)\n",
    "if not combined_runs.empty and 'start_time' in combined_runs.columns:\n",
    "    print(\"⏱️ ANÁLISIS TEMPORAL DE EXPERIMENTOS\")\n",
    "    print(\"=\"*38)\n",
    "    \n",
    "    # Convertir start_time a datetime si no lo está\n",
    "    if not pd.api.types.is_datetime64_any_dtype(combined_runs['start_time']):\n",
    "        combined_runs['start_time'] = pd.to_datetime(combined_runs['start_time'])\n",
    "    \n",
    "    # Gráfico de evolución temporal\n",
    "    fig = go.Figure()\n",
    "    \n",
    "    for metric in ['metrics.accuracy', 'metrics.f1_score']:\n",
    "        if metric in combined_runs.columns:\n",
    "            fig.add_trace(go.Scatter(\n",
    "                x=combined_runs['start_time'],\n",
    "                y=combined_runs[metric],\n",
    "                mode='lines+markers',\n",
    "                name=metric.replace('metrics.', '').title(),\n",
    "                line=dict(width=3),\n",
    "                marker=dict(size=8)\n",
    "            ))\n",
    "    \n",
    "    fig.update_layout(\n",
    "        title=\"Evolución Temporal del Rendimiento de Modelos\",\n",
    "        xaxis_title=\"Fecha del Experimento\",\n",
    "        yaxis_title=\"Score de Métrica\",\n",
    "        hovermode='x unified',\n",
    "        width=900,\n",
    "        height=400\n",
    "    )\n",
    "    \n",
    "    fig.show()\n",
    "\n",
    "else:\n",
    "    print(\"ℹ️ No hay suficientes datos temporales para análisis de evolución\")\n",
    "\n",
    "print(\"\\n🎯 RECOMENDACIONES Y PRÓXIMOS PASOS\")\n",
    "print(\"=\"*40)\n",
    "\n",
    "recommendations = [\n",
    "    \"1. 🚀 **Ejecutar Experimentos**: Corre `python experiments/mlflow_experiments.py` para generar datos reales\",\n",
    "    \"2. 📊 **Métricas Multi-label**: Implementa métricas específicas para clasificación multi-label\",\n",
    "    \"3. 🔧 **Hyperparameter Tuning**: Usa MLflow para tracking de optimización de hiperparámetros\",\n",
    "    \"4. 🏆 **Model Registry**: Registra los mejores modelos en MLflow Model Registry\",\n",
    "    \"5. 📈 **Monitoring**: Configura alertas para degradación de rendimiento\",\n",
    "    \"6. 🔄 **Reentrenamiento**: Establece pipelines automáticos de reentrenamiento\",\n",
    "    \"7. 📝 **Documentación**: Documenta decisiones de modelado en MLflow\"\n",
    "]\n",
    "\n",
    "for rec in recommendations:\n",
    "    print(rec)\n",
    "\n",
    "print(f\"\\n✅ ANÁLISIS COMPLETADO\")\n",
    "print(f\"📁 Revisa los experimentos en: {mlflow.get_tracking_uri()}\")\n",
    "print(f\"🌐 Abre MLflow UI con: mlflow ui --backend-store-uri {mlflow.get_tracking_uri()}\")\n",
    "\n",
    "\n",
    "                      "
   ]
  },
  {
   "cell_type": "code",
   "execution_count": 15,
   "id": "a7485168",
   "metadata": {},
   "outputs": [],
   "source": [
    "# Celda 1: Imports\n",
    "import mlflow\n",
    "import pandas as pd\n",
    "import matplotlib.pyplot as plt\n",
    "import seaborn as sns\n",
    "import plotly.express as px\n",
    "import plotly.graph_objects as go\n",
    "from plotly.subplots import make_subplots\n",
    "\n",
    "# Configurar MLflow\n",
    "mlflow.set_tracking_uri(\"file:../mlruns\")"
   ]
  },
  {
   "cell_type": "code",
   "execution_count": 16,
   "id": "af4908b9",
   "metadata": {},
   "outputs": [
    {
     "name": "stdout",
     "output_type": "stream",
     "text": [
      "📊 EXPERIMENTOS ENCONTRADOS:\n",
      "Total de runs: 9\n",
      "Experimentos: ['toxicity-transformer-experiments' 'transformer-simple-test'\n",
      " 'toxicity-detection-experiments']\n",
      "Tipos de modelo: ['distilbert' 'distilbert-base-uncased' 'random_forest' 'logistic']\n"
     ]
    },
    {
     "data": {
      "text/html": [
       "<div>\n",
       "<style scoped>\n",
       "    .dataframe tbody tr th:only-of-type {\n",
       "        vertical-align: middle;\n",
       "    }\n",
       "\n",
       "    .dataframe tbody tr th {\n",
       "        vertical-align: top;\n",
       "    }\n",
       "\n",
       "    .dataframe thead th {\n",
       "        text-align: right;\n",
       "    }\n",
       "</style>\n",
       "<table border=\"1\" class=\"dataframe\">\n",
       "  <thead>\n",
       "    <tr style=\"text-align: right;\">\n",
       "      <th></th>\n",
       "      <th>run_id</th>\n",
       "      <th>experiment_name</th>\n",
       "      <th>model_type</th>\n",
       "      <th>status</th>\n",
       "      <th>start_time</th>\n",
       "      <th>end_time</th>\n",
       "      <th>duration</th>\n",
       "      <th>epoch</th>\n",
       "      <th>eval_f1_macro</th>\n",
       "      <th>eval_f1_micro</th>\n",
       "      <th>eval_hamming_loss</th>\n",
       "      <th>eval_jaccard_score</th>\n",
       "      <th>eval_loss</th>\n",
       "      <th>eval_runtime</th>\n",
       "      <th>eval_samples_per_second</th>\n",
       "      <th>eval_steps_per_second</th>\n",
       "      <th>f1_macro</th>\n",
       "      <th>f1_micro</th>\n",
       "      <th>grad_norm</th>\n",
       "      <th>hamming_loss</th>\n",
       "      <th>jaccard_score</th>\n",
       "      <th>learning_rate</th>\n",
       "      <th>loss</th>\n",
       "      <th>runtime</th>\n",
       "      <th>samples_per_second</th>\n",
       "      <th>steps_per_second</th>\n",
       "      <th>total_flos</th>\n",
       "      <th>train_loss</th>\n",
       "      <th>train_runtime</th>\n",
       "      <th>train_samples_per_second</th>\n",
       "      <th>train_steps_per_second</th>\n",
       "      <th>num_train_epochs</th>\n",
       "      <th>training_success</th>\n",
       "      <th>n_estimators</th>\n",
       "      <th>max_depth</th>\n",
       "      <th>C</th>\n",
       "    </tr>\n",
       "  </thead>\n",
       "  <tbody>\n",
       "    <tr>\n",
       "      <th>0</th>\n",
       "      <td>bb502ca551584afc9034af8a29813b36</td>\n",
       "      <td>toxicity-transformer-experiments</td>\n",
       "      <td>distilbert</td>\n",
       "      <td>FINISHED</td>\n",
       "      <td>1751457063704</td>\n",
       "      <td>1751458141894</td>\n",
       "      <td>1078.190</td>\n",
       "      <td>2.0</td>\n",
       "      <td>0.050420</td>\n",
       "      <td>0.166090</td>\n",
       "      <td>0.150625</td>\n",
       "      <td>0.031579</td>\n",
       "      <td>0.36974</td>\n",
       "      <td>18.6516</td>\n",
       "      <td>10.723</td>\n",
       "      <td>1.340</td>\n",
       "      <td>0.050420</td>\n",
       "      <td>0.166090</td>\n",
       "      <td>1.032562</td>\n",
       "      <td>0.150625</td>\n",
       "      <td>0.031579</td>\n",
       "      <td>2.000000e-07</td>\n",
       "      <td>0.3849</td>\n",
       "      <td>18.6516</td>\n",
       "      <td>10.723</td>\n",
       "      <td>1.340</td>\n",
       "      <td>2.119705e+14</td>\n",
       "      <td>0.479807</td>\n",
       "      <td>1044.9697</td>\n",
       "      <td>1.531</td>\n",
       "      <td>0.191</td>\n",
       "      <td>2</td>\n",
       "      <td>NaN</td>\n",
       "      <td>NaN</td>\n",
       "      <td>NaN</td>\n",
       "      <td>NaN</td>\n",
       "    </tr>\n",
       "    <tr>\n",
       "      <th>1</th>\n",
       "      <td>22fe1d8db2ea4af39de3364e250b3677</td>\n",
       "      <td>toxicity-transformer-experiments</td>\n",
       "      <td>distilbert</td>\n",
       "      <td>FAILED</td>\n",
       "      <td>1751455287760</td>\n",
       "      <td>1751456320297</td>\n",
       "      <td>1032.537</td>\n",
       "      <td>2.0</td>\n",
       "      <td>0.045259</td>\n",
       "      <td>0.146853</td>\n",
       "      <td>0.152500</td>\n",
       "      <td>0.027632</td>\n",
       "      <td>0.36958</td>\n",
       "      <td>18.1035</td>\n",
       "      <td>11.048</td>\n",
       "      <td>1.381</td>\n",
       "      <td>0.045259</td>\n",
       "      <td>0.146853</td>\n",
       "      <td>1.027795</td>\n",
       "      <td>0.152500</td>\n",
       "      <td>0.027632</td>\n",
       "      <td>2.000000e-07</td>\n",
       "      <td>0.3899</td>\n",
       "      <td>18.1035</td>\n",
       "      <td>11.048</td>\n",
       "      <td>1.381</td>\n",
       "      <td>2.119705e+14</td>\n",
       "      <td>0.472499</td>\n",
       "      <td>1010.6153</td>\n",
       "      <td>1.583</td>\n",
       "      <td>0.198</td>\n",
       "      <td>2</td>\n",
       "      <td>0.0</td>\n",
       "      <td>NaN</td>\n",
       "      <td>NaN</td>\n",
       "      <td>NaN</td>\n",
       "    </tr>\n",
       "    <tr>\n",
       "      <th>2</th>\n",
       "      <td>d7f9c17bdbe3410e91fd80a3ad29fa86</td>\n",
       "      <td>toxicity-transformer-experiments</td>\n",
       "      <td>distilbert-base-uncased</td>\n",
       "      <td>FAILED</td>\n",
       "      <td>1751455055649</td>\n",
       "      <td>1751455056728</td>\n",
       "      <td>1.079</td>\n",
       "      <td>NaN</td>\n",
       "      <td>NaN</td>\n",
       "      <td>NaN</td>\n",
       "      <td>NaN</td>\n",
       "      <td>NaN</td>\n",
       "      <td>NaN</td>\n",
       "      <td>NaN</td>\n",
       "      <td>NaN</td>\n",
       "      <td>NaN</td>\n",
       "      <td>NaN</td>\n",
       "      <td>NaN</td>\n",
       "      <td>NaN</td>\n",
       "      <td>NaN</td>\n",
       "      <td>NaN</td>\n",
       "      <td>NaN</td>\n",
       "      <td>NaN</td>\n",
       "      <td>NaN</td>\n",
       "      <td>NaN</td>\n",
       "      <td>NaN</td>\n",
       "      <td>NaN</td>\n",
       "      <td>NaN</td>\n",
       "      <td>NaN</td>\n",
       "      <td>NaN</td>\n",
       "      <td>NaN</td>\n",
       "      <td>NaN</td>\n",
       "      <td>0.0</td>\n",
       "      <td>NaN</td>\n",
       "      <td>NaN</td>\n",
       "      <td>NaN</td>\n",
       "    </tr>\n",
       "    <tr>\n",
       "      <th>3</th>\n",
       "      <td>3e4a3083dcd7478e9ef01c5e34c5480e</td>\n",
       "      <td>transformer-simple-test</td>\n",
       "      <td>distilbert-base-uncased</td>\n",
       "      <td>FAILED</td>\n",
       "      <td>1751454073318</td>\n",
       "      <td>1751454074321</td>\n",
       "      <td>1.003</td>\n",
       "      <td>NaN</td>\n",
       "      <td>NaN</td>\n",
       "      <td>NaN</td>\n",
       "      <td>NaN</td>\n",
       "      <td>NaN</td>\n",
       "      <td>NaN</td>\n",
       "      <td>NaN</td>\n",
       "      <td>NaN</td>\n",
       "      <td>NaN</td>\n",
       "      <td>NaN</td>\n",
       "      <td>NaN</td>\n",
       "      <td>NaN</td>\n",
       "      <td>NaN</td>\n",
       "      <td>NaN</td>\n",
       "      <td>NaN</td>\n",
       "      <td>NaN</td>\n",
       "      <td>NaN</td>\n",
       "      <td>NaN</td>\n",
       "      <td>NaN</td>\n",
       "      <td>NaN</td>\n",
       "      <td>NaN</td>\n",
       "      <td>NaN</td>\n",
       "      <td>NaN</td>\n",
       "      <td>NaN</td>\n",
       "      <td>NaN</td>\n",
       "      <td>NaN</td>\n",
       "      <td>NaN</td>\n",
       "      <td>NaN</td>\n",
       "      <td>NaN</td>\n",
       "    </tr>\n",
       "    <tr>\n",
       "      <th>4</th>\n",
       "      <td>9f1bea7bccb841fd812cac4dc875abaf</td>\n",
       "      <td>transformer-simple-test</td>\n",
       "      <td>distilbert-base-uncased</td>\n",
       "      <td>FAILED</td>\n",
       "      <td>1751454016232</td>\n",
       "      <td>1751454042163</td>\n",
       "      <td>25.931</td>\n",
       "      <td>NaN</td>\n",
       "      <td>NaN</td>\n",
       "      <td>NaN</td>\n",
       "      <td>NaN</td>\n",
       "      <td>NaN</td>\n",
       "      <td>NaN</td>\n",
       "      <td>NaN</td>\n",
       "      <td>NaN</td>\n",
       "      <td>NaN</td>\n",
       "      <td>NaN</td>\n",
       "      <td>NaN</td>\n",
       "      <td>NaN</td>\n",
       "      <td>NaN</td>\n",
       "      <td>NaN</td>\n",
       "      <td>NaN</td>\n",
       "      <td>NaN</td>\n",
       "      <td>NaN</td>\n",
       "      <td>NaN</td>\n",
       "      <td>NaN</td>\n",
       "      <td>NaN</td>\n",
       "      <td>NaN</td>\n",
       "      <td>NaN</td>\n",
       "      <td>NaN</td>\n",
       "      <td>NaN</td>\n",
       "      <td>NaN</td>\n",
       "      <td>NaN</td>\n",
       "      <td>NaN</td>\n",
       "      <td>NaN</td>\n",
       "      <td>NaN</td>\n",
       "    </tr>\n",
       "  </tbody>\n",
       "</table>\n",
       "</div>"
      ],
      "text/plain": [
       "                             run_id                   experiment_name               model_type    status     start_time       end_time  duration  epoch  eval_f1_macro  eval_f1_micro  eval_hamming_loss  eval_jaccard_score  eval_loss  eval_runtime  eval_samples_per_second  eval_steps_per_second  f1_macro  f1_micro  grad_norm  hamming_loss  jaccard_score  learning_rate    loss  runtime  samples_per_second  steps_per_second    total_flos  train_loss  train_runtime  train_samples_per_second  train_steps_per_second num_train_epochs  training_success n_estimators max_depth    C\n",
       "0  bb502ca551584afc9034af8a29813b36  toxicity-transformer-experiments               distilbert  FINISHED  1751457063704  1751458141894  1078.190    2.0       0.050420       0.166090           0.150625            0.031579    0.36974       18.6516                   10.723                  1.340  0.050420  0.166090   1.032562      0.150625       0.031579   2.000000e-07  0.3849  18.6516              10.723             1.340  2.119705e+14    0.479807      1044.9697                     1.531                   0.191                2               NaN          NaN       NaN  NaN\n",
       "1  22fe1d8db2ea4af39de3364e250b3677  toxicity-transformer-experiments               distilbert    FAILED  1751455287760  1751456320297  1032.537    2.0       0.045259       0.146853           0.152500            0.027632    0.36958       18.1035                   11.048                  1.381  0.045259  0.146853   1.027795      0.152500       0.027632   2.000000e-07  0.3899  18.1035              11.048             1.381  2.119705e+14    0.472499      1010.6153                     1.583                   0.198                2               0.0          NaN       NaN  NaN\n",
       "2  d7f9c17bdbe3410e91fd80a3ad29fa86  toxicity-transformer-experiments  distilbert-base-uncased    FAILED  1751455055649  1751455056728     1.079    NaN            NaN            NaN                NaN                 NaN        NaN           NaN                      NaN                    NaN       NaN       NaN        NaN           NaN            NaN            NaN     NaN      NaN                 NaN               NaN           NaN         NaN            NaN                       NaN                     NaN              NaN               0.0          NaN       NaN  NaN\n",
       "3  3e4a3083dcd7478e9ef01c5e34c5480e           transformer-simple-test  distilbert-base-uncased    FAILED  1751454073318  1751454074321     1.003    NaN            NaN            NaN                NaN                 NaN        NaN           NaN                      NaN                    NaN       NaN       NaN        NaN           NaN            NaN            NaN     NaN      NaN                 NaN               NaN           NaN         NaN            NaN                       NaN                     NaN              NaN               NaN          NaN       NaN  NaN\n",
       "4  9f1bea7bccb841fd812cac4dc875abaf           transformer-simple-test  distilbert-base-uncased    FAILED  1751454016232  1751454042163    25.931    NaN            NaN            NaN                NaN                 NaN        NaN           NaN                      NaN                    NaN       NaN       NaN        NaN           NaN            NaN            NaN     NaN      NaN                 NaN               NaN           NaN         NaN            NaN                       NaN                     NaN              NaN               NaN          NaN       NaN  NaN"
      ]
     },
     "execution_count": 16,
     "metadata": {},
     "output_type": "execute_result"
    }
   ],
   "source": [
    "# Celda 2: Obtener todos los experimentos\n",
    "def get_all_experiments_data():\n",
    "    \"\"\"Obtener datos de todos los experimentos\"\"\"\n",
    "    client = mlflow.tracking.MlflowClient()\n",
    "    experiments = client.search_experiments()\n",
    "    \n",
    "    all_runs = []\n",
    "    for exp in experiments:\n",
    "        if exp.name != \"Default\":  # Excluir experimento por defecto\n",
    "            runs = client.search_runs(exp.experiment_id)\n",
    "            for run in runs:\n",
    "                run_data = {\n",
    "                    \"run_id\": run.info.run_id,\n",
    "                    \"experiment_name\": exp.name,\n",
    "                    \"model_type\": run.data.params.get(\"model_type\", \n",
    "                                 run.data.params.get(\"model_name\", \"unknown\")),\n",
    "                    \"status\": run.info.status,\n",
    "                    \"start_time\": run.info.start_time,\n",
    "                    \"end_time\": run.info.end_time,\n",
    "                    \"duration\": (run.info.end_time - run.info.start_time) / 1000 if run.info.end_time else None\n",
    "                }\n",
    "                \n",
    "                # Agregar métricas\n",
    "                for metric_name, metric_value in run.data.metrics.items():\n",
    "                    run_data[metric_name] = metric_value\n",
    "                \n",
    "                # Agregar parámetros importantes\n",
    "                for param_name in [\"C\", \"n_estimators\", \"max_depth\", \"num_train_epochs\"]:\n",
    "                    if param_name in run.data.params:\n",
    "                        run_data[param_name] = run.data.params[param_name]\n",
    "                \n",
    "                all_runs.append(run_data)\n",
    "    \n",
    "    return pd.DataFrame(all_runs)\n",
    "\n",
    "# Obtener datos\n",
    "experiments_df = get_all_experiments_data()\n",
    "print(\"📊 EXPERIMENTOS ENCONTRADOS:\")\n",
    "print(f\"Total de runs: {len(experiments_df)}\")\n",
    "print(f\"Experimentos: {experiments_df['experiment_name'].unique()}\")\n",
    "print(f\"Tipos de modelo: {experiments_df['model_type'].unique()}\")\n",
    "\n",
    "experiments_df.head()"
   ]
  },
  {
   "cell_type": "code",
   "execution_count": 17,
   "id": "51c9b9da",
   "metadata": {},
   "outputs": [
    {
     "name": "stdout",
     "output_type": "stream",
     "text": [
      "🏆 RANKING DE MODELOS POR JACCARD SCORE\n",
      "==================================================\n",
      "   model_type                  experiment_name  jaccard_score  hamming_loss\n",
      "     logistic   toxicity-detection-experiments       0.080893      0.136250\n",
      "random_forest   toxicity-detection-experiments       0.050984      0.143750\n",
      "random_forest   toxicity-detection-experiments       0.037498      0.149375\n",
      "   distilbert toxicity-transformer-experiments       0.031579      0.150625\n",
      "     logistic   toxicity-detection-experiments       0.010753      0.159375\n"
     ]
    }
   ],
   "source": [
    "# Celda 3: Análisis de rendimiento por tipo de modelo\n",
    "print(\"🏆 RANKING DE MODELOS POR JACCARD SCORE\")\n",
    "print(\"=\"*50)\n",
    "\n",
    "# Filtrar solo runs completados\n",
    "completed_runs = experiments_df[experiments_df['status'] == 'FINISHED'].copy()\n",
    "\n",
    "if 'jaccard_score' in completed_runs.columns:\n",
    "    ranking = completed_runs.nlargest(10, 'jaccard_score')[\n",
    "        ['model_type', 'experiment_name', 'jaccard_score', 'hamming_loss']\n",
    "    ]\n",
    "    print(ranking.to_string(index=False))\n",
    "else:\n",
    "    print(\"⚠️ No se encontraron métricas de jaccard_score\")"
   ]
  },
  {
   "cell_type": "code",
   "execution_count": 18,
   "id": "6a355f36",
   "metadata": {},
   "outputs": [
    {
     "data": {
      "image/png": "[encoded data removed]",
      "text/plain": [
       "<Figure size 1500x800 with 4 Axes>"
      ]
     },
     "metadata": {},
     "output_type": "display_data"
    }
   ],
   "source": [
    "# Celda 4: Visualización comparativa\n",
    "if len(completed_runs) > 0 and 'jaccard_score' in completed_runs.columns:\n",
    "    \n",
    "    # Gráfico de barras por tipo de modelo\n",
    "    plt.figure(figsize=(15, 8))\n",
    "    \n",
    "    # Agrupar por tipo de modelo\n",
    "    model_performance = completed_runs.groupby('model_type').agg({\n",
    "        'jaccard_score': ['mean', 'std', 'count'],\n",
    "        'hamming_loss': ['mean', 'std']\n",
    "    }).round(4)\n",
    "    \n",
    "    # Subplot 1: Jaccard Score\n",
    "    plt.subplot(2, 2, 1)\n",
    "    jaccard_means = model_performance['jaccard_score']['mean']\n",
    "    jaccard_stds = model_performance['jaccard_score']['std']\n",
    "    \n",
    "    bars = plt.bar(range(len(jaccard_means)), jaccard_means, \n",
    "                   yerr=jaccard_stds, capsize=5, alpha=0.7)\n",
    "    plt.xlabel('Tipo de Modelo')\n",
    "    plt.ylabel('Jaccard Score')\n",
    "    plt.title('Rendimiento Promedio por Tipo de Modelo')\n",
    "    plt.xticks(range(len(jaccard_means)), jaccard_means.index, rotation=45)\n",
    "    \n",
    "    # Agregar valores en las barras\n",
    "    for i, (bar, mean, std) in enumerate(zip(bars, jaccard_means, jaccard_stds)):\n",
    "        plt.text(bar.get_x() + bar.get_width()/2, bar.get_height() + std + 0.001,\n",
    "                f'{mean:.3f}', ha='center', va='bottom', fontsize=8)\n",
    "    \n",
    "    # Subplot 2: Hamming Loss\n",
    "    plt.subplot(2, 2, 2)\n",
    "    hamming_means = model_performance['hamming_loss']['mean']\n",
    "    hamming_stds = model_performance['hamming_loss']['std']\n",
    "    \n",
    "    bars = plt.bar(range(len(hamming_means)), hamming_means, \n",
    "                   yerr=hamming_stds, capsize=5, alpha=0.7, color='coral')\n",
    "    plt.xlabel('Tipo de Modelo')\n",
    "    plt.ylabel('Hamming Loss')\n",
    "    plt.title('Hamming Loss Promedio por Tipo de Modelo')\n",
    "    plt.xticks(range(len(hamming_means)), hamming_means.index, rotation=45)\n",
    "    \n",
    "    # Subplot 3: Scatter plot Jaccard vs Hamming\n",
    "    plt.subplot(2, 2, 3)\n",
    "    colors = plt.cm.Set3(range(len(completed_runs['model_type'].unique())))\n",
    "    color_map = dict(zip(completed_runs['model_type'].unique(), colors))\n",
    "    \n",
    "    for model_type in completed_runs['model_type'].unique():\n",
    "        model_data = completed_runs[completed_runs['model_type'] == model_type]\n",
    "        plt.scatter(model_data['jaccard_score'], model_data['hamming_loss'], \n",
    "                   label=model_type, alpha=0.7, s=50)\n",
    "    \n",
    "    plt.xlabel('Jaccard Score')\n",
    "    plt.ylabel('Hamming Loss')\n",
    "    plt.title('Jaccard Score vs Hamming Loss')\n",
    "    plt.legend()\n",
    "    \n",
    "    # Subplot 4: Duración de entrenamiento\n",
    "    plt.subplot(2, 2, 4)\n",
    "    if 'duration' in completed_runs.columns:\n",
    "        duration_data = completed_runs.dropna(subset=['duration'])\n",
    "        if len(duration_data) > 0:\n",
    "            duration_by_model = duration_data.groupby('model_type')['duration'].mean()\n",
    "            plt.bar(range(len(duration_by_model)), duration_by_model.values)\n",
    "            plt.xlabel('Tipo de Modelo')\n",
    "            plt.ylabel('Duración Promedio (segundos)')\n",
    "            plt.title('Tiempo de Entrenamiento por Modelo')\n",
    "            plt.xticks(range(len(duration_by_model)), duration_by_model.index, rotation=45)\n",
    "    \n",
    "    plt.tight_layout()\n",
    "    plt.show()"
   ]
  },
  {
   "cell_type": "code",
   "execution_count": 19,
   "id": "6c20d4f2",
   "metadata": {},
   "outputs": [
    {
     "name": "stdout",
     "output_type": "stream",
     "text": [
      "\n",
      "📋 TABLA RESUMEN DETALLADA\n",
      "================================================================================\n",
      "                 experiment_name    model_type  jaccard_score_count  jaccard_score_mean  jaccard_score_std  jaccard_score_min  jaccard_score_max  hamming_loss_mean  hamming_loss_std  hamming_loss_min  hamming_loss_max\n",
      "  toxicity-detection-experiments      logistic                    2              0.0458             0.0496             0.0108             0.0809             0.1478            0.0164            0.1362            0.1594\n",
      "  toxicity-detection-experiments random_forest                    2              0.0442             0.0095             0.0375             0.0510             0.1466            0.0040            0.1438            0.1494\n",
      "toxicity-transformer-experiments    distilbert                    1              0.0316                NaN             0.0316             0.0316             0.1506               NaN            0.1506            0.1506\n"
     ]
    },
    {
     "ename": "OSError",
     "evalue": "Cannot save file into a non-existent directory: '..\\results'",
     "output_type": "error",
     "traceback": [
      "\u001b[31m---------------------------------------------------------------------------\u001b[39m",
      "\u001b[31mOSError\u001b[39m                                   Traceback (most recent call last)",
      "\u001b[36mCell\u001b[39m\u001b[36m \u001b[39m\u001b[32mIn[19]\u001b[39m\u001b[32m, line 18\u001b[39m\n\u001b[32m     15\u001b[39m \u001b[38;5;28mprint\u001b[39m(summary_table.to_string(index=\u001b[38;5;28;01mFalse\u001b[39;00m))\n\u001b[32m     17\u001b[39m \u001b[38;5;66;03m# Guardar como CSV\u001b[39;00m\n\u001b[32m---> \u001b[39m\u001b[32m18\u001b[39m \u001b[43msummary_table\u001b[49m\u001b[43m.\u001b[49m\u001b[43mto_csv\u001b[49m\u001b[43m(\u001b[49m\u001b[33;43m'\u001b[39;49m\u001b[33;43m../results/model_comparison_summary.csv\u001b[39;49m\u001b[33;43m'\u001b[39;49m\u001b[43m,\u001b[49m\u001b[43m \u001b[49m\u001b[43mindex\u001b[49m\u001b[43m=\u001b[49m\u001b[38;5;28;43;01mFalse\u001b[39;49;00m\u001b[43m)\u001b[49m\n\u001b[32m     19\u001b[39m \u001b[38;5;28mprint\u001b[39m(\u001b[33mf\u001b[39m\u001b[33m\"\u001b[39m\u001b[38;5;130;01m\\n\u001b[39;00m\u001b[33m💾 Tabla guardada en: ../results/model_comparison_summary.csv\u001b[39m\u001b[33m\"\u001b[39m)\n",
      "\u001b[36mFile \u001b[39m\u001b[32mc:\\Users\\usuario\\Desktop\\bcia\\nlp-team2\\.venv\\Lib\\site-packages\\pandas\\util\\_decorators.py:333\u001b[39m, in \u001b[36mdeprecate_nonkeyword_arguments.<locals>.decorate.<locals>.wrapper\u001b[39m\u001b[34m(*args, **kwargs)\u001b[39m\n\u001b[32m    327\u001b[39m \u001b[38;5;28;01mif\u001b[39;00m \u001b[38;5;28mlen\u001b[39m(args) > num_allow_args:\n\u001b[32m    328\u001b[39m     warnings.warn(\n\u001b[32m    329\u001b[39m         msg.format(arguments=_format_argument_list(allow_args)),\n\u001b[32m    330\u001b[39m         \u001b[38;5;167;01mFutureWarning\u001b[39;00m,\n\u001b[32m    331\u001b[39m         stacklevel=find_stack_level(),\n\u001b[32m    332\u001b[39m     )\n\u001b[32m--> \u001b[39m\u001b[32m333\u001b[39m \u001b[38;5;28;01mreturn\u001b[39;00m \u001b[43mfunc\u001b[49m\u001b[43m(\u001b[49m\u001b[43m*\u001b[49m\u001b[43margs\u001b[49m\u001b[43m,\u001b[49m\u001b[43m \u001b[49m\u001b[43m*\u001b[49m\u001b[43m*\u001b[49m\u001b[43mkwargs\u001b[49m\u001b[43m)\u001b[49m\n",
      "\u001b[36mFile \u001b[39m\u001b[32mc:\\Users\\usuario\\Desktop\\bcia\\nlp-team2\\.venv\\Lib\\site-packages\\pandas\\core\\generic.py:3986\u001b[39m, in \u001b[36mNDFrame.to_csv\u001b[39m\u001b[34m(self, path_or_buf, sep, na_rep, float_format, columns, header, index, index_label, mode, encoding, compression, quoting, quotechar, lineterminator, chunksize, date_format, doublequote, escapechar, decimal, errors, storage_options)\u001b[39m\n\u001b[32m   3975\u001b[39m df = \u001b[38;5;28mself\u001b[39m \u001b[38;5;28;01mif\u001b[39;00m \u001b[38;5;28misinstance\u001b[39m(\u001b[38;5;28mself\u001b[39m, ABCDataFrame) \u001b[38;5;28;01melse\u001b[39;00m \u001b[38;5;28mself\u001b[39m.to_frame()\n\u001b[32m   3977\u001b[39m formatter = DataFrameFormatter(\n\u001b[32m   3978\u001b[39m     frame=df,\n\u001b[32m   3979\u001b[39m     header=header,\n\u001b[32m   (...)\u001b[39m\u001b[32m   3983\u001b[39m     decimal=decimal,\n\u001b[32m   3984\u001b[39m )\n\u001b[32m-> \u001b[39m\u001b[32m3986\u001b[39m \u001b[38;5;28;01mreturn\u001b[39;00m \u001b[43mDataFrameRenderer\u001b[49m\u001b[43m(\u001b[49m\u001b[43mformatter\u001b[49m\u001b[43m)\u001b[49m\u001b[43m.\u001b[49m\u001b[43mto_csv\u001b[49m\u001b[43m(\u001b[49m\n\u001b[32m   3987\u001b[39m \u001b[43m    \u001b[49m\u001b[43mpath_or_buf\u001b[49m\u001b[43m,\u001b[49m\n\u001b[32m   3988\u001b[39m \u001b[43m    \u001b[49m\u001b[43mlineterminator\u001b[49m\u001b[43m=\u001b[49m\u001b[43mlineterminator\u001b[49m\u001b[43m,\u001b[49m\n\u001b[32m   3989\u001b[39m \u001b[43m    \u001b[49m\u001b[43msep\u001b[49m\u001b[43m=\u001b[49m\u001b[43msep\u001b[49m\u001b[43m,\u001b[49m\n\u001b[32m   3990\u001b[39m \u001b[43m    \u001b[49m\u001b[43mencoding\u001b[49m\u001b[43m=\u001b[49m\u001b[43mencoding\u001b[49m\u001b[43m,\u001b[49m\n\u001b[32m   3991\u001b[39m \u001b[43m    \u001b[49m\u001b[43merrors\u001b[49m\u001b[43m=\u001b[49m\u001b[43merrors\u001b[49m\u001b[43m,\u001b[49m\n\u001b[32m   3992\u001b[39m \u001b[43m    \u001b[49m\u001b[43mcompression\u001b[49m\u001b[43m=\u001b[49m\u001b[43mcompression\u001b[49m\u001b[43m,\u001b[49m\n\u001b[32m   3993\u001b[39m \u001b[43m    \u001b[49m\u001b[43mquoting\u001b[49m\u001b[43m=\u001b[49m\u001b[43mquoting\u001b[49m\u001b[43m,\u001b[49m\n\u001b[32m   3994\u001b[39m \u001b[43m    \u001b[49m\u001b[43mcolumns\u001b[49m\u001b[43m=\u001b[49m\u001b[43mcolumns\u001b[49m\u001b[43m,\u001b[49m\n\u001b[32m   3995\u001b[39m \u001b[43m    \u001b[49m\u001b[43mindex_label\u001b[49m\u001b[43m=\u001b[49m\u001b[43mindex_label\u001b[49m\u001b[43m,\u001b[49m\n\u001b[32m   3996\u001b[39m \u001b[43m    \u001b[49m\u001b[43mmode\u001b[49m\u001b[43m=\u001b[49m\u001b[43mmode\u001b[49m\u001b[43m,\u001b[49m\n\u001b[32m   3997\u001b[39m \u001b[43m    \u001b[49m\u001b[43mchunksize\u001b[49m\u001b[43m=\u001b[49m\u001b[43mchunksize\u001b[49m\u001b[43m,\u001b[49m\n\u001b[32m   3998\u001b[39m \u001b[43m    \u001b[49m\u001b[43mquotechar\u001b[49m\u001b[43m=\u001b[49m\u001b[43mquotechar\u001b[49m\u001b[43m,\u001b[49m\n\u001b[32m   3999\u001b[39m \u001b[43m    \u001b[49m\u001b[43mdate_format\u001b[49m\u001b[43m=\u001b[49m\u001b[43mdate_format\u001b[49m\u001b[43m,\u001b[49m\n\u001b[32m   4000\u001b[39m \u001b[43m    \u001b[49m\u001b[43mdoublequote\u001b[49m\u001b[43m=\u001b[49m\u001b[43mdoublequote\u001b[49m\u001b[43m,\u001b[49m\n\u001b[32m   4001\u001b[39m \u001b[43m    \u001b[49m\u001b[43mescapechar\u001b[49m\u001b[43m=\u001b[49m\u001b[43mescapechar\u001b[49m\u001b[43m,\u001b[49m\n\u001b[32m   4002\u001b[39m \u001b[43m    \u001b[49m\u001b[43mstorage_options\u001b[49m\u001b[43m=\u001b[49m\u001b[43mstorage_options\u001b[49m\u001b[43m,\u001b[49m\n\u001b[32m   4003\u001b[39m \u001b[43m\u001b[49m\u001b[43m)\u001b[49m\n",
      "\u001b[36mFile \u001b[39m\u001b[32mc:\\Users\\usuario\\Desktop\\bcia\\nlp-team2\\.venv\\Lib\\site-packages\\pandas\\io\\formats\\format.py:1014\u001b[39m, in \u001b[36mDataFrameRenderer.to_csv\u001b[39m\u001b[34m(self, path_or_buf, encoding, sep, columns, index_label, mode, compression, quoting, quotechar, lineterminator, chunksize, date_format, doublequote, escapechar, errors, storage_options)\u001b[39m\n\u001b[32m    993\u001b[39m     created_buffer = \u001b[38;5;28;01mFalse\u001b[39;00m\n\u001b[32m    995\u001b[39m csv_formatter = CSVFormatter(\n\u001b[32m    996\u001b[39m     path_or_buf=path_or_buf,\n\u001b[32m    997\u001b[39m     lineterminator=lineterminator,\n\u001b[32m   (...)\u001b[39m\u001b[32m   1012\u001b[39m     formatter=\u001b[38;5;28mself\u001b[39m.fmt,\n\u001b[32m   1013\u001b[39m )\n\u001b[32m-> \u001b[39m\u001b[32m1014\u001b[39m \u001b[43mcsv_formatter\u001b[49m\u001b[43m.\u001b[49m\u001b[43msave\u001b[49m\u001b[43m(\u001b[49m\u001b[43m)\u001b[49m\n\u001b[32m   1016\u001b[39m \u001b[38;5;28;01mif\u001b[39;00m created_buffer:\n\u001b[32m   1017\u001b[39m     \u001b[38;5;28;01massert\u001b[39;00m \u001b[38;5;28misinstance\u001b[39m(path_or_buf, StringIO)\n",
      "\u001b[36mFile \u001b[39m\u001b[32mc:\\Users\\usuario\\Desktop\\bcia\\nlp-team2\\.venv\\Lib\\site-packages\\pandas\\io\\formats\\csvs.py:251\u001b[39m, in \u001b[36mCSVFormatter.save\u001b[39m\u001b[34m(self)\u001b[39m\n\u001b[32m    247\u001b[39m \u001b[38;5;250m\u001b[39m\u001b[33;03m\"\"\"\u001b[39;00m\n\u001b[32m    248\u001b[39m \u001b[33;03mCreate the writer & save.\u001b[39;00m\n\u001b[32m    249\u001b[39m \u001b[33;03m\"\"\"\u001b[39;00m\n\u001b[32m    250\u001b[39m \u001b[38;5;66;03m# apply compression and byte/text conversion\u001b[39;00m\n\u001b[32m--> \u001b[39m\u001b[32m251\u001b[39m \u001b[38;5;28;01mwith\u001b[39;00m \u001b[43mget_handle\u001b[49m\u001b[43m(\u001b[49m\n\u001b[32m    252\u001b[39m \u001b[43m    \u001b[49m\u001b[38;5;28;43mself\u001b[39;49m\u001b[43m.\u001b[49m\u001b[43mfilepath_or_buffer\u001b[49m\u001b[43m,\u001b[49m\n\u001b[32m    253\u001b[39m \u001b[43m    \u001b[49m\u001b[38;5;28;43mself\u001b[39;49m\u001b[43m.\u001b[49m\u001b[43mmode\u001b[49m\u001b[43m,\u001b[49m\n\u001b[32m    254\u001b[39m \u001b[43m    \u001b[49m\u001b[43mencoding\u001b[49m\u001b[43m=\u001b[49m\u001b[38;5;28;43mself\u001b[39;49m\u001b[43m.\u001b[49m\u001b[43mencoding\u001b[49m\u001b[43m,\u001b[49m\n\u001b[32m    255\u001b[39m \u001b[43m    \u001b[49m\u001b[43merrors\u001b[49m\u001b[43m=\u001b[49m\u001b[38;5;28;43mself\u001b[39;49m\u001b[43m.\u001b[49m\u001b[43merrors\u001b[49m\u001b[43m,\u001b[49m\n\u001b[32m    256\u001b[39m \u001b[43m    \u001b[49m\u001b[43mcompression\u001b[49m\u001b[43m=\u001b[49m\u001b[38;5;28;43mself\u001b[39;49m\u001b[43m.\u001b[49m\u001b[43mcompression\u001b[49m\u001b[43m,\u001b[49m\n\u001b[32m    257\u001b[39m \u001b[43m    \u001b[49m\u001b[43mstorage_options\u001b[49m\u001b[43m=\u001b[49m\u001b[38;5;28;43mself\u001b[39;49m\u001b[43m.\u001b[49m\u001b[43mstorage_options\u001b[49m\u001b[43m,\u001b[49m\n\u001b[32m    258\u001b[39m \u001b[43m\u001b[49m\u001b[43m)\u001b[49m \u001b[38;5;28;01mas\u001b[39;00m handles:\n\u001b[32m    259\u001b[39m     \u001b[38;5;66;03m# Note: self.encoding is irrelevant here\u001b[39;00m\n\u001b[32m    260\u001b[39m     \u001b[38;5;28mself\u001b[39m.writer = csvlib.writer(\n\u001b[32m    261\u001b[39m         handles.handle,\n\u001b[32m    262\u001b[39m         lineterminator=\u001b[38;5;28mself\u001b[39m.lineterminator,\n\u001b[32m   (...)\u001b[39m\u001b[32m    267\u001b[39m         quotechar=\u001b[38;5;28mself\u001b[39m.quotechar,\n\u001b[32m    268\u001b[39m     )\n\u001b[32m    270\u001b[39m     \u001b[38;5;28mself\u001b[39m._save()\n",
      "\u001b[36mFile \u001b[39m\u001b[32mc:\\Users\\usuario\\Desktop\\bcia\\nlp-team2\\.venv\\Lib\\site-packages\\pandas\\io\\common.py:749\u001b[39m, in \u001b[36mget_handle\u001b[39m\u001b[34m(path_or_buf, mode, encoding, compression, memory_map, is_text, errors, storage_options)\u001b[39m\n\u001b[32m    747\u001b[39m \u001b[38;5;66;03m# Only for write methods\u001b[39;00m\n\u001b[32m    748\u001b[39m \u001b[38;5;28;01mif\u001b[39;00m \u001b[33m\"\u001b[39m\u001b[33mr\u001b[39m\u001b[33m\"\u001b[39m \u001b[38;5;129;01mnot\u001b[39;00m \u001b[38;5;129;01min\u001b[39;00m mode \u001b[38;5;129;01mand\u001b[39;00m is_path:\n\u001b[32m--> \u001b[39m\u001b[32m749\u001b[39m     \u001b[43mcheck_parent_directory\u001b[49m\u001b[43m(\u001b[49m\u001b[38;5;28;43mstr\u001b[39;49m\u001b[43m(\u001b[49m\u001b[43mhandle\u001b[49m\u001b[43m)\u001b[49m\u001b[43m)\u001b[49m\n\u001b[32m    751\u001b[39m \u001b[38;5;28;01mif\u001b[39;00m compression:\n\u001b[32m    752\u001b[39m     \u001b[38;5;28;01mif\u001b[39;00m compression != \u001b[33m\"\u001b[39m\u001b[33mzstd\u001b[39m\u001b[33m\"\u001b[39m:\n\u001b[32m    753\u001b[39m         \u001b[38;5;66;03m# compression libraries do not like an explicit text-mode\u001b[39;00m\n",
      "\u001b[36mFile \u001b[39m\u001b[32mc:\\Users\\usuario\\Desktop\\bcia\\nlp-team2\\.venv\\Lib\\site-packages\\pandas\\io\\common.py:616\u001b[39m, in \u001b[36mcheck_parent_directory\u001b[39m\u001b[34m(path)\u001b[39m\n\u001b[32m    614\u001b[39m parent = Path(path).parent\n\u001b[32m    615\u001b[39m \u001b[38;5;28;01mif\u001b[39;00m \u001b[38;5;129;01mnot\u001b[39;00m parent.is_dir():\n\u001b[32m--> \u001b[39m\u001b[32m616\u001b[39m     \u001b[38;5;28;01mraise\u001b[39;00m \u001b[38;5;167;01mOSError\u001b[39;00m(\u001b[33mrf\u001b[39m\u001b[33m\"\u001b[39m\u001b[33mCannot save file into a non-existent directory: \u001b[39m\u001b[33m'\u001b[39m\u001b[38;5;132;01m{\u001b[39;00mparent\u001b[38;5;132;01m}\u001b[39;00m\u001b[33m'\u001b[39m\u001b[33m\"\u001b[39m)\n",
      "\u001b[31mOSError\u001b[39m: Cannot save file into a non-existent directory: '..\\results'"
     ]
    }
   ],
   "source": [
    "# Celda 5: Tabla resumen detallada\n",
    "print(\"\\n📋 TABLA RESUMEN DETALLADA\")\n",
    "print(\"=\"*80)\n",
    "\n",
    "if len(completed_runs) > 0:\n",
    "    summary_table = completed_runs.groupby(['experiment_name', 'model_type']).agg({\n",
    "        'jaccard_score': ['count', 'mean', 'std', 'min', 'max'],\n",
    "        'hamming_loss': ['mean', 'std', 'min', 'max']\n",
    "    }).round(4)\n",
    "    \n",
    "    # Aplanar columnas multinivel\n",
    "    summary_table.columns = [f\"{col[0]}_{col[1]}\" for col in summary_table.columns]\n",
    "    summary_table = summary_table.reset_index()\n",
    "    \n",
    "    print(summary_table.to_string(index=False))\n",
    "    \n",
    "    # Guardar como CSV\n",
    "    summary_table.to_csv('../results/model_comparison_summary.csv', index=False)\n",
    "    print(f\"\\n💾 Tabla guardada en: ../results/model_comparison_summary.csv\")"
   ]
  },
  {
   "cell_type": "code",
   "execution_count": 20,
   "id": "0136e3be",
   "metadata": {},
   "outputs": [
    {
     "name": "stdout",
     "output_type": "stream",
     "text": [
      "\n",
      "🏅 MEJOR MODELO ENCONTRADO\n",
      "========================================\n",
      "🥇 Mejor modelo: logistic\n",
      "📊 Experimento: toxicity-detection-experiments\n",
      "🎯 Jaccard Score: 0.0809\n",
      "📉 Hamming Loss: 0.1363\n",
      "🆔 Run ID: 8d33e27169ad49a7a5c94a19a9585399\n",
      "📈 F1 Macro: 0.1191\n",
      "\n",
      "🔧 PARÁMETROS DEL MEJOR MODELO:\n",
      "  C: 1.0\n",
      "  max_iter: 1000\n",
      "  model_type: logistic\n",
      "  num_features: 3882\n",
      "  num_labels: 8\n",
      "  solver: liblinear\n",
      "  test_samples: 200\n",
      "  train_samples: 800\n",
      "  vectorizer_max_features: 10000\n"
     ]
    }
   ],
   "source": [
    "# Celda 6: Encontrar el mejor modelo\n",
    "print(\"\\n🏅 MEJOR MODELO ENCONTRADO\")\n",
    "print(\"=\"*40)\n",
    "\n",
    "if len(completed_runs) > 0 and 'jaccard_score' in completed_runs.columns:\n",
    "    best_run = completed_runs.loc[completed_runs['jaccard_score'].idxmax()]\n",
    "    \n",
    "    print(f\"🥇 Mejor modelo: {best_run['model_type']}\")\n",
    "    print(f\"📊 Experimento: {best_run['experiment_name']}\")\n",
    "    print(f\"🎯 Jaccard Score: {best_run['jaccard_score']:.4f}\")\n",
    "    print(f\"📉 Hamming Loss: {best_run['hamming_loss']:.4f}\")\n",
    "    print(f\"🆔 Run ID: {best_run['run_id']}\")\n",
    "    \n",
    "    if 'f1_macro' in best_run and pd.notna(best_run['f1_macro']):\n",
    "        print(f\"📈 F1 Macro: {best_run['f1_macro']:.4f}\")\n",
    "    \n",
    "    # Obtener detalles del modelo\n",
    "    client = mlflow.tracking.MlflowClient()\n",
    "    run_details = client.get_run(best_run['run_id'])\n",
    "    \n",
    "    print(f\"\\n🔧 PARÁMETROS DEL MEJOR MODELO:\")\n",
    "    for param_name, param_value in run_details.data.params.items():\n",
    "        print(f\"  {param_name}: {param_value}\")"
   ]
  },
  {
   "cell_type": "code",
   "execution_count": 21,
   "id": "72a2a303",
   "metadata": {},
   "outputs": [
    {
     "ename": "ImportError",
     "evalue": "cannot import name 'assert_never' from 'narwhals._typing_compat' (c:\\Users\\usuario\\Desktop\\bcia\\nlp-team2\\.venv\\Lib\\site-packages\\narwhals\\_typing_compat.py)",
     "output_type": "error",
     "traceback": [
      "\u001b[31m---------------------------------------------------------------------------\u001b[39m",
      "\u001b[31mImportError\u001b[39m                               Traceback (most recent call last)",
      "\u001b[36mCell\u001b[39m\u001b[36m \u001b[39m\u001b[32mIn[21]\u001b[39m\u001b[32m, line 5\u001b[39m\n\u001b[32m      1\u001b[39m \u001b[38;5;66;03m# Celda 7: Plotly interactivo\u001b[39;00m\n\u001b[32m      2\u001b[39m \u001b[38;5;28;01mif\u001b[39;00m \u001b[38;5;28mlen\u001b[39m(completed_runs) > \u001b[32m0\u001b[39m \u001b[38;5;129;01mand\u001b[39;00m \u001b[33m'\u001b[39m\u001b[33mjaccard_score\u001b[39m\u001b[33m'\u001b[39m \u001b[38;5;129;01min\u001b[39;00m completed_runs.columns:\n\u001b[32m      3\u001b[39m \n\u001b[32m      4\u001b[39m     \u001b[38;5;66;03m# Crear gráfico interactivo\u001b[39;00m\n\u001b[32m----> \u001b[39m\u001b[32m5\u001b[39m     fig = \u001b[43mpx\u001b[49m\u001b[43m.\u001b[49m\u001b[43mscatter\u001b[49m\u001b[43m(\u001b[49m\n\u001b[32m      6\u001b[39m \u001b[43m        \u001b[49m\u001b[43mcompleted_runs\u001b[49m\u001b[43m,\u001b[49m\u001b[43m \u001b[49m\n\u001b[32m      7\u001b[39m \u001b[43m        \u001b[49m\u001b[43mx\u001b[49m\u001b[43m=\u001b[49m\u001b[33;43m'\u001b[39;49m\u001b[33;43mjaccard_score\u001b[39;49m\u001b[33;43m'\u001b[39;49m\u001b[43m,\u001b[49m\u001b[43m \u001b[49m\n\u001b[32m      8\u001b[39m \u001b[43m        \u001b[49m\u001b[43my\u001b[49m\u001b[43m=\u001b[49m\u001b[33;43m'\u001b[39;49m\u001b[33;43mhamming_loss\u001b[39;49m\u001b[33;43m'\u001b[39;49m\u001b[43m,\u001b[49m\n\u001b[32m      9\u001b[39m \u001b[43m        \u001b[49m\u001b[43mcolor\u001b[49m\u001b[43m=\u001b[49m\u001b[33;43m'\u001b[39;49m\u001b[33;43mmodel_type\u001b[39;49m\u001b[33;43m'\u001b[39;49m\u001b[43m,\u001b[49m\n\u001b[32m     10\u001b[39m \u001b[43m        \u001b[49m\u001b[43msize\u001b[49m\u001b[43m=\u001b[49m\u001b[33;43m'\u001b[39;49m\u001b[33;43mduration\u001b[39;49m\u001b[33;43m'\u001b[39;49m\u001b[43m \u001b[49m\u001b[38;5;28;43;01mif\u001b[39;49;00m\u001b[43m \u001b[49m\u001b[33;43m'\u001b[39;49m\u001b[33;43mduration\u001b[39;49m\u001b[33;43m'\u001b[39;49m\u001b[43m \u001b[49m\u001b[38;5;129;43;01min\u001b[39;49;00m\u001b[43m \u001b[49m\u001b[43mcompleted_runs\u001b[49m\u001b[43m.\u001b[49m\u001b[43mcolumns\u001b[49m\u001b[43m \u001b[49m\u001b[38;5;28;43;01melse\u001b[39;49;00m\u001b[43m \u001b[49m\u001b[38;5;28;43;01mNone\u001b[39;49;00m\u001b[43m,\u001b[49m\n\u001b[32m     11\u001b[39m \u001b[43m        \u001b[49m\u001b[43mhover_data\u001b[49m\u001b[43m=\u001b[49m\u001b[43m[\u001b[49m\u001b[33;43m'\u001b[39;49m\u001b[33;43mexperiment_name\u001b[39;49m\u001b[33;43m'\u001b[39;49m\u001b[43m,\u001b[49m\u001b[43m \u001b[49m\u001b[33;43m'\u001b[39;49m\u001b[33;43mrun_id\u001b[39;49m\u001b[33;43m'\u001b[39;49m\u001b[43m]\u001b[49m\u001b[43m,\u001b[49m\n\u001b[32m     12\u001b[39m \u001b[43m        \u001b[49m\u001b[43mtitle\u001b[49m\u001b[43m=\u001b[49m\u001b[33;43m'\u001b[39;49m\u001b[33;43mComparación Interactiva de Modelos\u001b[39;49m\u001b[33;43m'\u001b[39;49m\u001b[43m,\u001b[49m\n\u001b[32m     13\u001b[39m \u001b[43m        \u001b[49m\u001b[43mlabels\u001b[49m\u001b[43m=\u001b[49m\u001b[43m{\u001b[49m\n\u001b[32m     14\u001b[39m \u001b[43m            \u001b[49m\u001b[33;43m'\u001b[39;49m\u001b[33;43mjaccard_score\u001b[39;49m\u001b[33;43m'\u001b[39;49m\u001b[43m:\u001b[49m\u001b[43m \u001b[49m\u001b[33;43m'\u001b[39;49m\u001b[33;43mJaccard Score\u001b[39;49m\u001b[33;43m'\u001b[39;49m\u001b[43m,\u001b[49m\n\u001b[32m     15\u001b[39m \u001b[43m            \u001b[49m\u001b[33;43m'\u001b[39;49m\u001b[33;43mhamming_loss\u001b[39;49m\u001b[33;43m'\u001b[39;49m\u001b[43m:\u001b[49m\u001b[43m \u001b[49m\u001b[33;43m'\u001b[39;49m\u001b[33;43mHamming Loss\u001b[39;49m\u001b[33;43m'\u001b[39;49m\u001b[43m,\u001b[49m\n\u001b[32m     16\u001b[39m \u001b[43m            \u001b[49m\u001b[33;43m'\u001b[39;49m\u001b[33;43mmodel_type\u001b[39;49m\u001b[33;43m'\u001b[39;49m\u001b[43m:\u001b[49m\u001b[43m \u001b[49m\u001b[33;43m'\u001b[39;49m\u001b[33;43mTipo de Modelo\u001b[39;49m\u001b[33;43m'\u001b[39;49m\n\u001b[32m     17\u001b[39m \u001b[43m        \u001b[49m\u001b[43m}\u001b[49m\n\u001b[32m     18\u001b[39m \u001b[43m    \u001b[49m\u001b[43m)\u001b[49m\n\u001b[32m     20\u001b[39m     fig.update_layout(\n\u001b[32m     21\u001b[39m         width=\u001b[32m800\u001b[39m,\n\u001b[32m     22\u001b[39m         height=\u001b[32m600\u001b[39m,\n\u001b[32m     23\u001b[39m         showlegend=\u001b[38;5;28;01mTrue\u001b[39;00m\n\u001b[32m     24\u001b[39m     )\n\u001b[32m     26\u001b[39m     fig.show()\n",
      "\u001b[36mFile \u001b[39m\u001b[32mc:\\Users\\usuario\\Desktop\\bcia\\nlp-team2\\.venv\\Lib\\site-packages\\plotly\\express\\_chart_types.py:69\u001b[39m, in \u001b[36mscatter\u001b[39m\u001b[34m(data_frame, x, y, color, symbol, size, hover_name, hover_data, custom_data, text, facet_row, facet_col, facet_col_wrap, facet_row_spacing, facet_col_spacing, error_x, error_x_minus, error_y, error_y_minus, animation_frame, animation_group, category_orders, labels, orientation, color_discrete_sequence, color_discrete_map, color_continuous_scale, range_color, color_continuous_midpoint, symbol_sequence, symbol_map, opacity, size_max, marginal_x, marginal_y, trendline, trendline_options, trendline_color_override, trendline_scope, log_x, log_y, range_x, range_y, render_mode, title, subtitle, template, width, height)\u001b[39m\n\u001b[32m     14\u001b[39m \u001b[38;5;28;01mdef\u001b[39;00m\u001b[38;5;250m \u001b[39m\u001b[34mscatter\u001b[39m(\n\u001b[32m     15\u001b[39m     data_frame=\u001b[38;5;28;01mNone\u001b[39;00m,\n\u001b[32m     16\u001b[39m     x=\u001b[38;5;28;01mNone\u001b[39;00m,\n\u001b[32m   (...)\u001b[39m\u001b[32m     63\u001b[39m     height=\u001b[38;5;28;01mNone\u001b[39;00m,\n\u001b[32m     64\u001b[39m ) -> go.Figure:\n\u001b[32m     65\u001b[39m \u001b[38;5;250m    \u001b[39m\u001b[33;03m\"\"\"\u001b[39;00m\n\u001b[32m     66\u001b[39m \u001b[33;03m    In a scatter plot, each row of `data_frame` is represented by a symbol\u001b[39;00m\n\u001b[32m     67\u001b[39m \u001b[33;03m    mark in 2D space.\u001b[39;00m\n\u001b[32m     68\u001b[39m \u001b[33;03m    \"\"\"\u001b[39;00m\n\u001b[32m---> \u001b[39m\u001b[32m69\u001b[39m     \u001b[38;5;28;01mreturn\u001b[39;00m \u001b[43mmake_figure\u001b[49m\u001b[43m(\u001b[49m\u001b[43margs\u001b[49m\u001b[43m=\u001b[49m\u001b[38;5;28;43mlocals\u001b[39;49m\u001b[43m(\u001b[49m\u001b[43m)\u001b[49m\u001b[43m,\u001b[49m\u001b[43m \u001b[49m\u001b[43mconstructor\u001b[49m\u001b[43m=\u001b[49m\u001b[43mgo\u001b[49m\u001b[43m.\u001b[49m\u001b[43mScatter\u001b[49m\u001b[43m)\u001b[49m\n",
      "\u001b[36mFile \u001b[39m\u001b[32mc:\\Users\\usuario\\Desktop\\bcia\\nlp-team2\\.venv\\Lib\\site-packages\\plotly\\express\\_core.py:2491\u001b[39m, in \u001b[36mmake_figure\u001b[39m\u001b[34m(args, constructor, trace_patch, layout_patch)\u001b[39m\n\u001b[32m   2488\u001b[39m layout_patch = layout_patch \u001b[38;5;129;01mor\u001b[39;00m {}\n\u001b[32m   2489\u001b[39m apply_default_cascade(args)\n\u001b[32m-> \u001b[39m\u001b[32m2491\u001b[39m args = \u001b[43mbuild_dataframe\u001b[49m\u001b[43m(\u001b[49m\u001b[43margs\u001b[49m\u001b[43m,\u001b[49m\u001b[43m \u001b[49m\u001b[43mconstructor\u001b[49m\u001b[43m)\u001b[49m\n\u001b[32m   2492\u001b[39m \u001b[38;5;28;01mif\u001b[39;00m constructor \u001b[38;5;129;01min\u001b[39;00m [go.Treemap, go.Sunburst, go.Icicle] \u001b[38;5;129;01mand\u001b[39;00m args[\u001b[33m\"\u001b[39m\u001b[33mpath\u001b[39m\u001b[33m\"\u001b[39m] \u001b[38;5;129;01mis\u001b[39;00m \u001b[38;5;129;01mnot\u001b[39;00m \u001b[38;5;28;01mNone\u001b[39;00m:\n\u001b[32m   2493\u001b[39m     args = process_dataframe_hierarchy(args)\n",
      "\u001b[36mFile \u001b[39m\u001b[32mc:\\Users\\usuario\\Desktop\\bcia\\nlp-team2\\.venv\\Lib\\site-packages\\plotly\\express\\_core.py:1506\u001b[39m, in \u001b[36mbuild_dataframe\u001b[39m\u001b[34m(args, constructor)\u001b[39m\n\u001b[32m   1504\u001b[39m \u001b[38;5;28;01mif\u001b[39;00m nw.dependencies.is_pandas_like_dataframe(args[\u001b[33m\"\u001b[39m\u001b[33mdata_frame\u001b[39m\u001b[33m\"\u001b[39m]):\n\u001b[32m   1505\u001b[39m     columns = args[\u001b[33m\"\u001b[39m\u001b[33mdata_frame\u001b[39m\u001b[33m\"\u001b[39m].columns  \u001b[38;5;66;03m# This can be multi index\u001b[39;00m\n\u001b[32m-> \u001b[39m\u001b[32m1506\u001b[39m     args[\u001b[33m\"\u001b[39m\u001b[33mdata_frame\u001b[39m\u001b[33m\"\u001b[39m] = \u001b[43mnw\u001b[49m\u001b[43m.\u001b[49m\u001b[43mfrom_native\u001b[49m\u001b[43m(\u001b[49m\u001b[43margs\u001b[49m\u001b[43m[\u001b[49m\u001b[33;43m\"\u001b[39;49m\u001b[33;43mdata_frame\u001b[39;49m\u001b[33;43m\"\u001b[39;49m\u001b[43m]\u001b[49m\u001b[43m,\u001b[49m\u001b[43m \u001b[49m\u001b[43meager_only\u001b[49m\u001b[43m=\u001b[49m\u001b[38;5;28;43;01mTrue\u001b[39;49;00m\u001b[43m)\u001b[49m\n\u001b[32m   1507\u001b[39m     is_pd_like = \u001b[38;5;28;01mTrue\u001b[39;00m\n\u001b[32m   1509\u001b[39m \u001b[38;5;66;03m# data_frame is pandas-like Series (pandas, modin.pandas, cudf)\u001b[39;00m\n",
      "\u001b[36mFile \u001b[39m\u001b[32mc:\\Users\\usuario\\Desktop\\bcia\\nlp-team2\\.venv\\Lib\\site-packages\\narwhals\\stable\\v1\\__init__.py:947\u001b[39m, in \u001b[36mfrom_native\u001b[39m\u001b[34m(native_object, strict, pass_through, eager_only, eager_or_interchange_only, series_only, allow_series, **kwds)\u001b[39m\n\u001b[32m    892\u001b[39m \u001b[38;5;28;01mdef\u001b[39;00m\u001b[38;5;250m \u001b[39m\u001b[34mfrom_native\u001b[39m(  \u001b[38;5;66;03m# noqa: D417\u001b[39;00m\n\u001b[32m    893\u001b[39m     native_object: IntoFrameT | IntoFrame | IntoSeriesT | IntoSeries | T,\n\u001b[32m    894\u001b[39m     *,\n\u001b[32m   (...)\u001b[39m\u001b[32m    901\u001b[39m     **kwds: Any,\n\u001b[32m    902\u001b[39m ) -> LazyFrame[IntoFrameT] | DataFrame[IntoFrameT] | Series[IntoSeriesT] | T:\n\u001b[32m    903\u001b[39m \u001b[38;5;250m    \u001b[39m\u001b[33;03m\"\"\"Convert `native_object` to Narwhals Dataframe, Lazyframe, or Series.\u001b[39;00m\n\u001b[32m    904\u001b[39m \n\u001b[32m    905\u001b[39m \u001b[33;03m    Arguments:\u001b[39;00m\n\u001b[32m    906\u001b[39m \u001b[33;03m        native_object: Raw object from user.\u001b[39;00m\n\u001b[32m    907\u001b[39m \u001b[33;03m            Depending on the other arguments, input object can be\u001b[39;00m\n\u001b[32m    908\u001b[39m \n\u001b[32m    909\u001b[39m \u001b[33;03m            - a Dataframe / Lazyframe / Series supported by Narwhals (pandas, Polars, PyArrow, ...)\u001b[39;00m\n\u001b[32m    910\u001b[39m \u001b[33;03m            - an object which implements `__narwhals_dataframe__`, `__narwhals_lazyframe__`,\u001b[39;00m\n\u001b[32m    911\u001b[39m \u001b[33;03m              or `__narwhals_series__`\u001b[39;00m\n\u001b[32m    912\u001b[39m \u001b[33;03m        strict: Determine what happens if the object can't be converted to Narwhals\u001b[39;00m\n\u001b[32m    913\u001b[39m \n\u001b[32m    914\u001b[39m \u001b[33;03m            - `True` or `None` (default): raise an error\u001b[39;00m\n\u001b[32m    915\u001b[39m \u001b[33;03m            - `False`: pass object through as-is\u001b[39;00m\n\u001b[32m    916\u001b[39m \n\u001b[32m    917\u001b[39m \u001b[33;03m            *Deprecated* (v1.13.0)\u001b[39;00m\n\u001b[32m    918\u001b[39m \n\u001b[32m    919\u001b[39m \u001b[33;03m            Please use `pass_through` instead. Note that `strict` is still available\u001b[39;00m\n\u001b[32m    920\u001b[39m \u001b[33;03m            (and won't emit a deprecation warning) if you use `narwhals.stable.v1`,\u001b[39;00m\n\u001b[32m    921\u001b[39m \u001b[33;03m            see [perfect backwards compatibility policy](../backcompat.md/).\u001b[39;00m\n\u001b[32m    922\u001b[39m \u001b[33;03m        pass_through: Determine what happens if the object can't be converted to Narwhals\u001b[39;00m\n\u001b[32m    923\u001b[39m \n\u001b[32m    924\u001b[39m \u001b[33;03m            - `False` or `None` (default): raise an error\u001b[39;00m\n\u001b[32m    925\u001b[39m \u001b[33;03m            - `True`: pass object through as-is\u001b[39;00m\n\u001b[32m    926\u001b[39m \u001b[33;03m        eager_only: Whether to only allow eager objects\u001b[39;00m\n\u001b[32m    927\u001b[39m \n\u001b[32m    928\u001b[39m \u001b[33;03m            - `False` (default): don't require `native_object` to be eager\u001b[39;00m\n\u001b[32m    929\u001b[39m \u001b[33;03m            - `True`: only convert to Narwhals if `native_object` is eager\u001b[39;00m\n\u001b[32m    930\u001b[39m \u001b[33;03m        eager_or_interchange_only: Whether to only allow eager objects or objects which\u001b[39;00m\n\u001b[32m    931\u001b[39m \u001b[33;03m            have interchange-level support in Narwhals\u001b[39;00m\n\u001b[32m    932\u001b[39m \n\u001b[32m    933\u001b[39m \u001b[33;03m            - `False` (default): don't require `native_object` to either be eager or to\u001b[39;00m\n\u001b[32m    934\u001b[39m \u001b[33;03m              have interchange-level support in Narwhals\u001b[39;00m\n\u001b[32m    935\u001b[39m \u001b[33;03m            - `True`: only convert to Narwhals if `native_object` is eager or has\u001b[39;00m\n\u001b[32m    936\u001b[39m \u001b[33;03m              interchange-level support in Narwhals\u001b[39;00m\n\u001b[32m    937\u001b[39m \n\u001b[32m    938\u001b[39m \u001b[33;03m            See [interchange-only support](../extending.md/#interchange-only-support)\u001b[39;00m\n\u001b[32m    939\u001b[39m \u001b[33;03m            for more details.\u001b[39;00m\n\u001b[32m    940\u001b[39m \u001b[33;03m        series_only: Whether to only allow Series\u001b[39;00m\n\u001b[32m    941\u001b[39m \n\u001b[32m    942\u001b[39m \u001b[33;03m            - `False` (default): don't require `native_object` to be a Series\u001b[39;00m\n\u001b[32m    943\u001b[39m \u001b[33;03m            - `True`: only convert to Narwhals if `native_object` is a Series\u001b[39;00m\n\u001b[32m    944\u001b[39m \u001b[33;03m        allow_series: Whether to allow Series (default is only Dataframe / Lazyframe)\u001b[39;00m\n\u001b[32m    945\u001b[39m \n\u001b[32m    946\u001b[39m \u001b[33;03m            - `False` or `None` (default): don't convert to Narwhals if `native_object` is a Series\u001b[39;00m\n\u001b[32m--> \u001b[39m\u001b[32m947\u001b[39m \u001b[33;03m            - `True`: allow `native_object` to be a Series\u001b[39;00m\n\u001b[32m    948\u001b[39m \n\u001b[32m    949\u001b[39m \u001b[33;03m    Returns:\u001b[39;00m\n\u001b[32m    950\u001b[39m \u001b[33;03m        DataFrame, LazyFrame, Series, or original object, depending\u001b[39;00m\n\u001b[32m    951\u001b[39m \u001b[33;03m            on which combination of parameters was passed.\u001b[39;00m\n\u001b[32m    952\u001b[39m \u001b[33;03m    \"\"\"\u001b[39;00m\n\u001b[32m    953\u001b[39m     \u001b[38;5;66;03m# Early returns\u001b[39;00m\n\u001b[32m    954\u001b[39m     \u001b[38;5;28;01mif\u001b[39;00m \u001b[38;5;28misinstance\u001b[39m(native_object, (DataFrame, LazyFrame)) \u001b[38;5;129;01mand\u001b[39;00m \u001b[38;5;129;01mnot\u001b[39;00m series_only:\n",
      "\u001b[36mFile \u001b[39m\u001b[32mc:\\Users\\usuario\\Desktop\\bcia\\nlp-team2\\.venv\\Lib\\site-packages\\narwhals\\translate.py:456\u001b[39m, in \u001b[36m_from_native_impl\u001b[39m\u001b[34m(native_object, pass_through, eager_only, eager_or_interchange_only, series_only, allow_series, version)\u001b[39m\n\u001b[32m    454\u001b[39m             \u001b[38;5;28;01mraise\u001b[39;00m \u001b[38;5;167;01mTypeError\u001b[39;00m(msg)\n\u001b[32m    455\u001b[39m         \u001b[38;5;28;01mreturn\u001b[39;00m native_object\n\u001b[32m--> \u001b[39m\u001b[32m456\u001b[39m     \u001b[38;5;28;01mreturn\u001b[39;00m (\n\u001b[32m    457\u001b[39m         version.namespace.from_native_object(native_object)\n\u001b[32m    458\u001b[39m         .compliant.from_native(native_object)\n\u001b[32m    459\u001b[39m         .to_narwhals()\n\u001b[32m    460\u001b[39m     )\n\u001b[32m    462\u001b[39m \u001b[38;5;66;03m# PyArrow\u001b[39;00m\n\u001b[32m    463\u001b[39m \u001b[38;5;28;01melif\u001b[39;00m is_native_arrow(native_object):\n",
      "\u001b[36mFile \u001b[39m\u001b[32mc:\\Users\\usuario\\Desktop\\bcia\\nlp-team2\\.venv\\Lib\\site-packages\\narwhals\\_namespace.py:347\u001b[39m, in \u001b[36mfrom_native_object\u001b[39m\u001b[34m(cls, native)\u001b[39m\n\u001b[32m      0\u001b[39m <Error retrieving source code with stack_data see ipython/ipython#13598>\n",
      "\u001b[36mFile \u001b[39m\u001b[32mc:\\Users\\usuario\\Desktop\\bcia\\nlp-team2\\.venv\\Lib\\site-packages\\narwhals\\_namespace.py:243\u001b[39m, in \u001b[36mfrom_backend\u001b[39m\u001b[34m(cls, backend)\u001b[39m\n\u001b[32m    235\u001b[39m \u001b[38;5;129m@overload\u001b[39m\n\u001b[32m    236\u001b[39m \u001b[38;5;129m@classmethod\u001b[39m\n\u001b[32m    237\u001b[39m \u001b[38;5;28;01mdef\u001b[39;00m\u001b[38;5;250m \u001b[39m\u001b[34mfrom_backend\u001b[39m(\n\u001b[32m    238\u001b[39m     \u001b[38;5;28mcls\u001b[39m, backend: IntoBackend, /\n\u001b[32m    239\u001b[39m ) -> Namespace[CompliantNamespaceAny]: ...\n\u001b[32m    241\u001b[39m \u001b[38;5;129m@classmethod\u001b[39m\n\u001b[32m    242\u001b[39m \u001b[38;5;28;01mdef\u001b[39;00m\u001b[38;5;250m \u001b[39m\u001b[34mfrom_backend\u001b[39m(\n\u001b[32m--> \u001b[39m\u001b[32m243\u001b[39m     \u001b[38;5;28mcls\u001b[39m: \u001b[38;5;28mtype\u001b[39m[Namespace[Any]], backend: IntoBackend, /\n\u001b[32m    244\u001b[39m ) -> Namespace[Any]:\n\u001b[32m    245\u001b[39m \u001b[38;5;250m    \u001b[39m\u001b[33;03m\"\"\"Instantiate from native namespace module, string, or Implementation.\u001b[39;00m\n\u001b[32m    246\u001b[39m \n\u001b[32m    247\u001b[39m \u001b[33;03m    Arguments:\u001b[39;00m\n\u001b[32m   (...)\u001b[39m\u001b[32m    256\u001b[39m \u001b[33;03m        Namespace[PolarsNamespace]\u001b[39;00m\n\u001b[32m    257\u001b[39m \u001b[33;03m    \"\"\"\u001b[39;00m\n\u001b[32m    258\u001b[39m     impl = Implementation.from_backend(backend)\n",
      "\u001b[36mFile \u001b[39m\u001b[32mc:\\Users\\usuario\\Desktop\\bcia\\nlp-team2\\.venv\\Lib\\site-packages\\narwhals\\_pandas_like\\namespace.py:14\u001b[39m\n\u001b[32m      9\u001b[39m \u001b[38;5;28;01mfrom\u001b[39;00m\u001b[38;5;250m \u001b[39m\u001b[34;01mnarwhals\u001b[39;00m\u001b[34;01m.\u001b[39;00m\u001b[34;01m_compliant\u001b[39;00m\u001b[38;5;250m \u001b[39m\u001b[38;5;28;01mimport\u001b[39;00m CompliantThen, EagerNamespace, EagerWhen\n\u001b[32m     10\u001b[39m \u001b[38;5;28;01mfrom\u001b[39;00m\u001b[38;5;250m \u001b[39m\u001b[34;01mnarwhals\u001b[39;00m\u001b[34;01m.\u001b[39;00m\u001b[34;01m_expression_parsing\u001b[39;00m\u001b[38;5;250m \u001b[39m\u001b[38;5;28;01mimport\u001b[39;00m (\n\u001b[32m     11\u001b[39m     combine_alias_output_names,\n\u001b[32m     12\u001b[39m     combine_evaluate_output_names,\n\u001b[32m     13\u001b[39m )\n\u001b[32m---> \u001b[39m\u001b[32m14\u001b[39m \u001b[38;5;28;01mfrom\u001b[39;00m\u001b[38;5;250m \u001b[39m\u001b[34;01mnarwhals\u001b[39;00m\u001b[34;01m.\u001b[39;00m\u001b[34;01m_pandas_like\u001b[39;00m\u001b[34;01m.\u001b[39;00m\u001b[34;01mdataframe\u001b[39;00m\u001b[38;5;250m \u001b[39m\u001b[38;5;28;01mimport\u001b[39;00m PandasLikeDataFrame\n\u001b[32m     15\u001b[39m \u001b[38;5;28;01mfrom\u001b[39;00m\u001b[38;5;250m \u001b[39m\u001b[34;01mnarwhals\u001b[39;00m\u001b[34;01m.\u001b[39;00m\u001b[34;01m_pandas_like\u001b[39;00m\u001b[34;01m.\u001b[39;00m\u001b[34;01mexpr\u001b[39;00m\u001b[38;5;250m \u001b[39m\u001b[38;5;28;01mimport\u001b[39;00m PandasLikeExpr\n\u001b[32m     16\u001b[39m \u001b[38;5;28;01mfrom\u001b[39;00m\u001b[38;5;250m \u001b[39m\u001b[34;01mnarwhals\u001b[39;00m\u001b[34;01m.\u001b[39;00m\u001b[34;01m_pandas_like\u001b[39;00m\u001b[34;01m.\u001b[39;00m\u001b[34;01mselectors\u001b[39;00m\u001b[38;5;250m \u001b[39m\u001b[38;5;28;01mimport\u001b[39;00m PandasSelectorNamespace\n",
      "\u001b[36mFile \u001b[39m\u001b[32mc:\\Users\\usuario\\Desktop\\bcia\\nlp-team2\\.venv\\Lib\\site-packages\\narwhals\\_pandas_like\\dataframe.py:10\u001b[39m\n\u001b[32m      7\u001b[39m \u001b[38;5;28;01mimport\u001b[39;00m\u001b[38;5;250m \u001b[39m\u001b[34;01mnumpy\u001b[39;00m\u001b[38;5;250m \u001b[39m\u001b[38;5;28;01mas\u001b[39;00m\u001b[38;5;250m \u001b[39m\u001b[34;01mnp\u001b[39;00m\n\u001b[32m      9\u001b[39m \u001b[38;5;28;01mfrom\u001b[39;00m\u001b[38;5;250m \u001b[39m\u001b[34;01mnarwhals\u001b[39;00m\u001b[34;01m.\u001b[39;00m\u001b[34;01m_compliant\u001b[39;00m\u001b[38;5;250m \u001b[39m\u001b[38;5;28;01mimport\u001b[39;00m EagerDataFrame\n\u001b[32m---> \u001b[39m\u001b[32m10\u001b[39m \u001b[38;5;28;01mfrom\u001b[39;00m\u001b[38;5;250m \u001b[39m\u001b[34;01mnarwhals\u001b[39;00m\u001b[34;01m.\u001b[39;00m\u001b[34;01m_pandas_like\u001b[39;00m\u001b[34;01m.\u001b[39;00m\u001b[34;01mseries\u001b[39;00m\u001b[38;5;250m \u001b[39m\u001b[38;5;28;01mimport\u001b[39;00m PANDAS_TO_NUMPY_DTYPE_MISSING, PandasLikeSeries\n\u001b[32m     11\u001b[39m \u001b[38;5;28;01mfrom\u001b[39;00m\u001b[38;5;250m \u001b[39m\u001b[34;01mnarwhals\u001b[39;00m\u001b[34;01m.\u001b[39;00m\u001b[34;01m_pandas_like\u001b[39;00m\u001b[34;01m.\u001b[39;00m\u001b[34;01mutils\u001b[39;00m\u001b[38;5;250m \u001b[39m\u001b[38;5;28;01mimport\u001b[39;00m (\n\u001b[32m     12\u001b[39m     align_and_extract_native,\n\u001b[32m     13\u001b[39m     get_dtype_backend,\n\u001b[32m   (...)\u001b[39m\u001b[32m     19\u001b[39m     set_index,\n\u001b[32m     20\u001b[39m )\n\u001b[32m     21\u001b[39m \u001b[38;5;28;01mfrom\u001b[39;00m\u001b[38;5;250m \u001b[39m\u001b[34;01mnarwhals\u001b[39;00m\u001b[34;01m.\u001b[39;00m\u001b[34;01m_typing_compat\u001b[39;00m\u001b[38;5;250m \u001b[39m\u001b[38;5;28;01mimport\u001b[39;00m assert_never\n",
      "\u001b[36mFile \u001b[39m\u001b[32mc:\\Users\\usuario\\Desktop\\bcia\\nlp-team2\\.venv\\Lib\\site-packages\\narwhals\\_pandas_like\\series.py:25\u001b[39m\n\u001b[32m     13\u001b[39m \u001b[38;5;28;01mfrom\u001b[39;00m\u001b[38;5;250m \u001b[39m\u001b[34;01mnarwhals\u001b[39;00m\u001b[34;01m.\u001b[39;00m\u001b[34;01m_pandas_like\u001b[39;00m\u001b[34;01m.\u001b[39;00m\u001b[34;01mseries_struct\u001b[39;00m\u001b[38;5;250m \u001b[39m\u001b[38;5;28;01mimport\u001b[39;00m PandasLikeSeriesStructNamespace\n\u001b[32m     14\u001b[39m \u001b[38;5;28;01mfrom\u001b[39;00m\u001b[38;5;250m \u001b[39m\u001b[34;01mnarwhals\u001b[39;00m\u001b[34;01m.\u001b[39;00m\u001b[34;01m_pandas_like\u001b[39;00m\u001b[34;01m.\u001b[39;00m\u001b[34;01mutils\u001b[39;00m\u001b[38;5;250m \u001b[39m\u001b[38;5;28;01mimport\u001b[39;00m (\n\u001b[32m     15\u001b[39m     align_and_extract_native,\n\u001b[32m     16\u001b[39m     get_dtype_backend,\n\u001b[32m   (...)\u001b[39m\u001b[32m     23\u001b[39m     set_index,\n\u001b[32m     24\u001b[39m )\n\u001b[32m---> \u001b[39m\u001b[32m25\u001b[39m \u001b[38;5;28;01mfrom\u001b[39;00m\u001b[38;5;250m \u001b[39m\u001b[34;01mnarwhals\u001b[39;00m\u001b[34;01m.\u001b[39;00m\u001b[34;01m_typing_compat\u001b[39;00m\u001b[38;5;250m \u001b[39m\u001b[38;5;28;01mimport\u001b[39;00m assert_never\n\u001b[32m     26\u001b[39m \u001b[38;5;28;01mfrom\u001b[39;00m\u001b[38;5;250m \u001b[39m\u001b[34;01mnarwhals\u001b[39;00m\u001b[34;01m.\u001b[39;00m\u001b[34;01m_utils\u001b[39;00m\u001b[38;5;250m \u001b[39m\u001b[38;5;28;01mimport\u001b[39;00m (\n\u001b[32m     27\u001b[39m     Implementation,\n\u001b[32m     28\u001b[39m     is_list_of,\n\u001b[32m     29\u001b[39m     parse_version,\n\u001b[32m     30\u001b[39m     validate_backend_version,\n\u001b[32m     31\u001b[39m )\n\u001b[32m     32\u001b[39m \u001b[38;5;28;01mfrom\u001b[39;00m\u001b[38;5;250m \u001b[39m\u001b[34;01mnarwhals\u001b[39;00m\u001b[34;01m.\u001b[39;00m\u001b[34;01mdependencies\u001b[39;00m\u001b[38;5;250m \u001b[39m\u001b[38;5;28;01mimport\u001b[39;00m is_numpy_array_1d, is_pandas_like_series\n",
      "\u001b[31mImportError\u001b[39m: cannot import name 'assert_never' from 'narwhals._typing_compat' (c:\\Users\\usuario\\Desktop\\bcia\\nlp-team2\\.venv\\Lib\\site-packages\\narwhals\\_typing_compat.py)"
     ]
    }
   ],
   "source": [
    "# Celda 7: Plotly interactivo\n",
    "if len(completed_runs) > 0 and 'jaccard_score' in completed_runs.columns:\n",
    "    \n",
    "    # Crear gráfico interactivo\n",
    "    fig = px.scatter(\n",
    "        completed_runs, \n",
    "        x='jaccard_score', \n",
    "        y='hamming_loss',\n",
    "        color='model_type',\n",
    "        size='duration' if 'duration' in completed_runs.columns else None,\n",
    "        hover_data=['experiment_name', 'run_id'],\n",
    "        title='Comparación Interactiva de Modelos',\n",
    "        labels={\n",
    "            'jaccard_score': 'Jaccard Score',\n",
    "            'hamming_loss': 'Hamming Loss',\n",
    "            'model_type': 'Tipo de Modelo'\n",
    "        }\n",
    "    )\n",
    "    \n",
    "    fig.update_layout(\n",
    "        width=800,\n",
    "        height=600,\n",
    "        showlegend=True\n",
    "    )\n",
    "    \n",
    "    fig.show()"
   ]
  }
 ],
 "metadata": {
  "kernelspec": {
   "display_name": ".venv",
   "language": "python",
   "name": "python3"
  },
  "language_info": {
   "codemirror_mode": {
    "name": "ipython",
    "version": 3
   },
   "file_extension": ".py",
   "mimetype": "text/x-python",
   "name": "python",
   "nbconvert_exporter": "python",
   "pygments_lexer": "ipython3",
   "version": "3.13.3"
  }
 },
 "nbformat": 4,
 "nbformat_minor": 5
}
